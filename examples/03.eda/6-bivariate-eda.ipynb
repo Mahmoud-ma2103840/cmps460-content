{
  "cells": [
    {
      "cell_type": "markdown",
      "metadata": {
        "colab_type": "text",
        "id": "2LKKQSiKtnZm"
      },
      "source": [
        "**Bivariate Exploratory Data Analysis (EDA)** exploring two variables at a time. It helps to understand the relationship between two variables and to identify the patterns in the data. In this notebook, I will be using the automobile dataset to perform bivariate EDA."
      ]
    },
    {
      "cell_type": "code",
      "execution_count": null,
      "metadata": {
        "colab": {},
        "colab_type": "code",
        "id": "39QonONl0wUM"
      },
      "outputs": [],
      "source": [
        "#import libraries\n",
        "import matplotlib.pyplot as plt\n",
        "import seaborn as sns\n",
        "import pandas as pd\n",
        "import numpy as np \n",
        "\n",
        "plt.rcParams['figure.figsize'] = (6, 4)\n",
        "plt.rcParams['figure.dpi'] = 150"
      ]
    },
    {
      "cell_type": "code",
      "execution_count": null,
      "metadata": {
        "colab": {
          "base_uri": "https://localhost:8080/",
          "height": 309
        },
        "colab_type": "code",
        "id": "MVZtKK4fRC-h",
        "outputId": "cb70d7af-ee04-434d-e1d1-0ad4b5ae2fcb"
      },
      "outputs": [],
      "source": [
        "# loading data set as Pandas dataframe\n",
        "df = pd.read_csv(\"./datasets/automobile.csv\")\n",
        "df.head()"
      ]
    },
    {
      "cell_type": "markdown",
      "metadata": {
        "colab_type": "text",
        "id": "7KAXhIOymFQ5"
      },
      "source": [
        "# Data Cleaning"
      ]
    },
    {
      "cell_type": "code",
      "execution_count": null,
      "metadata": {
        "colab": {
          "base_uri": "https://localhost:8080/",
          "height": 119
        },
        "colab_type": "code",
        "id": "fi7TyYc3ofV-",
        "outputId": "01f43af0-20a6-47f7-f09c-c6e3d8bdf5b2"
      },
      "outputs": [],
      "source": [
        "# Find out the number of values which are not numeric\n",
        "df['price'].str.isnumeric().value_counts()\n",
        "\n",
        "# List out the values which are not numeric\n",
        "df['price'].loc[df['price'].str.isnumeric() == False]\n",
        "\n",
        "#Setting the missing value to mean of price and convert the datatype to integer\n",
        "price = df['price'].loc[df['price'] != '?']\n",
        "price_mean = price.astype(int).mean()\n",
        "df['price'] = df['price'].replace('?', price_mean).astype(int)\n",
        "df['price'].head()"
      ]
    },
    {
      "cell_type": "code",
      "execution_count": null,
      "metadata": {
        "colab": {
          "base_uri": "https://localhost:8080/",
          "height": 119
        },
        "colab_type": "code",
        "id": "sXltcCWtotMv",
        "outputId": "46991210-cc64-4f4c-ba44-fb8a73dce520"
      },
      "outputs": [],
      "source": [
        "# Cleaning the horsepower field\n",
        "df['horsepower'].str.isnumeric().value_counts()\n",
        "horsepower = df['horsepower'].loc[df['horsepower'] != '?']\n",
        "hp_mean = horsepower.astype(int).mean()\n",
        "df['horsepower'] = df['horsepower'].replace('?',hp_mean).astype(int)\n",
        "df['horsepower'].head()"
      ]
    },
    {
      "cell_type": "code",
      "execution_count": null,
      "metadata": {},
      "outputs": [],
      "source": [
        "# Cleaning the Normalized losses field\n",
        "df[df['normalized-losses']=='?'].count()\n",
        "nl=df['normalized-losses'].loc[df['normalized-losses'] !='?'].count()\n",
        "nmean=nl.astype(int).mean()\n",
        "df['normalized-losses'] = df['normalized-losses'].replace('?',nmean).astype(int)\n",
        "df['normalized-losses'].head()"
      ]
    },
    {
      "cell_type": "markdown",
      "metadata": {
        "colab_type": "text",
        "id": "Srukcqs30zF5"
      },
      "source": [
        "# Bivariate Analysis\n",
        "\n"
      ]
    },
    {
      "cell_type": "code",
      "execution_count": null,
      "metadata": {},
      "outputs": [],
      "source": [
        "# Scatter plot simple example\n",
        "# Example data\n",
        "x = [5, 7, 8, 7, 2, 17, 2, 9, 4, 11, 12, 9, 6]\n",
        "y = [99, 86, 87, 88, 100, 86, 103, 87, 94, 78, 77, 85, 86]\n",
        "\n",
        "# Create a scatter plot\n",
        "plt.scatter(x, y, color='blue', marker='o')  # 'o' represents the shape of the marker\n",
        "\n",
        "# Add labels and title\n",
        "plt.xlabel('X-axis Label')\n",
        "plt.ylabel('Y-axis Label')\n",
        "plt.title('Scatter Plot Example')\n",
        "\n",
        "# Add grid\n",
        "plt.grid(True)"
      ]
    },
    {
      "cell_type": "code",
      "execution_count": null,
      "metadata": {
        "colab": {
          "base_uri": "https://localhost:8080/",
          "height": 611
        },
        "colab_type": "code",
        "id": "Le2rHrIA0woB",
        "outputId": "416a5c87-d2f9-49be-f513-83deb80d4870"
      },
      "outputs": [],
      "source": [
        "# plot the relationship between “horsepower” and “price”\n",
        "plt.scatter(df[\"price\"], df[\"horsepower\"])\n",
        "plt.title(\"Scatter Plot for horsepower vs price\")\n",
        "plt.xlabel(\"horsepower\")\n",
        "plt.ylabel(\"price\")"
      ]
    },
    {
      "cell_type": "code",
      "execution_count": null,
      "metadata": {
        "colab": {
          "base_uri": "https://localhost:8080/",
          "height": 562
        },
        "colab_type": "code",
        "id": "3RrjcaTbZMMd",
        "outputId": "2b5f59ce-47d4-47cb-fc20-04e139ebc8fd"
      },
      "outputs": [],
      "source": [
        "#boxplot\n",
        "sns.boxplot(x=\"engine-location\",y=\"price\",data=df)"
      ]
    },
    {
      "cell_type": "code",
      "execution_count": null,
      "metadata": {
        "colab": {
          "base_uri": "https://localhost:8080/",
          "height": 579
        },
        "colab_type": "code",
        "id": "Xdqy64M-bXCm",
        "outputId": "dff006ef-d58d-4a15-f6ca-2743ba169470"
      },
      "outputs": [],
      "source": [
        "#boxplot to visualize the distribution of \"price\" with types of \"drive-wheels\"\n",
        "sns.boxplot(x=\"drive-wheels\", y=\"price\",data=df)"
      ]
    },
    {
      "cell_type": "markdown",
      "metadata": {
        "colab_type": "text",
        "id": "NU08xvlDbZ9N"
      },
      "source": [
        "Figure above illustrates the range of prices in cars with different wheel types. Boxplot shows the average and median price in respective wheel types and some outliers."
      ]
    },
    {
      "cell_type": "markdown",
      "metadata": {
        "colab_type": "text",
        "id": "DxaVq_1c00Si"
      },
      "source": [
        "# Multivariate Analysis\n",
        "\n"
      ]
    },
    {
      "cell_type": "code",
      "execution_count": null,
      "metadata": {
        "colab": {
          "base_uri": "https://localhost:8080/",
          "height": 939
        },
        "colab_type": "code",
        "id": "GQSCGenHmtyc",
        "outputId": "a36595a2-2c50-4055-eb34-a7e7b3d8ad47"
      },
      "outputs": [],
      "source": [
        "# pair plot with plot type regression\n",
        "sns.pairplot(df,height=2, vars = ['normalized-losses', 'price','horsepower'],  kind=\"reg\")"
      ]
    },
    {
      "cell_type": "code",
      "execution_count": null,
      "metadata": {
        "colab": {
          "base_uri": "https://localhost:8080/",
          "height": 938
        },
        "colab_type": "code",
        "id": "o2_kQbbv0wz8",
        "outputId": "9ea78141-9bea-449a-82c6-fb0ab38ed1e2"
      },
      "outputs": [],
      "source": [
        " #pair plot (matrix scatterplot) of few columns \n",
        "sns.set(style=\"ticks\", color_codes=True)\n",
        "sns.pairplot(df,height=2,vars = ['symboling', 'normalized-losses','wheel-base'], hue=\"drive-wheels\")"
      ]
    },
    {
      "cell_type": "code",
      "execution_count": null,
      "metadata": {},
      "outputs": [],
      "source": [
        "# Simple correlation example\n",
        "from scipy import stats\n",
        "# Create sample data\n",
        "data = {\n",
        "    'Height': [160, 165, 170, 175, 180],\n",
        "    'Weight': [60, 60, 65, 75, 78]\n",
        "}\n",
        "\n",
        "# Create a DataFrame\n",
        "df = pd.DataFrame(data)\n",
        "\n",
        "# Calculate Pearson correlation coefficient\n",
        "pearson_corr, _ = stats.pearsonr(df['Height'], df['Weight'])\n",
        "\n",
        "print(\"Pearson correlation coefficient: {:.4f}\".format(pearson_corr))"
      ]
    },
    {
      "cell_type": "markdown",
      "metadata": {},
      "source": [
        "Pearson correlation coefficient indicates a strong positive linear relationship between height and weight in the sample data."
      ]
    },
    {
      "cell_type": "code",
      "execution_count": null,
      "metadata": {
        "colab": {
          "base_uri": "https://localhost:8080/",
          "height": 51
        },
        "colab_type": "code",
        "id": "MRgglwRlrqU9",
        "outputId": "e0e9081e-298e-469f-8411-6ff8d39e24f3"
      },
      "outputs": [],
      "source": [
        "from scipy import stats\n",
        "\n",
        "pearson_corr, _ = stats.pearsonr(df[\"price\"], df[\"horsepower\"])\n",
        "print('Pearson corr:\\t\\t {:.4f}'.format(pearson_corr))\n"
      ]
    },
    {
      "cell_type": "markdown",
      "metadata": {
        "colab_type": "text",
        "id": "PKgH1SXguBDM"
      },
      "source": [
        "Here the correlation of these two variable is 0.76 which is close to +1 thus the price and horsepower are highly positively correlated. Using pandas corr() function correlation between entire numerical record can be calculated."
      ]
    },
    {
      "cell_type": "code",
      "execution_count": null,
      "metadata": {
        "colab": {
          "base_uri": "https://localhost:8080/",
          "height": 503
        },
        "colab_type": "code",
        "id": "F8vD_PJzt_TU",
        "outputId": "249ad28d-64d0-4698-ffe4-692b303b4a56"
      },
      "outputs": [],
      "source": [
        "df.corr(method='pearson', numeric_only=True)"
      ]
    },
    {
      "cell_type": "markdown",
      "metadata": {
        "colab_type": "text",
        "id": "dqrhKg5XumbQ"
      },
      "source": [
        "Now let's visualize this correlation analysis with heatmap. Heatmap is best technique to make this look beautiful and easier to interpret."
      ]
    },
    {
      "cell_type": "code",
      "execution_count": null,
      "metadata": {
        "colab": {
          "base_uri": "https://localhost:8080/",
          "height": 752
        },
        "colab_type": "code",
        "id": "tzjIUzH6v2Ca",
        "outputId": "eb559ee0-8866-4a01-92bd-81f47cdcda8f"
      },
      "outputs": [],
      "source": [
        "correlation_matrix = df.corr(numeric_only=True)\n",
        "sns.heatmap(correlation_matrix, cmap='YlOrBr', annot=True, fmt=\".1f\")\n",
        "      "
      ]
    },
    {
      "cell_type": "markdown",
      "metadata": {
        "colab_type": "text",
        "id": "L7Jbo0KWx7uZ"
      },
      "source": [
        "A coefficient close to 1 means that there’s a very strong positive correlation between the two variables. The diagonal line is the correlation of the variables to themselves — so they’ll obviously be 1."
      ]
    },
    {
      "cell_type": "code",
      "execution_count": null,
      "metadata": {},
      "outputs": [],
      "source": [
        "# Simple Joint Plot Example\n",
        "\n",
        "# Generate sample data\n",
        "np.random.seed(0)\n",
        "x = np.random.normal(size=100)\n",
        "y = 2 * x + np.random.normal(size=100)\n",
        "\n",
        "# Create a joint plot\n",
        "sns.set(style=\"white\", color_codes=True)\n",
        "sns.jointplot(x=x, y=y, kind=\"scatter\", color=\"skyblue\", \n",
        "              marginal_kws=dict(bins=15, fill=True))\n",
        "\n",
        "# Set plot labels and title\n",
        "plt.xlabel('X Variable')\n",
        "plt.ylabel('Y Variable')\n"
      ]
    },
    {
      "cell_type": "markdown",
      "metadata": {},
      "source": [
        "In this example, we first generate sample data where the variable x follows a normal distribution and the variable y is linearly related to x with some added noise. Then, we use seaborn's jointplot function to create a joint plot of x and y. The kind=\"scatter\" parameter specifies that we want a scatter plot to visualize the relationship between the two variables. Additionally, we set the number of bins for the histograms using the marginal_kws parameter.\n",
        "\n",
        "The resulting joint plot provides insights into the relationship between x and y, including their individual distributions and the correlation between them."
      ]
    },
    {
      "cell_type": "code",
      "execution_count": null,
      "metadata": {},
      "outputs": [],
      "source": [
        "# Grouped Bar Plots example\n",
        "# Sample data\n",
        "data = {\n",
        "    'Region': ['North', 'North', 'South', 'South', 'East', 'East'],\n",
        "    'Quarter': ['Q1', 'Q2', 'Q1', 'Q2', 'Q1', 'Q2'],\n",
        "    'Product_Category': ['A', 'B', 'A', 'B', 'A', 'B'],\n",
        "    'Sales': [100, 120, 80, 90, 110, 100]\n",
        "}\n",
        "\n",
        "df = pd.DataFrame(data)\n",
        "\n",
        "# Create a grouped bar plot using Seaborn\n",
        "sns.set(style=\"whitegrid\")\n",
        "sns.catplot(x=\"Region\", y=\"Sales\", hue=\"Quarter\", col=\"Product_Category\",\n",
        "            data=df, kind=\"bar\", height=4, aspect=0.7, palette=\"Set2\")\n",
        "\n",
        "# Add title and labels\n",
        "#plt.suptitle('Sales Performance by Region and Quarter for Each Product Category')\n",
        "plt.xlabel('Region')\n",
        "plt.ylabel('Sales')"
      ]
    },
    {
      "cell_type": "markdown",
      "metadata": {},
      "source": [
        "In this example, we have a DataFrame df containing information about sales data across different regions, quarters, and product categories. We use Seaborn's `catplot` function to create Grouped Bar Plots where each subplot represents the sales performance of a specific product category broken down by region and quarter. The hue parameter is used to differentiate quarters, and the col parameter separates the plots by product category.\n",
        "\n",
        "This visualization allows us to compare the sales performance of different product categories across regions and quarters, helping us identify trends and patterns in the data. It's a powerful tool for gaining insights into the performance of various factors within a dataset."
      ]
    },
    {
      "cell_type": "code",
      "execution_count": null,
      "metadata": {},
      "outputs": [],
      "source": [
        "# Stacked Bar Plot Example\n",
        "# Sample data\n",
        "data = {\n",
        "    'Month': ['Jan', 'Feb', 'Mar', 'Apr', 'May'],\n",
        "    'Category_A': [150, 200, 180, 220, 250],\n",
        "    'Category_B': [100, 120, 150, 180, 200],\n",
        "    'Category_C': [80, 90, 100, 110, 120]\n",
        "}\n",
        "\n",
        "# Create a DataFrame\n",
        "df = pd.DataFrame(data)\n",
        "\n",
        "plt.figure(figsize=(10, 6))\n",
        "\n",
        "# Stacked bar plot\n",
        "df.set_index('Month').plot(kind='bar', stacked=True)\n",
        "\n",
        "# Adding labels and title\n",
        "plt.xlabel('Month')\n",
        "plt.ylabel('Total Sales')\n",
        "plt.title('Stacked Bar Plot of Sales by Category')\n",
        "plt.legend()"
      ]
    },
    {
      "cell_type": "markdown",
      "metadata": {},
      "source": [
        "In this example, the stacked bar plot illustrates the total sales (Category_A + Category_B + Category_C) for each month, and each category contributes a different color to the overall bar. The height of the entire bar represents the total sales, while the segments represent the contribution of each category to the total sales. This visualization allows for a quick comparison of the sales composition across different months and categories."
      ]
    },
    {
      "cell_type": "code",
      "execution_count": null,
      "metadata": {},
      "outputs": [],
      "source": [
        "# Create a box plot to visualize the distribution of total bill amounts \n",
        "# per day of the week\n",
        "# Load a dataset from Seaborn\n",
        "import seaborn as sns\n",
        "tips = sns.load_dataset(\"tips\")\n",
        "\n",
        "# Create a box plot to visualize the distribution of total bill amounts\n",
        "sns.boxplot(x=\"day\", y=\"total_bill\", data=tips)\n",
        "\n",
        "# Add labels and title\n",
        "plt.xlabel(\"Day of the Week\")\n",
        "plt.ylabel(\"Total Bill ($)\")\n",
        "plt.title(\"Distribution of Total Bills by Day\")"
      ]
    },
    {
      "cell_type": "markdown",
      "metadata": {},
      "source": [
        "The `sns.boxplot()` function creates a collection of box plots where the x-axis represents the categorical variable \"day\" (i.e., Monday, Tuesday, Wednesday, Thursday, Friday, Saturday, Sunday), and the y-axis represents the continuous variable \"total_bill\". Each box plot represents the distribution of total bill amounts for a specific day of the week.\n",
        "\n",
        "By examining the box plots, we can observe any differences in the distribution of total bill amounts across different days. We can identify trends such as whether certain days tend to have higher or lower total bills, the variability in bills across days, and the presence of outliers within each category."
      ]
    }
  ],
  "metadata": {
    "colab": {
      "collapsed_sections": [],
      "name": "Chapter 7- Correlation.ipynb",
      "provenance": []
    },
    "kernelspec": {
      "display_name": "Python 3",
      "name": "python3"
    },
    "language_info": {
      "codemirror_mode": {
        "name": "ipython",
        "version": 3
      },
      "file_extension": ".py",
      "mimetype": "text/x-python",
      "name": "python",
      "nbconvert_exporter": "python",
      "pygments_lexer": "ipython3",
      "version": "3.12.1"
    }
  },
  "nbformat": 4,
  "nbformat_minor": 0
}
