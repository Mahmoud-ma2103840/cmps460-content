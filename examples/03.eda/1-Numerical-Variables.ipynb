{
 "cells": [
  {
   "cell_type": "markdown",
   "metadata": {},
   "source": [
    "# Numerical variables\n",
    "This example is based on the examples posted on GitHub for [Feature Engineering for Machine Learning Course](https://github.com/solegalli/feature-engineering-for-machine-learning)\n",
    "\n",
    "Most variables in a dataset can be classified into one of two major types: **Numerical variables** &\n",
    "**Categorical variables**\n",
    "\n",
    "**Numerical variables** can be further classified into:\n",
    "- **Discrete variables** : whole numbers (counts), e.g., Number of children in the family\n",
    "- **Continuous variables** : may contain any value within a range, eg. house price"
   ]
  },
  {
   "cell_type": "code",
   "execution_count": null,
   "metadata": {},
   "outputs": [],
   "source": [
    "import pandas as pd\n",
    "import matplotlib.pyplot as plt\n",
    "import seaborn as sns"
   ]
  },
  {
   "cell_type": "code",
   "execution_count": null,
   "metadata": {},
   "outputs": [],
   "source": [
    "# Let's load the loans dataset.\n",
    "df = pd.read_csv('./datasets/loan.csv')\n",
    "print(type(df))\n",
    "df.head()"
   ]
  },
  {
   "cell_type": "markdown",
   "metadata": {},
   "source": [
    "# Rename columns\n",
    "# Variable definitions:\n",
    "- disbursed_amount: loan amount given to the borrower.\n",
    "- interest: interest rate.\n",
    "- income: annual income.\n",
    "- target: loan status (paid or being repaid = 1, defaulted = 0)."
   ]
  },
  {
   "cell_type": "code",
   "execution_count": null,
   "metadata": {},
   "outputs": [],
   "source": [
    "df = df.rename(columns={\"disbursed_amount\": \"loan_amount\", \"income\": \"annual_income\", \"target\": \"loan_status\"})\n",
    "print(df.columns)"
   ]
  },
  {
   "cell_type": "markdown",
   "metadata": {},
   "source": [
    "## Continuous variables"
   ]
  },
  {
   "cell_type": "code",
   "execution_count": null,
   "metadata": {},
   "outputs": [],
   "source": [
    "# Let's look at the values of the variable loan_amount.\n",
    "# This is the amount of money requested by the borrower. This variable is continuous.\n",
    "print(df['loan_amount'].unique())\n",
    "df.describe()"
   ]
  },
  {
   "cell_type": "code",
   "execution_count": null,
   "metadata": {},
   "outputs": [],
   "source": [
    "# Let's make a histogram to get familiar with the\n",
    "# variable distribution.\n",
    "\n",
    "# A histogram counts of different intervals (or bins) of a continuous variable. \n",
    "# The x-axis intervals, while the y-axis shows the frequency or count of \n",
    "# observations within each interval.\n",
    "# Bins are the number of intervals you want to divide all of your data into\n",
    "fig = df.loan_amount.hist(bins=50)\n",
    "\n",
    "fig.set_title('Requested loan amount')\n",
    "fig.set_xlabel('Loan amount')\n",
    "fig.set_ylabel('Number of loans')"
   ]
  },
  {
   "cell_type": "markdown",
   "metadata": {},
   "source": [
    "The variable's values vary across the entire value range. This is characteristic of continuous variables."
   ]
  },
  {
   "cell_type": "code",
   "execution_count": null,
   "metadata": {},
   "outputs": [],
   "source": [
    "# To create a histogram with a percentage y-axis, \n",
    "# The code above is using the `histplot` function from the seaborn library (imported as `sns`) to create a histogram of the \"loan_amount\" variable from the dataframe `df`.\n",
    "# The `stat` parameter is set to \"probability\". \n",
    "# This means that the height of each bar will represent the probability \n",
    "# of data points falling into that bin, rather than the count of data points. \n",
    "\n",
    "ax = sns.histplot(data=df, x=\"loan_amount\", bins=30, stat=\"probability\")\n",
    "ax.set(title='Requested loan amount probability distribution', \n",
    "    xlabel='Loan amount')\n",
    "\n",
    "\"\"\"\n",
    "# Another way to create a histogram with a percentage y-axis is to use the `weights` \n",
    "# parameter of the `hist` function \n",
    "\n",
    "observations_count = len(df.loan_amount)\n",
    "\n",
    "fig = df.loan_amount.hist(bins=50, \n",
    "    weights= [1/len(df.loan_amount)] * observations_count)\n",
    "\n",
    "fig.set_title('Requested loan amount probability distribution')\n",
    "fig.set_xlabel('Loan amount')\n",
    "fig.set_ylabel('Percentage')\n",
    "\"\"\""
   ]
  },
  {
   "cell_type": "code",
   "execution_count": null,
   "metadata": {
    "scrolled": true
   },
   "outputs": [],
   "source": [
    "# Let's examine the variable interest rate,\n",
    "# This variable is also continuous: it can take, in principle,\n",
    "# any value within the range.\n",
    "df['interest'].unique()"
   ]
  },
  {
   "cell_type": "code",
   "execution_count": null,
   "metadata": {},
   "outputs": [],
   "source": [
    "# Let's make a histogram to get familiar with the\n",
    "# variable distribution.\n",
    "\n",
    "fig = df['interest'].hist(bins=30)\n",
    "\n",
    "fig.set_title('Interest Rate')\n",
    "fig.set_xlabel('Interest Rate')\n",
    "fig.set_ylabel('Number of Loans')"
   ]
  },
  {
   "cell_type": "markdown",
   "metadata": {},
   "source": [
    "The variable's values vary continuously across the entire value range."
   ]
  },
  {
   "cell_type": "code",
   "execution_count": null,
   "metadata": {},
   "outputs": [],
   "source": [
    "# Now, let's explore the income declared by the customers,\n",
    "# that is, how much they earn yearly.\n",
    "\n",
    "# This variable is also continuous.\n",
    "\n",
    "fig = df['annual_income'].hist(bins=100)\n",
    "\n",
    "# For better visualisation, I display a specific\n",
    "# range in the x-axis.\n",
    "fig.set_xlim(0, 400000)\n",
    "\n",
    "# title and axis legends\n",
    "fig.set_title(\"Customer's Annual Income\")\n",
    "fig.set_xlabel('Annual Income')\n",
    "fig.set_ylabel('Number of Customers')"
   ]
  },
  {
   "cell_type": "markdown",
   "metadata": {},
   "source": [
    "Only a few consumers earn greater salaries, with the majority of salaries falling between USD 30 and USD 70,000.\n",
    "Because this is a continuous variable, the variable's values vary continuously across the variable range."
   ]
  },
  {
   "cell_type": "markdown",
   "metadata": {},
   "source": [
    "## Discrete variables"
   ]
  },
  {
   "cell_type": "code",
   "execution_count": null,
   "metadata": {},
   "outputs": [],
   "source": [
    "# Let's inspect the values of the number_open_accounts variable.\n",
    "# This variable represents the borrower's total number of credit items (for example, credit cards, car loans, mortgages, etc.). \n",
    "# This is a discrete variable, because a borrower can have 1 credit card, but not 3.5 credit cards.\n",
    "\n",
    "# Remove missing values using dropna then get unique ones\n",
    "df['number_open_accounts'].dropna().unique()"
   ]
  },
  {
   "cell_type": "code",
   "execution_count": null,
   "metadata": {},
   "outputs": [],
   "source": [
    "# Let's make an histogram to get familiar with the variable distribution.\n",
    "y = df['number_open_accounts'].value_counts().sort_index()\n",
    "print(y)\n",
    "fig = y.plot.bar()\n",
    "\n",
    "# For better visualisation, I display a specific\n",
    "# value range in the x-axis.\n",
    "fig.set_xlim(0, 30)\n",
    "\n",
    "# Title and axis labels.\n",
    "fig.set_title('Number of open accounts')\n",
    "fig.set_xlabel('Number of open accounts')\n",
    "fig.set_ylabel('Number of Customers')"
   ]
  },
  {
   "cell_type": "markdown",
   "metadata": {},
   "source": [
    "Use a bar chart for discrete variables and histograms for continuous variables"
   ]
  }
 ],
 "metadata": {
  "kernelspec": {
   "display_name": "base",
   "language": "python",
   "name": "python3"
  },
  "language_info": {
   "codemirror_mode": {
    "name": "ipython",
    "version": 3
   },
   "file_extension": ".py",
   "mimetype": "text/x-python",
   "name": "python",
   "nbconvert_exporter": "python",
   "pygments_lexer": "ipython3",
   "version": "3.12.1"
  },
  "toc": {
   "base_numbering": 1,
   "nav_menu": {},
   "number_sections": true,
   "sideBar": true,
   "skip_h1_title": false,
   "title_cell": "Table of Contents",
   "title_sidebar": "Contents",
   "toc_cell": false,
   "toc_position": {},
   "toc_section_display": "block",
   "toc_window_display": true
  }
 },
 "nbformat": 4,
 "nbformat_minor": 1
}
