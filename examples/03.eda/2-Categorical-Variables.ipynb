{
 "cells": [
  {
   "cell_type": "markdown",
   "metadata": {},
   "source": [
    "This example is based on the examples posted on GitHub for [Feature Engineering for Machine Learning Course](https://github.com/solegalli/feature-engineering-for-machine-learning)\n",
    "\n",
    "\n",
    "## Categorical Variables\n",
    "The values of a categorical variable are selected from a group of **categories**, also called **labels**. Examples are gender (male or female) and marital status (single, married, divorced, or widowed).\n",
    "Categorical variables can be further categorized into:\n",
    "- **Ordinal Variables**: can be meaningfully ordered (e.g., height: tall, medium, short)\n",
    "- **Nominal variables**: no inherent order or ranking\n",
    "\n",
    "Sometimes categorical variables are coded as numbers (e.g., gender may be coded as 0 for males and 1 for females). The variable is still categorical, despite the use of numbers."
   ]
  },
  {
   "cell_type": "code",
   "execution_count": null,
   "metadata": {},
   "outputs": [],
   "source": [
    "import pandas as pd\n",
    "import matplotlib.pyplot as plt"
   ]
  },
  {
   "cell_type": "code",
   "execution_count": null,
   "metadata": {},
   "outputs": [],
   "source": [
    "# Let's load the loans dataset.\n",
    "df = pd.read_csv('./datasets/loan.csv')\n",
    "df.head()"
   ]
  },
  {
   "cell_type": "code",
   "execution_count": null,
   "metadata": {},
   "outputs": [],
   "source": [
    "# Let's inspect the variable householder,\n",
    "# which indicates whether the borrowers own their home,\n",
    "# or if they are renting, among other things.\n",
    "\n",
    "df['householder'].unique()"
   ]
  },
  {
   "cell_type": "code",
   "execution_count": null,
   "metadata": {},
   "outputs": [],
   "source": [
    "# Let's make a bar plot with the number of loans\n",
    "# disbursed in each category of home ownership.\n",
    "\n",
    "# The code below counts the number of observations (customers)\n",
    "# in each category and then makes a bar plot.\n",
    "\n",
    "fig = df['householder'].value_counts().plot.bar()\n",
    "fig.set_title('Householder')\n",
    "fig.set_ylabel('Number of customers')"
   ]
  },
  {
   "cell_type": "markdown",
   "metadata": {},
   "source": [
    "The majority of the borrowers either own their house with a mortgage or rent their property. A few borrowers own their homes completely."
   ]
  },
  {
   "cell_type": "code",
   "execution_count": null,
   "metadata": {},
   "outputs": [],
   "source": [
    "df['householder'].value_counts()"
   ]
  },
  {
   "cell_type": "code",
   "execution_count": null,
   "metadata": {},
   "outputs": [],
   "source": [
    "# The \"loan_purpose\" variable is another categorical variable\n",
    "# that indicates how the borrowers intend to use the\n",
    "# money they are borrowing. For example, to improve their\n",
    "# house, or to cancel previous debt.\n",
    "\n",
    "df['loan_purpose'].unique()"
   ]
  },
  {
   "cell_type": "markdown",
   "metadata": {},
   "source": [
    "Debt consolidation means that the borrower will use the loan to cancel previous debts; car purchase means that the borrower will use the money to buy a car; and so on. It gives an idea of the intended use of the loan."
   ]
  },
  {
   "cell_type": "code",
   "execution_count": null,
   "metadata": {},
   "outputs": [],
   "source": [
    "# Let's make a bar plot with the number of borrowers\n",
    "# in each category.\n",
    "\n",
    "# The code below counts the number of observations (borrowers)\n",
    "# per category and then makes a plot.\n",
    "\n",
    "fig = df['loan_purpose'].value_counts().plot.bar()\n",
    "fig.set_title('Loan Purpose')\n",
    "fig.set_ylabel('Number of customers')"
   ]
  },
  {
   "cell_type": "markdown",
   "metadata": {},
   "source": [
    "The majority of debtors plan to use the money to \"consolidate debt.\" This is a common occurrence. The borrowers want to consolidate all of their debts."
   ]
  },
  {
   "cell_type": "code",
   "execution_count": null,
   "metadata": {},
   "outputs": [],
   "source": [
    "# Let's look at one additional categorical variable:\n",
    "# \"market\", which represents the risk band assigned to the borrower.\n",
    "df = df.rename(columns={\"market\": \"risk_band\"})\n",
    "df['risk_band'].sort_values().unique()"
   ]
  },
  {
   "cell_type": "code",
   "execution_count": null,
   "metadata": {},
   "outputs": [],
   "source": [
    "# Let's make a bar plot with the number of borrowers\n",
    "# per category.\n",
    "\n",
    "fig = df['risk_band'].value_counts().sort_index().plot.bar()\n",
    "fig.set_title('Status of the Loan')\n",
    "fig.set_ylabel('Number of customers')"
   ]
  },
  {
   "cell_type": "markdown",
   "metadata": {},
   "source": [
    "Most customers are assigned to risk bands B and C. A and B are lower risk customers, and E is the highest risk customer. The higher the risk, the more likely the customer is to default; thus, the finance companies charge higher interest rates on those loans."
   ]
  },
  {
   "cell_type": "markdown",
   "metadata": {},
   "source": [
    "## Binary variables"
   ]
  },
  {
   "cell_type": "code",
   "execution_count": null,
   "metadata": {},
   "outputs": [],
   "source": [
    "# A binary variable, can take 2 values.\n",
    "# e.g., variable \"loan_status\", either the loan is defaulted (1) or not (0).\n",
    "df = df.rename(columns={\"target\": \"loan_status\"})\n",
    "df['loan_status'].unique()"
   ]
  },
  {
   "cell_type": "code",
   "execution_count": null,
   "metadata": {},
   "outputs": [],
   "source": [
    "# Let's make a bar plot with the number of loans per loan status.\n",
    "loan_status_counts = df['loan_status'].value_counts()\n",
    "fig = loan_status_counts.plot.bar()\n",
    "fig.set_title('Status of the Loan')\n",
    "fig.set_xlabel('Loan Status')\n",
    "fig.set_ylabel('Number of loans')\n",
    "\n",
    "for indx, value in enumerate(loan_status_counts):\n",
    "    fig.text(indx, value, str(value), \n",
    "            color = 'brown', fontweight = 'bold')"
   ]
  },
  {
   "cell_type": "markdown",
   "metadata": {},
   "source": [
    "As we can see, the variable shows only 2 values, 0 and 1, and the majority of the loans have not been defaulted."
   ]
  },
  {
   "cell_type": "code",
   "execution_count": null,
   "metadata": {},
   "outputs": [],
   "source": [
    "# Let's make a Pie chart showing the % of defaulted (1) or not (0)\n",
    "loan_status_counts = df['loan_status'].value_counts()\n",
    "print(loan_status_counts)\n",
    "\n",
    "loan_status_counts = loan_status_counts.rename({0: 'Paid', 1: 'Defaulted'})\n",
    "print(loan_status_counts)\n",
    "\n",
    "total = loan_status_counts.values.sum()\n",
    "print(f'Loans count: {total}')\n",
    "\n",
    "def fmt(x):\n",
    "    return '{:.1f}%\\n{:.0f}'.format(x, total*x/100)\n",
    "\n",
    "plt.pie(x=loan_status_counts.values, labels=loan_status_counts.index, autopct=fmt)"
   ]
  },
  {
   "cell_type": "code",
   "execution_count": null,
   "metadata": {},
   "outputs": [],
   "source": [
    "# Finally, let's look at a variable that is numerical,\n",
    "# but its numbers have no real meaning.\n",
    "\n",
    "df['customer_id'].head()"
   ]
  },
  {
   "cell_type": "markdown",
   "metadata": {},
   "source": [
    "Each id corresponds to a single consumer. This number is assigned to uniquely identify each customer."
   ]
  },
  {
   "cell_type": "code",
   "execution_count": null,
   "metadata": {},
   "outputs": [],
   "source": [
    "# The variable has as many different id values as customers:\n",
    "# in this case 10000.\n",
    "\n",
    "len(df['customer_id'].unique())"
   ]
  }
 ],
 "metadata": {
  "kernelspec": {
   "display_name": "base",
   "language": "python",
   "name": "python3"
  },
  "language_info": {
   "codemirror_mode": {
    "name": "ipython",
    "version": 3
   },
   "file_extension": ".py",
   "mimetype": "text/x-python",
   "name": "python",
   "nbconvert_exporter": "python",
   "pygments_lexer": "ipython3",
   "version": "3.12.1"
  },
  "toc": {
   "base_numbering": 1,
   "nav_menu": {},
   "number_sections": true,
   "sideBar": true,
   "skip_h1_title": false,
   "title_cell": "Table of Contents",
   "title_sidebar": "Contents",
   "toc_cell": false,
   "toc_position": {},
   "toc_section_display": "block",
   "toc_window_display": true
  }
 },
 "nbformat": 4,
 "nbformat_minor": 1
}
