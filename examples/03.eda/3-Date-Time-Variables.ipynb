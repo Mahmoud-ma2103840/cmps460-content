{
 "cells": [
  {
   "cell_type": "markdown",
   "metadata": {},
   "source": [
    "# Datetime variables\n",
    "This example is based on the examples posted on GitHub for [Feature Engineering for Machine Learning Course](https://github.com/solegalli/feature-engineering-for-machine-learning)\n",
    "\n",
    "Datetime variables take dates and / or time as values. For example, date of birth ('29-08-1987'). Datetime variables can contain dates only, times only, or dates and time. Before using in machine learning we often extract values from datetime variables e.g., year and month."
   ]
  },
  {
   "cell_type": "code",
   "execution_count": null,
   "metadata": {},
   "outputs": [],
   "source": [
    "import pandas as pd\n",
    "import matplotlib.pyplot as plt"
   ]
  },
  {
   "cell_type": "code",
   "execution_count": null,
   "metadata": {},
   "outputs": [],
   "source": [
    "# Let's load the dataset.\n",
    "df = pd.read_csv('./datasets/loan.csv')\n",
    "df.head()"
   ]
  },
  {
   "cell_type": "code",
   "execution_count": null,
   "metadata": {},
   "outputs": [],
   "source": [
    "# Pandas assigns type 'object' to dates when loading from csv.\n",
    "# Let's have a look:\n",
    "df[['date_issued', 'date_last_payment']].dtypes"
   ]
  },
  {
   "cell_type": "markdown",
   "metadata": {},
   "source": [
    "Both **date_issued** and **date_last_payment** are cast as objects. We need to change their data type to datetime."
   ]
  },
  {
   "cell_type": "code",
   "execution_count": null,
   "metadata": {},
   "outputs": [],
   "source": [
    "# Let's parse the dates into datetime format.\n",
    "# This will allow us to make some analysis afterwards.\n",
    "\n",
    "df['date_issued_dt'] = pd.to_datetime(df['date_issued'])\n",
    "df['date_last_payment_dt'] = pd.to_datetime(df['date_last_payment'])\n",
    "\n",
    "df[['date_issued', 'date_issued_dt', 'date_last_payment', 'date_last_payment_dt']].head(3)\n",
    "df[['date_issued', 'date_issued_dt', 'date_last_payment', 'date_last_payment_dt']].dtypes"
   ]
  },
  {
   "cell_type": "code",
   "execution_count": null,
   "metadata": {},
   "outputs": [],
   "source": [
    "# Let's extract the month and the year from the \n",
    "# datetime variable to make plots.\n",
    "df['month'] = df['date_issued_dt'].dt.month\n",
    "df['year'] = df['date_issued_dt'].dt.year"
   ]
  },
  {
   "cell_type": "markdown",
   "metadata": {},
   "source": [
    "**unstack(): pivot from rows to columns**\n",
    "\n",
    "<img src=\"./images/unstack.png\" alt=\"unstack illustration\" style=\"width:500px;height:auto;\">"
   ]
  },
  {
   "cell_type": "code",
   "execution_count": null,
   "metadata": {},
   "outputs": [],
   "source": [
    "# Let's see how much money has been disbursed\n",
    "# over the years to the different risk bands\n",
    "df = df.rename(columns={\"market\": \"risk_band\", \"disbursed_amount\": \"loan_amount\"})\n",
    "\n",
    "df2 = df.groupby(['year', 'month', 'risk_band'])['loan_amount'].sum()\n",
    "print(df2)\n",
    "\n",
    "df2 = df2.unstack()\n",
    "print(df2)\n",
    "\n",
    "fig = df2.plot(figsize=(14, 8))\n",
    "\n",
    "fig.set_title('Loan amount in time')\n",
    "fig.set_ylabel('Loan Amount')"
   ]
  },
  {
   "cell_type": "markdown",
   "metadata": {},
   "source": [
    "This bank seems to have increased the amount of money lent from 2012 onwards. The tendency indicates that they will continue to grow. In addition, we can see that their major business comes from lending money to lowest-risk B and C-grade borrowers."
   ]
  }
 ],
 "metadata": {
  "kernelspec": {
   "display_name": "base",
   "language": "python",
   "name": "python3"
  },
  "language_info": {
   "codemirror_mode": {
    "name": "ipython",
    "version": 3
   },
   "file_extension": ".py",
   "mimetype": "text/x-python",
   "name": "python",
   "nbconvert_exporter": "python",
   "pygments_lexer": "ipython3",
   "version": "3.12.1"
  },
  "toc": {
   "base_numbering": 1,
   "nav_menu": {},
   "number_sections": true,
   "sideBar": true,
   "skip_h1_title": false,
   "title_cell": "Table of Contents",
   "title_sidebar": "Contents",
   "toc_cell": false,
   "toc_position": {
    "height": "563px",
    "left": "0px",
    "right": "867.4px",
    "top": "107px",
    "width": "210.2px"
   },
   "toc_section_display": "block",
   "toc_window_display": true
  }
 },
 "nbformat": 4,
 "nbformat_minor": 1
}
