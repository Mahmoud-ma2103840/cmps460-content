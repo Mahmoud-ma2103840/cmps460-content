{
  "cells": [
    {
      "cell_type": "markdown",
      "metadata": {
        "colab_type": "text",
        "id": "2LKKQSiKtnZm"
      },
      "source": [
        "**Univariate Exploratory Data Analysis (EDA)** is the simplest form of analyzing one variable at a time. It's main purpose is to explore data through summary statistics and visual charts, and graphs to (1) finds patterns in the data, and (2) make better decisions regarding data pre-processing tasks."
      ]
    },
    {
      "cell_type": "code",
      "execution_count": null,
      "metadata": {
        "colab": {},
        "colab_type": "code",
        "id": "39QonONl0wUM"
      },
      "outputs": [],
      "source": [
        "#import libraries\n",
        "import matplotlib.pyplot as plt\n",
        "import seaborn as sns\n",
        "import pandas as pd\n",
        "import numpy as np"
      ]
    },
    {
      "cell_type": "code",
      "execution_count": null,
      "metadata": {
        "colab": {
          "base_uri": "https://localhost:8080/",
          "height": 309
        },
        "colab_type": "code",
        "id": "MVZtKK4fRC-h",
        "outputId": "cb70d7af-ee04-434d-e1d1-0ad4b5ae2fcb"
      },
      "outputs": [],
      "source": [
        "# loading data set as Pandas dataframe\n",
        "df = pd.read_csv(\"./datasets/automobile.csv\")\n",
        "df.head()"
      ]
    },
    {
      "cell_type": "code",
      "execution_count": null,
      "metadata": {
        "colab": {
          "base_uri": "https://localhost:8080/",
          "height": 476
        },
        "colab_type": "code",
        "id": "--5UJQTzRKpK",
        "outputId": "7df9c0e7-6672-48b0-f211-bc8e69d511e3"
      },
      "outputs": [],
      "source": [
        "df.dtypes"
      ]
    },
    {
      "cell_type": "markdown",
      "metadata": {
        "colab_type": "text",
        "id": "7KAXhIOymFQ5"
      },
      "source": [
        "# Data Cleaning"
      ]
    },
    {
      "cell_type": "code",
      "execution_count": null,
      "metadata": {
        "colab": {
          "base_uri": "https://localhost:8080/",
          "height": 119
        },
        "colab_type": "code",
        "id": "fi7TyYc3ofV-",
        "outputId": "01f43af0-20a6-47f7-f09c-c6e3d8bdf5b2"
      },
      "outputs": [],
      "source": [
        "# Find out the number of values which are not numeric\n",
        "df['price'].str.isnumeric().value_counts()\n",
        "\n",
        "# List out the values which are not numeric\n",
        "df['price'].loc[df['price'].str.isnumeric() == False]\n",
        "\n",
        "#Setting the missing value to mean of price and convert the datatype to integer\n",
        "price = df['price'].loc[df['price'] != '?']\n",
        "price_mean = price.astype(int).mean()\n",
        "df['price'] = df['price'].replace('?', price_mean).astype(int)\n",
        "df['price'].head()\n"
      ]
    },
    {
      "cell_type": "code",
      "execution_count": null,
      "metadata": {},
      "outputs": [],
      "source": [
        "print( \"Mean: {:.2f}\".format(df['price'].mean()))\n",
        "print( \"Median: {:.2f}\".format(df['price'].median()))\n",
        "print( \"Std: {:.2f}\".format(df['price'].std()))\n",
        "print( \"Var: {:.2f}\".format(df['price'].var()))\n",
        "print( \"Quantiles: \\n\",df['price'].quantile([0.25,0.5,0.75]))"
      ]
    },
    {
      "cell_type": "code",
      "execution_count": null,
      "metadata": {
        "colab": {
          "base_uri": "https://localhost:8080/",
          "height": 119
        },
        "colab_type": "code",
        "id": "sXltcCWtotMv",
        "outputId": "46991210-cc64-4f4c-ba44-fb8a73dce520"
      },
      "outputs": [],
      "source": [
        "# Cleaning the horsepower field\n",
        "df['horsepower'].str.isnumeric().value_counts()\n",
        "horsepower = df['horsepower'].loc[df['horsepower'] != '?']\n",
        "hp_mean = horsepower.astype(int).mean()\n",
        "df['horsepower'] = df['horsepower'].replace('?',hp_mean).astype(int)\n",
        "df['horsepower'].head()"
      ]
    },
    {
      "cell_type": "code",
      "execution_count": null,
      "metadata": {
        "colab": {
          "base_uri": "https://localhost:8080/",
          "height": 119
        },
        "colab_type": "code",
        "id": "aPZl-Jleo0hT",
        "outputId": "74bb7337-1f3a-47f8-f297-073e4395b913"
      },
      "outputs": [],
      "source": [
        "# Cleaning the Normalized losses field\n",
        "df[df['normalized-losses']=='?'].count()\n",
        "nl=df['normalized-losses'].loc[df['normalized-losses'] !='?'].count()\n",
        "nmean=nl.astype(int).mean()\n",
        "df['normalized-losses'] = df['normalized-losses'].replace('?',nmean).astype(int)\n",
        "df['normalized-losses'].head()"
      ]
    },
    {
      "cell_type": "markdown",
      "metadata": {
        "colab_type": "text",
        "id": "WYXxJPrMRSAs"
      },
      "source": [
        "Now computing the Measure of central tendency of the values in column height. Remember taking only a single column of the data set we are making a univariate analysis."
      ]
    },
    {
      "cell_type": "code",
      "execution_count": null,
      "metadata": {
        "colab": {
          "base_uri": "https://localhost:8080/",
          "height": 51
        },
        "colab_type": "code",
        "id": "u1yBf6vtR8j7",
        "outputId": "92804e07-5f37-4252-d301-016e4f2d2f6a"
      },
      "outputs": [],
      "source": [
        "#calculate mean, median and mode of dat set height\n",
        "mean = df[\"height\"].mean()\n",
        "median =df[\"height\"].median()\n",
        "mode = df[\"height\"].mode()\n",
        "print(mean , median, mode)"
      ]
    },
    {
      "cell_type": "markdown",
      "metadata": {
        "colab_type": "text",
        "id": "5DUEOh8_SOUk"
      },
      "source": [
        "# Data Visualization\n",
        "Now let's visualize this analysis in graph."
      ]
    },
    {
      "cell_type": "code",
      "execution_count": null,
      "metadata": {
        "colab": {
          "base_uri": "https://localhost:8080/",
          "height": 803
        },
        "colab_type": "code",
        "id": "ope2pejRTJ8O",
        "outputId": "c59ef643-77cd-41e6-cb92-c8f7ea723b15"
      },
      "outputs": [],
      "source": [
        "#distribution plot\n",
        "df.height.hist()"
      ]
    },
    {
      "cell_type": "markdown",
      "metadata": {
        "colab_type": "text",
        "id": "iZsqPX50VS_F"
      },
      "source": [
        "From the above graph, we can observe that the hight of most cars ranges from 53 to 57."
      ]
    },
    {
      "cell_type": "code",
      "execution_count": null,
      "metadata": {
        "colab": {
          "base_uri": "https://localhost:8080/",
          "height": 803
        },
        "colab_type": "code",
        "id": "C2sMcnmvWFmu",
        "outputId": "5b0b360a-2f36-42de-e0b3-7a4ca19030ff"
      },
      "outputs": [],
      "source": [
        "df.price.hist()"
      ]
    },
    {
      "cell_type": "markdown",
      "metadata": {},
      "source": [
        "From the above graph, we can say that the price ranges from 5,000 to 45,000 but the price for most cars ranges between 5,000 to 10,000.\n",
        "\n",
        "The box plot is also effective visual representation of statical measures like median and quartiles in univariate analysis."
      ]
    },
    {
      "cell_type": "code",
      "execution_count": null,
      "metadata": {},
      "outputs": [],
      "source": [
        "# Calculate skewness\n",
        "skewness = df.price.skew()\n",
        "if skewness > 0:\n",
        "    print(\"Positive Skewness: {:.2f}\".format(skewness))\n",
        "elif skewness < 0:  \n",
        "    print(\"Negative Skewness: {:.2f}\".format(skewness))\n",
        "else:\n",
        "    print(\"No Skewness\")\n",
        "    "
      ]
    },
    {
      "cell_type": "code",
      "execution_count": null,
      "metadata": {},
      "outputs": [],
      "source": [
        "# Simple poxplot example\n",
        "\n",
        "# Generating random numbers from a normal distribution with \n",
        "# mean 100 and standard deviation 20\n",
        "np.random.seed(10)\n",
        "data = np.random.normal(100, 20, 200)\n",
        "plt.figure(figsize =(10, 7))\n",
        "# Creating plot\n",
        "plt.boxplot(data)"
      ]
    },
    {
      "cell_type": "code",
      "execution_count": null,
      "metadata": {
        "colab": {
          "base_uri": "https://localhost:8080/",
          "height": 562
        },
        "colab_type": "code",
        "id": "ADjS4KZpympV",
        "outputId": "124f70b2-e93d-485c-87c3-e8dcb72a574b"
      },
      "outputs": [],
      "source": [
        "#boxplot for price of cars\n",
        "sns.boxplot(data=df, x=\"price\")"
      ]
    },
    {
      "cell_type": "markdown",
      "metadata": {
        "colab_type": "text",
        "id": "BVzYyxI5zOCZ"
      },
      "source": [
        "The right border of the box is Q3 and the left border of the box is Q1. Whiskers extend from both sides of the box boundaries toward ± IQR × 1.5. Any values beyond these limits are marked as outliers (using points)."
      ]
    },
    {
      "cell_type": "code",
      "execution_count": null,
      "metadata": {},
      "outputs": [],
      "source": [
        "# Simple lineplot example\n",
        "months = [1, 2, 3, 4, 5, 6, 7]\n",
        "sales = [74, 75.8, 80, 85, 90.5, 60, 70.5]\n",
        "\n",
        "sales_df = pd.DataFrame({\"Month\": months, \"Sales\": sales})\n",
        "sns.lineplot(x = \"Month\", y = \"Sales\", data=sales_df, marker='o')"
      ]
    },
    {
      "cell_type": "code",
      "execution_count": null,
      "metadata": {},
      "outputs": [],
      "source": [
        "# Simple lineplot example\n",
        "# Sample monthly sales data\n",
        "months = pd.date_range(start='2023-01-01', end='2023-12-01', freq='MS')\n",
        "sales = [1000, 1200, 1100, 1300, 1400, 1500, 1600, 1800, 1700, 1200, 1800, 2000]\n",
        "\n",
        "# Create a DataFrame\n",
        "df_sales = pd.DataFrame({'Month': months, 'Sales': sales})\n",
        "sns.lineplot(x = \"Month\", y = \"Sales\", data=df_sales, marker='o')\n",
        "\n",
        "# Plotting the LinePlot\n",
        "#plt.grid(True)\n",
        "plt.xticks(rotation=45)\n",
        "plt.tight_layout()"
      ]
    },
    {
      "cell_type": "markdown",
      "metadata": {},
      "source": [
        "In this example, the LinePlot visualizes the monthly sales trend for the retail store in 2023. We can observe any fluctuations or any seasonal patterns in sales over the course of the year, helping stakeholders understand the performance of the business over time. e.g. upward trend with growth in sales except a drop in the month of October."
      ]
    }
  ],
  "metadata": {
    "colab": {
      "collapsed_sections": [],
      "name": "Chapter 7- Correlation.ipynb",
      "provenance": []
    },
    "kernelspec": {
      "display_name": "Python 3",
      "name": "python3"
    },
    "language_info": {
      "codemirror_mode": {
        "name": "ipython",
        "version": 3
      },
      "file_extension": ".py",
      "mimetype": "text/x-python",
      "name": "python",
      "nbconvert_exporter": "python",
      "pygments_lexer": "ipython3",
      "version": "3.12.1"
    }
  },
  "nbformat": 4,
  "nbformat_minor": 0
}
