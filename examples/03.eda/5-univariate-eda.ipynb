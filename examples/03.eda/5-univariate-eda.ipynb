{
  "cells": [
    {
      "cell_type": "markdown",
      "metadata": {
        "colab_type": "text",
        "id": "2LKKQSiKtnZm"
      },
      "source": [
        "**Univariate Exploratory Data Analysis (EDA)** is the simplest form of analyzing one variable at a time. It's main purpose is to explore data through summary statistics and visual charts, and graphs to (1) finds patterns in the data, and (2) make better decisions regarding data pre-processing tasks."
      ]
    },
    {
      "cell_type": "code",
      "execution_count": 52,
      "metadata": {
        "colab": {},
        "colab_type": "code",
        "id": "39QonONl0wUM"
      },
      "outputs": [],
      "source": [
        "#import libraries\n",
        "import matplotlib.pyplot as plt\n",
        "import seaborn as sns\n",
        "import pandas as pd\n",
        "import numpy as np"
      ]
    },
    {
      "cell_type": "code",
      "execution_count": 53,
      "metadata": {
        "colab": {
          "base_uri": "https://localhost:8080/",
          "height": 309
        },
        "colab_type": "code",
        "id": "MVZtKK4fRC-h",
        "outputId": "cb70d7af-ee04-434d-e1d1-0ad4b5ae2fcb"
      },
      "outputs": [
        {
          "data": {
            "text/html": [
              "<div>\n",
              "<style scoped>\n",
              "    .dataframe tbody tr th:only-of-type {\n",
              "        vertical-align: middle;\n",
              "    }\n",
              "\n",
              "    .dataframe tbody tr th {\n",
              "        vertical-align: top;\n",
              "    }\n",
              "\n",
              "    .dataframe thead th {\n",
              "        text-align: right;\n",
              "    }\n",
              "</style>\n",
              "<table border=\"1\" class=\"dataframe\">\n",
              "  <thead>\n",
              "    <tr style=\"text-align: right;\">\n",
              "      <th></th>\n",
              "      <th>symboling</th>\n",
              "      <th>normalized-losses</th>\n",
              "      <th>make</th>\n",
              "      <th>fuel-type</th>\n",
              "      <th>aspiration</th>\n",
              "      <th>num-of-doors</th>\n",
              "      <th>body-style</th>\n",
              "      <th>drive-wheels</th>\n",
              "      <th>engine-location</th>\n",
              "      <th>wheel-base</th>\n",
              "      <th>...</th>\n",
              "      <th>engine-size</th>\n",
              "      <th>fuel-system</th>\n",
              "      <th>bore</th>\n",
              "      <th>stroke</th>\n",
              "      <th>compression-ratio</th>\n",
              "      <th>horsepower</th>\n",
              "      <th>peak-rpm</th>\n",
              "      <th>city-mpg</th>\n",
              "      <th>highway-mpg</th>\n",
              "      <th>price</th>\n",
              "    </tr>\n",
              "  </thead>\n",
              "  <tbody>\n",
              "    <tr>\n",
              "      <th>0</th>\n",
              "      <td>3</td>\n",
              "      <td>?</td>\n",
              "      <td>alfa-romero</td>\n",
              "      <td>gas</td>\n",
              "      <td>std</td>\n",
              "      <td>two</td>\n",
              "      <td>convertible</td>\n",
              "      <td>rwd</td>\n",
              "      <td>front</td>\n",
              "      <td>88.6</td>\n",
              "      <td>...</td>\n",
              "      <td>130</td>\n",
              "      <td>mpfi</td>\n",
              "      <td>3.47</td>\n",
              "      <td>2.68</td>\n",
              "      <td>9.0</td>\n",
              "      <td>111</td>\n",
              "      <td>5000</td>\n",
              "      <td>21</td>\n",
              "      <td>27</td>\n",
              "      <td>13495</td>\n",
              "    </tr>\n",
              "    <tr>\n",
              "      <th>1</th>\n",
              "      <td>3</td>\n",
              "      <td>?</td>\n",
              "      <td>alfa-romero</td>\n",
              "      <td>gas</td>\n",
              "      <td>std</td>\n",
              "      <td>two</td>\n",
              "      <td>convertible</td>\n",
              "      <td>rwd</td>\n",
              "      <td>front</td>\n",
              "      <td>88.6</td>\n",
              "      <td>...</td>\n",
              "      <td>130</td>\n",
              "      <td>mpfi</td>\n",
              "      <td>3.47</td>\n",
              "      <td>2.68</td>\n",
              "      <td>9.0</td>\n",
              "      <td>111</td>\n",
              "      <td>5000</td>\n",
              "      <td>21</td>\n",
              "      <td>27</td>\n",
              "      <td>16500</td>\n",
              "    </tr>\n",
              "    <tr>\n",
              "      <th>2</th>\n",
              "      <td>1</td>\n",
              "      <td>?</td>\n",
              "      <td>alfa-romero</td>\n",
              "      <td>gas</td>\n",
              "      <td>std</td>\n",
              "      <td>two</td>\n",
              "      <td>hatchback</td>\n",
              "      <td>rwd</td>\n",
              "      <td>front</td>\n",
              "      <td>94.5</td>\n",
              "      <td>...</td>\n",
              "      <td>152</td>\n",
              "      <td>mpfi</td>\n",
              "      <td>2.68</td>\n",
              "      <td>3.47</td>\n",
              "      <td>9.0</td>\n",
              "      <td>154</td>\n",
              "      <td>5000</td>\n",
              "      <td>19</td>\n",
              "      <td>26</td>\n",
              "      <td>16500</td>\n",
              "    </tr>\n",
              "    <tr>\n",
              "      <th>3</th>\n",
              "      <td>2</td>\n",
              "      <td>164</td>\n",
              "      <td>audi</td>\n",
              "      <td>gas</td>\n",
              "      <td>std</td>\n",
              "      <td>four</td>\n",
              "      <td>sedan</td>\n",
              "      <td>fwd</td>\n",
              "      <td>front</td>\n",
              "      <td>99.8</td>\n",
              "      <td>...</td>\n",
              "      <td>109</td>\n",
              "      <td>mpfi</td>\n",
              "      <td>3.19</td>\n",
              "      <td>3.4</td>\n",
              "      <td>10.0</td>\n",
              "      <td>102</td>\n",
              "      <td>5500</td>\n",
              "      <td>24</td>\n",
              "      <td>30</td>\n",
              "      <td>13950</td>\n",
              "    </tr>\n",
              "    <tr>\n",
              "      <th>4</th>\n",
              "      <td>2</td>\n",
              "      <td>164</td>\n",
              "      <td>audi</td>\n",
              "      <td>gas</td>\n",
              "      <td>std</td>\n",
              "      <td>four</td>\n",
              "      <td>sedan</td>\n",
              "      <td>4wd</td>\n",
              "      <td>front</td>\n",
              "      <td>99.4</td>\n",
              "      <td>...</td>\n",
              "      <td>136</td>\n",
              "      <td>mpfi</td>\n",
              "      <td>3.19</td>\n",
              "      <td>3.4</td>\n",
              "      <td>8.0</td>\n",
              "      <td>115</td>\n",
              "      <td>5500</td>\n",
              "      <td>18</td>\n",
              "      <td>22</td>\n",
              "      <td>17450</td>\n",
              "    </tr>\n",
              "  </tbody>\n",
              "</table>\n",
              "<p>5 rows × 26 columns</p>\n",
              "</div>"
            ],
            "text/plain": [
              "   symboling normalized-losses         make fuel-type aspiration num-of-doors  \\\n",
              "0          3                 ?  alfa-romero       gas        std          two   \n",
              "1          3                 ?  alfa-romero       gas        std          two   \n",
              "2          1                 ?  alfa-romero       gas        std          two   \n",
              "3          2               164         audi       gas        std         four   \n",
              "4          2               164         audi       gas        std         four   \n",
              "\n",
              "    body-style drive-wheels engine-location  wheel-base  ...  engine-size  \\\n",
              "0  convertible          rwd           front        88.6  ...          130   \n",
              "1  convertible          rwd           front        88.6  ...          130   \n",
              "2    hatchback          rwd           front        94.5  ...          152   \n",
              "3        sedan          fwd           front        99.8  ...          109   \n",
              "4        sedan          4wd           front        99.4  ...          136   \n",
              "\n",
              "   fuel-system  bore  stroke compression-ratio horsepower  peak-rpm city-mpg  \\\n",
              "0         mpfi  3.47    2.68               9.0        111      5000       21   \n",
              "1         mpfi  3.47    2.68               9.0        111      5000       21   \n",
              "2         mpfi  2.68    3.47               9.0        154      5000       19   \n",
              "3         mpfi  3.19     3.4              10.0        102      5500       24   \n",
              "4         mpfi  3.19     3.4               8.0        115      5500       18   \n",
              "\n",
              "  highway-mpg  price  \n",
              "0          27  13495  \n",
              "1          27  16500  \n",
              "2          26  16500  \n",
              "3          30  13950  \n",
              "4          22  17450  \n",
              "\n",
              "[5 rows x 26 columns]"
            ]
          },
          "execution_count": 53,
          "metadata": {},
          "output_type": "execute_result"
        }
      ],
      "source": [
        "# loading data set as Pandas dataframe\n",
        "df = pd.read_csv(\"./datasets/automobile.csv\")\n",
        "df.head()"
      ]
    },
    {
      "cell_type": "code",
      "execution_count": 54,
      "metadata": {
        "colab": {
          "base_uri": "https://localhost:8080/",
          "height": 476
        },
        "colab_type": "code",
        "id": "--5UJQTzRKpK",
        "outputId": "7df9c0e7-6672-48b0-f211-bc8e69d511e3"
      },
      "outputs": [
        {
          "data": {
            "text/plain": [
              "symboling              int64\n",
              "normalized-losses     object\n",
              "make                  object\n",
              "fuel-type             object\n",
              "aspiration            object\n",
              "num-of-doors          object\n",
              "body-style            object\n",
              "drive-wheels          object\n",
              "engine-location       object\n",
              "wheel-base           float64\n",
              "length               float64\n",
              "width                float64\n",
              "height               float64\n",
              "curb-weight            int64\n",
              "engine-type           object\n",
              "num-of-cylinders      object\n",
              "engine-size            int64\n",
              "fuel-system           object\n",
              "bore                  object\n",
              "stroke                object\n",
              "compression-ratio    float64\n",
              "horsepower            object\n",
              "peak-rpm              object\n",
              "city-mpg               int64\n",
              "highway-mpg            int64\n",
              "price                 object\n",
              "dtype: object"
            ]
          },
          "execution_count": 54,
          "metadata": {},
          "output_type": "execute_result"
        }
      ],
      "source": [
        "df.dtypes"
      ]
    },
    {
      "cell_type": "markdown",
      "metadata": {
        "colab_type": "text",
        "id": "7KAXhIOymFQ5"
      },
      "source": [
        "# Data Cleaning"
      ]
    },
    {
      "cell_type": "code",
      "execution_count": 55,
      "metadata": {
        "colab": {
          "base_uri": "https://localhost:8080/",
          "height": 119
        },
        "colab_type": "code",
        "id": "fi7TyYc3ofV-",
        "outputId": "01f43af0-20a6-47f7-f09c-c6e3d8bdf5b2"
      },
      "outputs": [
        {
          "data": {
            "text/plain": [
              "0    13495\n",
              "1    16500\n",
              "2    16500\n",
              "3    13950\n",
              "4    17450\n",
              "Name: price, dtype: int32"
            ]
          },
          "execution_count": 55,
          "metadata": {},
          "output_type": "execute_result"
        }
      ],
      "source": [
        "# Find out the number of values which are not numeric\n",
        "df['price'].str.isnumeric().value_counts()\n",
        "\n",
        "# List out the values which are not numeric\n",
        "df['price'].loc[df['price'].str.isnumeric() == False]\n",
        "\n",
        "#Setting the missing value to mean of price and convert the datatype to integer\n",
        "price = df['price'].loc[df['price'] != '?']\n",
        "price_mean = price.astype(int).mean()\n",
        "df['price'] = df['price'].replace('?', price_mean).astype(int)\n",
        "df['price'].head()\n"
      ]
    },
    {
      "cell_type": "code",
      "execution_count": 56,
      "metadata": {},
      "outputs": [
        {
          "name": "stdout",
          "output_type": "stream",
          "text": [
            "Mean: 13207.13\n",
            "Median: 10595.00\n",
            "Std: 7868.77\n",
            "Var: 61917513.18\n",
            "Quantiles: \n",
            " 0.25     7788.0\n",
            "0.50    10595.0\n",
            "0.75    16500.0\n",
            "Name: price, dtype: float64\n"
          ]
        }
      ],
      "source": [
        "print( \"Mean: {:.2f}\".format(df['price'].mean()))\n",
        "print( \"Median: {:.2f}\".format(df['price'].median()))\n",
        "print( \"Std: {:.2f}\".format(df['price'].std()))\n",
        "print( \"Var: {:.2f}\".format(df['price'].var()))\n",
        "print( \"Quantiles: \\n\",df['price'].quantile([0.25,0.5,0.75]))"
      ]
    },
    {
      "cell_type": "code",
      "execution_count": 57,
      "metadata": {
        "colab": {
          "base_uri": "https://localhost:8080/",
          "height": 119
        },
        "colab_type": "code",
        "id": "sXltcCWtotMv",
        "outputId": "46991210-cc64-4f4c-ba44-fb8a73dce520"
      },
      "outputs": [
        {
          "data": {
            "text/plain": [
              "0    111\n",
              "1    111\n",
              "2    154\n",
              "3    102\n",
              "4    115\n",
              "Name: horsepower, dtype: int32"
            ]
          },
          "execution_count": 57,
          "metadata": {},
          "output_type": "execute_result"
        }
      ],
      "source": [
        "# Cleaning the horsepower field\n",
        "df['horsepower'].str.isnumeric().value_counts()\n",
        "horsepower = df['horsepower'].loc[df['horsepower'] != '?']\n",
        "hp_mean = horsepower.astype(int).mean()\n",
        "df['horsepower'] = df['horsepower'].replace('?',hp_mean).astype(int)\n",
        "df['horsepower'].head()"
      ]
    },
    {
      "cell_type": "code",
      "execution_count": 58,
      "metadata": {
        "colab": {
          "base_uri": "https://localhost:8080/",
          "height": 119
        },
        "colab_type": "code",
        "id": "aPZl-Jleo0hT",
        "outputId": "74bb7337-1f3a-47f8-f297-073e4395b913"
      },
      "outputs": [
        {
          "data": {
            "text/plain": [
              "0    164\n",
              "1    164\n",
              "2    164\n",
              "3    164\n",
              "4    164\n",
              "Name: normalized-losses, dtype: int32"
            ]
          },
          "execution_count": 58,
          "metadata": {},
          "output_type": "execute_result"
        }
      ],
      "source": [
        "# Cleaning the Normalized losses field\n",
        "df[df['normalized-losses']=='?'].count()\n",
        "nl=df['normalized-losses'].loc[df['normalized-losses'] !='?'].count()\n",
        "nmean=nl.astype(int).mean()\n",
        "df['normalized-losses'] = df['normalized-losses'].replace('?',nmean).astype(int)\n",
        "df['normalized-losses'].head()"
      ]
    },
    {
      "cell_type": "markdown",
      "metadata": {
        "colab_type": "text",
        "id": "WYXxJPrMRSAs"
      },
      "source": [
        "Now computing the Measure of central tendency of the values in column height. Remember taking only a single column of the data set we are making a univariate analysis."
      ]
    },
    {
      "cell_type": "code",
      "execution_count": 59,
      "metadata": {
        "colab": {
          "base_uri": "https://localhost:8080/",
          "height": 51
        },
        "colab_type": "code",
        "id": "u1yBf6vtR8j7",
        "outputId": "92804e07-5f37-4252-d301-016e4f2d2f6a"
      },
      "outputs": [
        {
          "name": "stdout",
          "output_type": "stream",
          "text": [
            "53.72487804878049 54.1 0    50.8\n",
            "Name: height, dtype: float64\n"
          ]
        }
      ],
      "source": [
        "#calculate mean, median and mode of dat set height\n",
        "mean = df[\"height\"].mean()\n",
        "median =df[\"height\"].median()\n",
        "mode = df[\"height\"].mode()\n",
        "print(mean , median, mode)"
      ]
    },
    {
      "cell_type": "markdown",
      "metadata": {
        "colab_type": "text",
        "id": "5DUEOh8_SOUk"
      },
      "source": [
        "# Data Visualization\n",
        "Now let's visualize this analysis in graph."
      ]
    },
    {
      "cell_type": "code",
      "execution_count": 60,
      "metadata": {
        "colab": {
          "base_uri": "https://localhost:8080/",
          "height": 803
        },
        "colab_type": "code",
        "id": "ope2pejRTJ8O",
        "outputId": "c59ef643-77cd-41e6-cb92-c8f7ea723b15"
      },
      "outputs": [
        {
          "data": {
            "text/plain": [
              "<Axes: >"
            ]
          },
          "execution_count": 60,
          "metadata": {},
          "output_type": "execute_result"
        },
        {
          "data": {
            "image/png": "[encoded data removed]",
            "text/plain": [
              "<Figure size 640x480 with 1 Axes>"
            ]
          },
          "metadata": {},
          "output_type": "display_data"
        }
      ],
      "source": [
        "#distribution plot\n",
        "df.height.hist()"
      ]
    },
    {
      "cell_type": "markdown",
      "metadata": {
        "colab_type": "text",
        "id": "iZsqPX50VS_F"
      },
      "source": [
        "From the above graph, we can observe that the hight of most cars ranges from 53 to 57."
      ]
    },
    {
      "cell_type": "code",
      "execution_count": 61,
      "metadata": {
        "colab": {
          "base_uri": "https://localhost:8080/",
          "height": 803
        },
        "colab_type": "code",
        "id": "C2sMcnmvWFmu",
        "outputId": "5b0b360a-2f36-42de-e0b3-7a4ca19030ff"
      },
      "outputs": [
        {
          "data": {
            "text/plain": [
              "<Axes: >"
            ]
          },
          "execution_count": 61,
          "metadata": {},
          "output_type": "execute_result"
        },
        {
          "data": {
            "image/png": "[encoded data removed]",
            "text/plain": [
              "<Figure size 640x480 with 1 Axes>"
            ]
          },
          "metadata": {},
          "output_type": "display_data"
        }
      ],
      "source": [
        "df.price.hist()"
      ]
    },
    {
      "cell_type": "markdown",
      "metadata": {},
      "source": [
        "From the above graph, we can say that the price ranges from 5,000 to 45,000 but the price for most cars ranges between 5,000 to 10,000.\n",
        "\n",
        "The box plot is also effective visual representation of statical measures like median and quartiles in univariate analysis."
      ]
    },
    {
      "cell_type": "code",
      "execution_count": 69,
      "metadata": {},
      "outputs": [
        {
          "name": "stdout",
          "output_type": "stream",
          "text": [
            "Positive Skewness: 1.83\n"
          ]
        }
      ],
      "source": [
        "# Calculate skewness\n",
        "skewness = df.price.skew()\n",
        "if skewness > 0:\n",
        "    print(\"Positive Skewness: {:.2f}\".format(skewness))\n",
        "elif skewness < 0:  \n",
        "    print(\"Negative Skewness: {:.2f}\".format(skewness))\n",
        "else:\n",
        "    print(\"No Skewness\")\n",
        "    "
      ]
    },
    {
      "cell_type": "code",
      "execution_count": 63,
      "metadata": {},
      "outputs": [
        {
          "data": {
            "text/plain": [
              "{'whiskers': [<matplotlib.lines.Line2D at 0x23a232b63c0>,\n",
              "  <matplotlib.lines.Line2D at 0x23a232b7080>],\n",
              " 'caps': [<matplotlib.lines.Line2D at 0x23a232b7890>,\n",
              "  <matplotlib.lines.Line2D at 0x23a232b57c0>],\n",
              " 'boxes': [<matplotlib.lines.Line2D at 0x23a233c42c0>],\n",
              " 'medians': [<matplotlib.lines.Line2D at 0x23a2335c410>],\n",
              " 'fliers': [<matplotlib.lines.Line2D at 0x23a2335d100>],\n",
              " 'means': []}"
            ]
          },
          "execution_count": 63,
          "metadata": {},
          "output_type": "execute_result"
        },
        {
          "data": {
            "image/png": "[encoded data removed]",
            "text/plain": [
              "<Figure size 1000x700 with 1 Axes>"
            ]
          },
          "metadata": {},
          "output_type": "display_data"
        }
      ],
      "source": [
        "# Simple poxplot example\n",
        "\n",
        "# Generating random numbers from a normal distribution with \n",
        "# mean 100 and standard deviation 20\n",
        "np.random.seed(10)\n",
        "data = np.random.normal(100, 20, 200)\n",
        "plt.figure(figsize =(10, 7))\n",
        "# Creating plot\n",
        "plt.boxplot(data)"
      ]
    },
    {
      "cell_type": "code",
      "execution_count": 64,
      "metadata": {
        "colab": {
          "base_uri": "https://localhost:8080/",
          "height": 562
        },
        "colab_type": "code",
        "id": "ADjS4KZpympV",
        "outputId": "124f70b2-e93d-485c-87c3-e8dcb72a574b"
      },
      "outputs": [
        {
          "data": {
            "text/plain": [
              "<Axes: xlabel='price'>"
            ]
          },
          "execution_count": 64,
          "metadata": {},
          "output_type": "execute_result"
        },
        {
          "data": {
            "image/png": "[encoded data removed]",
            "text/plain": [
              "<Figure size 640x480 with 1 Axes>"
            ]
          },
          "metadata": {},
          "output_type": "display_data"
        }
      ],
      "source": [
        "#boxplot for price of cars\n",
        "sns.boxplot(data=df, x=\"price\")"
      ]
    },
    {
      "cell_type": "markdown",
      "metadata": {
        "colab_type": "text",
        "id": "BVzYyxI5zOCZ"
      },
      "source": [
        "The right border of the box is Q3 and the left border of the box is Q1. Whiskers extend from both sides of the box boundaries toward ± IQR × 1.5. Any values beyond these limits are marked as outliers (using points)."
      ]
    },
    {
      "cell_type": "code",
      "execution_count": 65,
      "metadata": {},
      "outputs": [
        {
          "data": {
            "text/plain": [
              "<Axes: xlabel='Month', ylabel='Sales'>"
            ]
          },
          "execution_count": 65,
          "metadata": {},
          "output_type": "execute_result"
        },
        {
          "data": {
            "image/png": "[encoded data removed]",
            "text/plain": [
              "<Figure size 640x480 with 1 Axes>"
            ]
          },
          "metadata": {},
          "output_type": "display_data"
        }
      ],
      "source": [
        "# Simple lineplot example\n",
        "months = [1, 2, 3, 4, 5, 6, 7]\n",
        "sales = [74, 75.8, 80, 85, 90.5, 60, 70.5]\n",
        "\n",
        "sales_df = pd.DataFrame({\"Month\": months, \"Sales\": sales})\n",
        "sns.lineplot(x = \"Month\", y = \"Sales\", data=sales_df, marker='o')"
      ]
    },
    {
      "cell_type": "code",
      "execution_count": 66,
      "metadata": {},
      "outputs": [
        {
          "data": {
            "image/png": "[encoded data removed]",
            "text/plain": [
              "<Figure size 640x480 with 1 Axes>"
            ]
          },
          "metadata": {},
          "output_type": "display_data"
        }
      ],
      "source": [
        "# Simple lineplot example\n",
        "# Sample monthly sales data\n",
        "months = pd.date_range(start='2023-01-01', end='2023-12-01', freq='MS')\n",
        "sales = [1000, 1200, 1100, 1300, 1400, 1500, 1600, 1800, 1700, 1200, 1800, 2000]\n",
        "\n",
        "# Create a DataFrame\n",
        "df_sales = pd.DataFrame({'Month': months, 'Sales': sales})\n",
        "sns.lineplot(x = \"Month\", y = \"Sales\", data=df_sales, marker='o')\n",
        "\n",
        "# Plotting the LinePlot\n",
        "#plt.grid(True)\n",
        "plt.xticks(rotation=45)\n",
        "plt.tight_layout()"
      ]
    },
    {
      "cell_type": "markdown",
      "metadata": {},
      "source": [
        "In this example, the LinePlot visualizes the monthly sales trend for the retail store in 2023. We can observe any fluctuations or any seasonal patterns in sales over the course of the year, helping stakeholders understand the performance of the business over time. e.g. upward trend with growth in sales except a drop in the month of October."
      ]
    }
  ],
  "metadata": {
    "colab": {
      "collapsed_sections": [],
      "name": "Chapter 7- Correlation.ipynb",
      "provenance": []
    },
    "kernelspec": {
      "display_name": "Python 3",
      "name": "python3"
    },
    "language_info": {
      "codemirror_mode": {
        "name": "ipython",
        "version": 3
      },
      "file_extension": ".py",
      "mimetype": "text/x-python",
      "name": "python",
      "nbconvert_exporter": "python",
      "pygments_lexer": "ipython3",
      "version": "3.12.1"
    }
  },
  "nbformat": 4,
  "nbformat_minor": 0
}
