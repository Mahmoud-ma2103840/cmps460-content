{
  "cells": [
    {
      "cell_type": "markdown",
      "metadata": {
        "colab_type": "text",
        "id": "2LKKQSiKtnZm"
      },
      "source": [
        "**Univariate analysis**\n",
        "\n",
        "\n",
        " \n",
        "  \n"
      ]
    },
    {
      "cell_type": "code",
      "execution_count": 1,
      "metadata": {
        "colab": {},
        "colab_type": "code",
        "id": "39QonONl0wUM"
      },
      "outputs": [],
      "source": [
        "#import libraries\n",
        "import matplotlib.pyplot as plt\n",
        "import seaborn as sns\n",
        "import pandas as pd\n",
        "import numpy as np "
      ]
    },
    {
      "cell_type": "code",
      "execution_count": 2,
      "metadata": {
        "colab": {},
        "colab_type": "code",
        "id": "kESeSKr3pwjh"
      },
      "outputs": [],
      "source": [
        "plt.rcParams['figure.figsize'] = (6, 4)\n",
        "plt.rcParams['figure.dpi'] = 150"
      ]
    },
    {
      "cell_type": "code",
      "execution_count": 3,
      "metadata": {
        "colab": {
          "base_uri": "https://localhost:8080/",
          "height": 309
        },
        "colab_type": "code",
        "id": "MVZtKK4fRC-h",
        "outputId": "cb70d7af-ee04-434d-e1d1-0ad4b5ae2fcb"
      },
      "outputs": [
        {
          "data": {
            "text/html": [
              "<div>\n",
              "<style scoped>\n",
              "    .dataframe tbody tr th:only-of-type {\n",
              "        vertical-align: middle;\n",
              "    }\n",
              "\n",
              "    .dataframe tbody tr th {\n",
              "        vertical-align: top;\n",
              "    }\n",
              "\n",
              "    .dataframe thead th {\n",
              "        text-align: right;\n",
              "    }\n",
              "</style>\n",
              "<table border=\"1\" class=\"dataframe\">\n",
              "  <thead>\n",
              "    <tr style=\"text-align: right;\">\n",
              "      <th></th>\n",
              "      <th>symboling</th>\n",
              "      <th>normalized-losses</th>\n",
              "      <th>make</th>\n",
              "      <th>fuel-type</th>\n",
              "      <th>aspiration</th>\n",
              "      <th>num-of-doors</th>\n",
              "      <th>body-style</th>\n",
              "      <th>drive-wheels</th>\n",
              "      <th>engine-location</th>\n",
              "      <th>wheel-base</th>\n",
              "      <th>...</th>\n",
              "      <th>engine-size</th>\n",
              "      <th>fuel-system</th>\n",
              "      <th>bore</th>\n",
              "      <th>stroke</th>\n",
              "      <th>compression-ratio</th>\n",
              "      <th>horsepower</th>\n",
              "      <th>peak-rpm</th>\n",
              "      <th>city-mpg</th>\n",
              "      <th>highway-mpg</th>\n",
              "      <th>price</th>\n",
              "    </tr>\n",
              "  </thead>\n",
              "  <tbody>\n",
              "    <tr>\n",
              "      <th>0</th>\n",
              "      <td>3</td>\n",
              "      <td>?</td>\n",
              "      <td>alfa-romero</td>\n",
              "      <td>gas</td>\n",
              "      <td>std</td>\n",
              "      <td>two</td>\n",
              "      <td>convertible</td>\n",
              "      <td>rwd</td>\n",
              "      <td>front</td>\n",
              "      <td>88.6</td>\n",
              "      <td>...</td>\n",
              "      <td>130</td>\n",
              "      <td>mpfi</td>\n",
              "      <td>3.47</td>\n",
              "      <td>2.68</td>\n",
              "      <td>9.0</td>\n",
              "      <td>111</td>\n",
              "      <td>5000</td>\n",
              "      <td>21</td>\n",
              "      <td>27</td>\n",
              "      <td>13495</td>\n",
              "    </tr>\n",
              "    <tr>\n",
              "      <th>1</th>\n",
              "      <td>3</td>\n",
              "      <td>?</td>\n",
              "      <td>alfa-romero</td>\n",
              "      <td>gas</td>\n",
              "      <td>std</td>\n",
              "      <td>two</td>\n",
              "      <td>convertible</td>\n",
              "      <td>rwd</td>\n",
              "      <td>front</td>\n",
              "      <td>88.6</td>\n",
              "      <td>...</td>\n",
              "      <td>130</td>\n",
              "      <td>mpfi</td>\n",
              "      <td>3.47</td>\n",
              "      <td>2.68</td>\n",
              "      <td>9.0</td>\n",
              "      <td>111</td>\n",
              "      <td>5000</td>\n",
              "      <td>21</td>\n",
              "      <td>27</td>\n",
              "      <td>16500</td>\n",
              "    </tr>\n",
              "    <tr>\n",
              "      <th>2</th>\n",
              "      <td>1</td>\n",
              "      <td>?</td>\n",
              "      <td>alfa-romero</td>\n",
              "      <td>gas</td>\n",
              "      <td>std</td>\n",
              "      <td>two</td>\n",
              "      <td>hatchback</td>\n",
              "      <td>rwd</td>\n",
              "      <td>front</td>\n",
              "      <td>94.5</td>\n",
              "      <td>...</td>\n",
              "      <td>152</td>\n",
              "      <td>mpfi</td>\n",
              "      <td>2.68</td>\n",
              "      <td>3.47</td>\n",
              "      <td>9.0</td>\n",
              "      <td>154</td>\n",
              "      <td>5000</td>\n",
              "      <td>19</td>\n",
              "      <td>26</td>\n",
              "      <td>16500</td>\n",
              "    </tr>\n",
              "    <tr>\n",
              "      <th>3</th>\n",
              "      <td>2</td>\n",
              "      <td>164</td>\n",
              "      <td>audi</td>\n",
              "      <td>gas</td>\n",
              "      <td>std</td>\n",
              "      <td>four</td>\n",
              "      <td>sedan</td>\n",
              "      <td>fwd</td>\n",
              "      <td>front</td>\n",
              "      <td>99.8</td>\n",
              "      <td>...</td>\n",
              "      <td>109</td>\n",
              "      <td>mpfi</td>\n",
              "      <td>3.19</td>\n",
              "      <td>3.4</td>\n",
              "      <td>10.0</td>\n",
              "      <td>102</td>\n",
              "      <td>5500</td>\n",
              "      <td>24</td>\n",
              "      <td>30</td>\n",
              "      <td>13950</td>\n",
              "    </tr>\n",
              "    <tr>\n",
              "      <th>4</th>\n",
              "      <td>2</td>\n",
              "      <td>164</td>\n",
              "      <td>audi</td>\n",
              "      <td>gas</td>\n",
              "      <td>std</td>\n",
              "      <td>four</td>\n",
              "      <td>sedan</td>\n",
              "      <td>4wd</td>\n",
              "      <td>front</td>\n",
              "      <td>99.4</td>\n",
              "      <td>...</td>\n",
              "      <td>136</td>\n",
              "      <td>mpfi</td>\n",
              "      <td>3.19</td>\n",
              "      <td>3.4</td>\n",
              "      <td>8.0</td>\n",
              "      <td>115</td>\n",
              "      <td>5500</td>\n",
              "      <td>18</td>\n",
              "      <td>22</td>\n",
              "      <td>17450</td>\n",
              "    </tr>\n",
              "  </tbody>\n",
              "</table>\n",
              "<p>5 rows × 26 columns</p>\n",
              "</div>"
            ],
            "text/plain": [
              "   symboling normalized-losses         make fuel-type aspiration num-of-doors  \\\n",
              "0          3                 ?  alfa-romero       gas        std          two   \n",
              "1          3                 ?  alfa-romero       gas        std          two   \n",
              "2          1                 ?  alfa-romero       gas        std          two   \n",
              "3          2               164         audi       gas        std         four   \n",
              "4          2               164         audi       gas        std         four   \n",
              "\n",
              "    body-style drive-wheels engine-location  wheel-base  ...  engine-size  \\\n",
              "0  convertible          rwd           front        88.6  ...          130   \n",
              "1  convertible          rwd           front        88.6  ...          130   \n",
              "2    hatchback          rwd           front        94.5  ...          152   \n",
              "3        sedan          fwd           front        99.8  ...          109   \n",
              "4        sedan          4wd           front        99.4  ...          136   \n",
              "\n",
              "   fuel-system  bore  stroke compression-ratio horsepower  peak-rpm city-mpg  \\\n",
              "0         mpfi  3.47    2.68               9.0        111      5000       21   \n",
              "1         mpfi  3.47    2.68               9.0        111      5000       21   \n",
              "2         mpfi  2.68    3.47               9.0        154      5000       19   \n",
              "3         mpfi  3.19     3.4              10.0        102      5500       24   \n",
              "4         mpfi  3.19     3.4               8.0        115      5500       18   \n",
              "\n",
              "  highway-mpg  price  \n",
              "0          27  13495  \n",
              "1          27  16500  \n",
              "2          26  16500  \n",
              "3          30  13950  \n",
              "4          22  17450  \n",
              "\n",
              "[5 rows x 26 columns]"
            ]
          },
          "execution_count": 3,
          "metadata": {},
          "output_type": "execute_result"
        }
      ],
      "source": [
        "# loading data set as Pandas dataframe\n",
        "df = pd.read_csv(\"./datasets/automobile.csv\")\n",
        "df.head()"
      ]
    },
    {
      "cell_type": "code",
      "execution_count": null,
      "metadata": {
        "colab": {
          "base_uri": "https://localhost:8080/",
          "height": 476
        },
        "colab_type": "code",
        "id": "--5UJQTzRKpK",
        "outputId": "7df9c0e7-6672-48b0-f211-bc8e69d511e3"
      },
      "outputs": [],
      "source": [
        "df.dtypes"
      ]
    },
    {
      "cell_type": "markdown",
      "metadata": {
        "colab_type": "text",
        "id": "7KAXhIOymFQ5"
      },
      "source": [
        "# Data Cleaning"
      ]
    },
    {
      "cell_type": "code",
      "execution_count": 4,
      "metadata": {
        "colab": {
          "base_uri": "https://localhost:8080/",
          "height": 119
        },
        "colab_type": "code",
        "id": "fi7TyYc3ofV-",
        "outputId": "01f43af0-20a6-47f7-f09c-c6e3d8bdf5b2"
      },
      "outputs": [
        {
          "data": {
            "text/plain": [
              "0    13495\n",
              "1    16500\n",
              "2    16500\n",
              "3    13950\n",
              "4    17450\n",
              "Name: price, dtype: int32"
            ]
          },
          "execution_count": 4,
          "metadata": {},
          "output_type": "execute_result"
        }
      ],
      "source": [
        "# Find out the number of values which are not numeric\n",
        "df['price'].str.isnumeric().value_counts()\n",
        "\n",
        "# List out the values which are not numeric\n",
        "df['price'].loc[df['price'].str.isnumeric() == False]\n",
        "\n",
        "#Setting the missing value to mean of price and convert the datatype to integer\n",
        "price = df['price'].loc[df['price'] != '?']\n",
        "price_mean = price.astype(int).mean()\n",
        "df['price'] = df['price'].replace('?', price_mean).astype(int)\n",
        "df['price'].head()"
      ]
    },
    {
      "cell_type": "code",
      "execution_count": 5,
      "metadata": {
        "colab": {
          "base_uri": "https://localhost:8080/",
          "height": 119
        },
        "colab_type": "code",
        "id": "sXltcCWtotMv",
        "outputId": "46991210-cc64-4f4c-ba44-fb8a73dce520"
      },
      "outputs": [
        {
          "data": {
            "text/plain": [
              "0    111\n",
              "1    111\n",
              "2    154\n",
              "3    102\n",
              "4    115\n",
              "Name: horsepower, dtype: int32"
            ]
          },
          "execution_count": 5,
          "metadata": {},
          "output_type": "execute_result"
        }
      ],
      "source": [
        "# Cleaning the horsepower field\n",
        "df['horsepower'].str.isnumeric().value_counts()\n",
        "horsepower = df['horsepower'].loc[df['horsepower'] != '?']\n",
        "hp_mean = horsepower.astype(int).mean()\n",
        "df['horsepower'] = df['horsepower'].replace('?',hp_mean).astype(int)\n",
        "df['horsepower'].head()"
      ]
    },
    {
      "cell_type": "code",
      "execution_count": 6,
      "metadata": {
        "colab": {
          "base_uri": "https://localhost:8080/",
          "height": 119
        },
        "colab_type": "code",
        "id": "aPZl-Jleo0hT",
        "outputId": "74bb7337-1f3a-47f8-f297-073e4395b913"
      },
      "outputs": [
        {
          "data": {
            "text/plain": [
              "0    164\n",
              "1    164\n",
              "2    164\n",
              "3    164\n",
              "4    164\n",
              "Name: normalized-losses, dtype: int32"
            ]
          },
          "execution_count": 6,
          "metadata": {},
          "output_type": "execute_result"
        }
      ],
      "source": [
        "# Cleaning the Normalized losses field\n",
        "df[df['normalized-losses']=='?'].count()\n",
        "nl=df['normalized-losses'].loc[df['normalized-losses'] !='?'].count()\n",
        "nmean=nl.astype(int).mean()\n",
        "df['normalized-losses'] = df['normalized-losses'].replace('?',nmean).astype(int)\n",
        "df['normalized-losses'].head()"
      ]
    },
    {
      "cell_type": "markdown",
      "metadata": {
        "colab_type": "text",
        "id": "WYXxJPrMRSAs"
      },
      "source": [
        "Now computing the Measure of central tendency of the values in column height. Remember taking only a single column of the data set we are making a univariate analysis."
      ]
    },
    {
      "cell_type": "code",
      "execution_count": 7,
      "metadata": {
        "colab": {
          "base_uri": "https://localhost:8080/",
          "height": 51
        },
        "colab_type": "code",
        "id": "u1yBf6vtR8j7",
        "outputId": "92804e07-5f37-4252-d301-016e4f2d2f6a"
      },
      "outputs": [
        {
          "name": "stdout",
          "output_type": "stream",
          "text": [
            "53.72487804878049 54.1 0    50.8\n",
            "Name: height, dtype: float64\n"
          ]
        }
      ],
      "source": [
        "#calculate mean, median and mode of dat set height\n",
        "mean = df[\"height\"].mean()\n",
        "median =df[\"height\"].median()\n",
        "mode = df[\"height\"].mode()\n",
        "print(mean , median, mode)"
      ]
    },
    {
      "cell_type": "markdown",
      "metadata": {
        "colab_type": "text",
        "id": "5DUEOh8_SOUk"
      },
      "source": [
        "# Data Visualization\n",
        "Now let's visualize this analysis in graph."
      ]
    },
    {
      "cell_type": "code",
      "execution_count": 8,
      "metadata": {
        "colab": {
          "base_uri": "https://localhost:8080/",
          "height": 803
        },
        "colab_type": "code",
        "id": "ope2pejRTJ8O",
        "outputId": "c59ef643-77cd-41e6-cb92-c8f7ea723b15"
      },
      "outputs": [
        {
          "data": {
            "text/plain": [
              "<Axes: >"
            ]
          },
          "execution_count": 8,
          "metadata": {},
          "output_type": "execute_result"
        },
        {
          "data": {
            "image/png": "[encoded data removed]",
            "text/plain": [
              "<Figure size 900x600 with 1 Axes>"
            ]
          },
          "metadata": {},
          "output_type": "display_data"
        }
      ],
      "source": [
        "#distribution plot\n",
        "df['height'].hist()"
      ]
    },
    {
      "cell_type": "markdown",
      "metadata": {
        "colab_type": "text",
        "id": "iZsqPX50VS_F"
      },
      "source": [
        "From the above graph, we can observe that the hight of most cars ranges from 53 to 57."
      ]
    },
    {
      "cell_type": "code",
      "execution_count": 9,
      "metadata": {
        "colab": {
          "base_uri": "https://localhost:8080/",
          "height": 803
        },
        "colab_type": "code",
        "id": "C2sMcnmvWFmu",
        "outputId": "5b0b360a-2f36-42de-e0b3-7a4ca19030ff"
      },
      "outputs": [
        {
          "data": {
            "text/plain": [
              "<Axes: >"
            ]
          },
          "execution_count": 9,
          "metadata": {},
          "output_type": "execute_result"
        },
        {
          "data": {
            "image/png": "[encoded data removed]",
            "text/plain": [
              "<Figure size 900x600 with 1 Axes>"
            ]
          },
          "metadata": {},
          "output_type": "display_data"
        }
      ],
      "source": [
        "df.price.hist()"
      ]
    },
    {
      "cell_type": "markdown",
      "metadata": {
        "colab_type": "text",
        "id": "8OA7UgR3WniU"
      },
      "source": [
        "From the above graph, we can say that the price ranges from 5,000 to 45,000 but the price for most cars ranges between 5,000 to 10,000.\n",
        "\n",
        "The box plot is also effective visual representation of statical measures like median and quartiles in univariate analysis."
      ]
    },
    {
      "cell_type": "code",
      "execution_count": 10,
      "metadata": {
        "colab": {
          "base_uri": "https://localhost:8080/",
          "height": 562
        },
        "colab_type": "code",
        "id": "ADjS4KZpympV",
        "outputId": "124f70b2-e93d-485c-87c3-e8dcb72a574b"
      },
      "outputs": [
        {
          "data": {
            "image/png": "[encoded data removed]",
            "text/plain": [
              "<Figure size 900x600 with 1 Axes>"
            ]
          },
          "metadata": {},
          "output_type": "display_data"
        }
      ],
      "source": [
        "#boxplot for price of cars\n",
        "sns.boxplot(x=\"price\",data=df)\n",
        "plt.show()"
      ]
    },
    {
      "cell_type": "markdown",
      "metadata": {
        "colab_type": "text",
        "id": "BVzYyxI5zOCZ"
      },
      "source": [
        "The right border of the box is Q3 and the left border of the box is Q1. Lines extend from both sides of the box boundaries toward the minimum and maximum. Any values beyond these statistics are marked as outliers (using points).\n",
        " "
      ]
    }
  ],
  "metadata": {
    "colab": {
      "collapsed_sections": [],
      "name": "Chapter 7- Correlation.ipynb",
      "provenance": []
    },
    "kernelspec": {
      "display_name": "Python 3",
      "name": "python3"
    },
    "language_info": {
      "codemirror_mode": {
        "name": "ipython",
        "version": 3
      },
      "file_extension": ".py",
      "mimetype": "text/x-python",
      "name": "python",
      "nbconvert_exporter": "python",
      "pygments_lexer": "ipython3",
      "version": "3.12.1"
    }
  },
  "nbformat": 4,
  "nbformat_minor": 0
}
