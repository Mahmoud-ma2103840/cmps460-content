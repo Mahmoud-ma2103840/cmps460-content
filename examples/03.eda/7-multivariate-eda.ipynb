{
  "cells": [
    {
      "cell_type": "markdown",
      "metadata": {
        "colab_type": "text",
        "id": "f4XrrX8H0mj-"
      },
      "source": [
        "**Multivariate Exploratory Data Analysis (EDA)** allows us to understand the relationships between different variables and to identify patterns and trends in the data. In this notebook, we will perform a multivariate EDA on the titanic dataset. We will use the `seaborn` library to create visualizations that will help us understand the relationships between different variables in the dataset."
      ]
    },
    {
      "cell_type": "code",
      "execution_count": null,
      "metadata": {
        "colab": {},
        "colab_type": "code",
        "id": "39QonONl0wUM"
      },
      "outputs": [],
      "source": [
        "#import libraries\n",
        "import matplotlib.pyplot as plt\n",
        "import seaborn as sns\n",
        "import pandas as pd\n",
        "import numpy as np \n",
        "\n",
        "plt.rcParams['figure.figsize'] = (6, 4)\n",
        "plt.rcParams['figure.dpi'] = 150"
      ]
    },
    {
      "cell_type": "code",
      "execution_count": null,
      "metadata": {
        "colab": {
          "base_uri": "https://localhost:8080/",
          "height": 204
        },
        "colab_type": "code",
        "id": "oAtkvO16Tcdc",
        "outputId": "e4bec300-35a1-4635-a40c-282af4ec57e2"
      },
      "outputs": [],
      "source": [
        "#load data set\n",
        "titanic=pd.read_csv(\"./datasets/titanic.csv\")\n",
        "titanic.head()"
      ]
    },
    {
      "cell_type": "code",
      "execution_count": null,
      "metadata": {
        "colab": {
          "base_uri": "https://localhost:8080/",
          "height": 34
        },
        "colab_type": "code",
        "id": "_wqVsLPpT1o-",
        "outputId": "4b665fc9-044e-4624-f810-b4c23938a25a"
      },
      "outputs": [],
      "source": [
        "titanic.shape"
      ]
    },
    {
      "cell_type": "markdown",
      "metadata": {
        "colab_type": "text",
        "id": "XXuWZ_O5_ZzY"
      },
      "source": [
        "Let’s take a  look at what is the number of records missing in the data set."
      ]
    },
    {
      "cell_type": "code",
      "execution_count": null,
      "metadata": {
        "colab": {
          "base_uri": "https://localhost:8080/",
          "height": 238
        },
        "colab_type": "code",
        "id": "sIwWU6Wy_YNs",
        "outputId": "4782ded8-0d7e-4b8d-dd96-c26f82826fd0"
      },
      "outputs": [],
      "source": [
        "total = titanic.isna().sum().sort_values(ascending=False)\n",
        "total"
      ]
    },
    {
      "cell_type": "code",
      "execution_count": null,
      "metadata": {
        "colab": {
          "base_uri": "https://localhost:8080/",
          "height": 51
        },
        "colab_type": "code",
        "id": "IkPQkerkUS_k",
        "outputId": "84eb8792-e2ea-4f89-bc98-8c315b74803f"
      },
      "outputs": [],
      "source": [
        "# Count of survived by gender\n",
        "counts = titanic.groupby(titanic.Gender)[['Survived']].value_counts()\n",
        "print(counts)\n",
        "\n",
        "# % of survived by gender\n",
        "percs = titanic.groupby(titanic.Gender)[['Survived']].value_counts(normalize=True)\n",
        "print(percs)\n",
        "\n",
        "summary = pd.concat([counts, percs], axis=1, keys=['count', '%'])\n",
        "print(summary)"
      ]
    },
    {
      "cell_type": "markdown",
      "metadata": {
        "colab_type": "text",
        "id": "PpCOmNPTVath"
      },
      "source": [
        "The number of female survival was higher, so gender could be an attribute that contributes to analyzing the survival of a passenger. Let's visualize this information on survival numbers in males and females."
      ]
    },
    {
      "cell_type": "code",
      "execution_count": null,
      "metadata": {
        "colab": {
          "base_uri": "https://localhost:8080/",
          "height": 743
        },
        "colab_type": "code",
        "id": "Hd_2AhXGyjck",
        "outputId": "a4c6637f-4961-4987-d5a2-7f0e8f6d282f"
      },
      "outputs": [],
      "source": [
        "# Exploratory Data Analysis using seaborn\n",
        "\n",
        "# Map the values of the \"Survived\" column to \"not_survived\" and \"survived\"\n",
        "if set(titanic['Survived']).issubset({0, 1}):\n",
        "    titanic['Survived'] = titanic['Survived'].map({0:\"not_survived\", 1:\"survived\"})\n",
        "    print(titanic['Survived'])\n",
        "\n",
        "# Create a figure with two subplots\n",
        "fig, ax = plt.subplots(1, 2, figsize = (7, 6))\n",
        "fig.tight_layout(pad=3.0)\n",
        "\n",
        "# Plot the number of passengers by gender in the first subplot\n",
        "titanic[\"Gender\"].value_counts().plot.bar(color = \"skyblue\", ax = ax[0])\n",
        "ax[0].set_title(\"Number Of Passengers By Gender\")\n",
        "ax[0].set_ylabel(\"Population\")\n",
        "\n",
        "# Plot the count of survived and non-survived passengers by gender \n",
        "# in the second subplot\n",
        "sns.countplot(data=titanic, x=\"Gender\", hue=\"Survived\", ax = ax[1])\n",
        "ax[1].set_title(\"Gender: Survived vs Dead\")\n"
      ]
    },
    {
      "cell_type": "markdown",
      "metadata": {
        "colab_type": "text",
        "id": "QekyO-jczqea"
      },
      "source": [
        "Let's visualize the number of survivals from different Pclasses."
      ]
    },
    {
      "cell_type": "code",
      "execution_count": null,
      "metadata": {
        "colab": {
          "base_uri": "https://localhost:8080/",
          "height": 719
        },
        "colab_type": "code",
        "id": "y6ro6k-mzozK",
        "outputId": "271358e3-6c58-48cf-a4da-b857583ed118"
      },
      "outputs": [],
      "source": [
        "fig, ax = plt.subplots(1, 2, figsize = (7, 6))\n",
        "fig.tight_layout(pad=3.0)\n",
        "\n",
        "# Plot the number of passengers by Pclass in the first subplot\n",
        "titanic[\"Pclass\"].value_counts().plot.bar(color = \"skyblue\", ax = ax[0])\n",
        "ax[0].set_title(\"Number Of Passengers By Pclass\")\n",
        "ax[0].set_ylabel(\"Population\")\n",
        "\n",
        "# Plot the count of survived and dead passengers by Pclass in the second subplot\n",
        "sns.countplot(data=titanic, x=\"Pclass\", hue=\"Survived\", ax = ax[1])\n",
        "ax[1].set_title(\"Pclass: Survived vs Dead\")\n",
        "plt.show()"
      ]
    },
    {
      "cell_type": "markdown",
      "metadata": {
        "colab_type": "text",
        "id": "t0Y7ekBB3iB3"
      },
      "source": [
        "Looks like the number of passenger in Pclass 3 was high and most of them did not survive. Most of Pclass 1 passengers survived."
      ]
    },
    {
      "cell_type": "code",
      "execution_count": null,
      "metadata": {
        "colab": {
          "base_uri": "https://localhost:8080/",
          "height": 419
        },
        "colab_type": "code",
        "id": "_tgg0tgvqXoi",
        "outputId": "e2c3e564-a74c-4492-9e72-a8e4b4319ce4"
      },
      "outputs": [],
      "source": [
        "# Fill missing values in the \"Embarked\" column with \"S\"\n",
        "titanic[\"Embarked\"] = titanic[\"Embarked\"].fillna(\"S\")\n",
        "# Display the updated titanic dataframe\n",
        "titanic"
      ]
    },
    {
      "cell_type": "code",
      "execution_count": null,
      "metadata": {
        "colab": {
          "base_uri": "https://localhost:8080/",
          "height": 719
        },
        "colab_type": "code",
        "id": "IZrXMIUR23C6",
        "outputId": "aa8ebdea-6a56-41f0-bef4-79c61887a78d"
      },
      "outputs": [],
      "source": [
        "fig, ax = plt.subplots(1, 2, figsize = (7, 6))\n",
        "fig.tight_layout(pad=3.0)\n",
        "\n",
        "# Plot the number of passengers by Embarked in the first subplot\n",
        "titanic[\"Embarked\"].value_counts().plot.bar(color = \"skyblue\", ax = ax[0])\n",
        "ax[0].set_title(\"Number Of Passengers By Embarked\")\n",
        "ax[0].set_ylabel(\"Number\")\n",
        "\n",
        "# Plot the count of survived and dead passengers by Embarked in the second subplot\n",
        "sns.countplot(data=titanic, x=\"Embarked\", hue=\"Survived\", ax = ax[1])\n",
        "ax[1].set_title(\"Embarked: Survived vs Unsurvived\")\n"
      ]
    },
    {
      "cell_type": "code",
      "execution_count": null,
      "metadata": {
        "colab": {
          "base_uri": "https://localhost:8080/",
          "height": 592
        },
        "colab_type": "code",
        "id": "rdNQ4O736RCy",
        "outputId": "6d335b92-34c4-4292-b4a1-00f89b8b7e87"
      },
      "outputs": [],
      "source": [
        "# Plot the distribution of the \"Age\" column\n",
        "# The `dropna()` function is used to remove any missing values (`NaN`) \n",
        "# from the 'Age' column before creating the plot. \n",
        "# The `kde` parameter is set to `True` to display the Kernel Density Estimate plot.\n",
        "ax = sns.histplot(titanic['Age'].dropna(), kde=True, color=\"skyblue\")\n",
        "ax.lines[0].set_color('brown')\n",
        "plt.title(\"Distribution of Age\")"
      ]
    },
    {
      "cell_type": "markdown",
      "metadata": {
        "colab_type": "text",
        "id": "nvAa92J3iYSC"
      },
      "source": [
        "Now let's do first multivariate analysis into titanic data set with variables Survived, Pclass,Fear and Age. "
      ]
    },
    {
      "cell_type": "code",
      "execution_count": null,
      "metadata": {
        "colab": {
          "base_uri": "https://localhost:8080/",
          "height": 938
        },
        "colab_type": "code",
        "id": "kPhnbAsk_lwX",
        "outputId": "9f0e158f-6ce9-4a17-a6b4-e554e1f79866"
      },
      "outputs": [],
      "source": [
        "\n",
        "sns.set(style=\"ticks\", color_codes=True)\n",
        "# Pair plot (matrix scatterplot) of few columns\n",
        "sns.pairplot(titanic,height=2,vars = [ 'Fare','Age','Pclass'], hue=\"Survived\")"
      ]
    },
    {
      "cell_type": "markdown",
      "metadata": {
        "colab_type": "text",
        "id": "-JxQfFR5Fe1f"
      },
      "source": [
        "**Correlation Matrix**\n",
        "\n",
        "First map Embarked records with integer values so that we can include Embraked too in our correlation analysis."
      ]
    },
    {
      "cell_type": "code",
      "execution_count": null,
      "metadata": {
        "colab": {
          "base_uri": "https://localhost:8080/",
          "height": 266
        },
        "colab_type": "code",
        "id": "9gXRFOOtEUuq",
        "outputId": "2de9aa8d-2081-49cc-8a63-c37674717007"
      },
      "outputs": [],
      "source": [
        "# Map the values of the \"Embarked\" column to 0, 1, 2, and 3\n",
        "if set(titanic['Embarked']).issubset({'S', 'C', 'Q', 'NaN'}):\n",
        "    titanic['Embarked'] = titanic['Embarked'].map({\"S\":1, \"C\":2,\"Q\":2,\"NaN\":0})\n",
        "    #print(titanic['Embarked'])\n",
        "\n",
        "# The `corr()` computes pairwise correlation of numeric columns in the DataFrame\n",
        "correlation_matrix = titanic.corr(method='pearson', numeric_only='true')\n",
        "correlation_matrix"
      ]
    },
    {
      "cell_type": "markdown",
      "metadata": {},
      "source": [
        "**Heatmap**"
      ]
    },
    {
      "cell_type": "code",
      "execution_count": null,
      "metadata": {
        "colab": {
          "base_uri": "https://localhost:8080/",
          "height": 685
        },
        "colab_type": "code",
        "id": "JPMfqPI1EZaC",
        "outputId": "355f3450-2598-4201-d343-e80b2ce5d9b6"
      },
      "outputs": [],
      "source": [
        "# Plots a correlation heatmap for the given dataframe\n",
        "# Use annot to represent the cell values with text\n",
        "sns.heatmap(correlation_matrix, cmap='YlOrBr', annot=True, fmt=\".1f\")\n",
        "plt.title(\"Correlation Heatmap\")\n"
      ]
    }
  ],
  "metadata": {
    "colab": {
      "collapsed_sections": [],
      "name": "Chapter 7- Correlation.ipynb",
      "provenance": []
    },
    "kernelspec": {
      "display_name": "Python 3",
      "name": "python3"
    },
    "language_info": {
      "codemirror_mode": {
        "name": "ipython",
        "version": 3
      },
      "file_extension": ".py",
      "mimetype": "text/x-python",
      "name": "python",
      "nbconvert_exporter": "python",
      "pygments_lexer": "ipython3",
      "version": "3.12.1"
    }
  },
  "nbformat": 4,
  "nbformat_minor": 0
}
