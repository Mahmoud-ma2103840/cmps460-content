{
  "cells": [
    {
      "cell_type": "markdown",
      "metadata": {
        "colab_type": "text",
        "id": "2LKKQSiKtnZm"
      },
      "source": [
        "# Load the Automobile dataset\n",
        "\n",
        "\n",
        " \n",
        "  \n"
      ]
    },
    {
      "cell_type": "code",
      "execution_count": null,
      "metadata": {
        "colab": {},
        "colab_type": "code",
        "id": "39QonONl0wUM"
      },
      "outputs": [],
      "source": [
        "#import libraries\n",
        "import matplotlib.pyplot as plt\n",
        "import seaborn as sns\n",
        "import pandas as pd\n",
        "import numpy as np \n",
        "\n",
        "plt.rcParams['figure.figsize'] = (6, 4)\n",
        "plt.rcParams['figure.dpi'] = 150"
      ]
    },
    {
      "cell_type": "code",
      "execution_count": null,
      "metadata": {
        "colab": {
          "base_uri": "https://localhost:8080/",
          "height": 309
        },
        "colab_type": "code",
        "id": "MVZtKK4fRC-h",
        "outputId": "cb70d7af-ee04-434d-e1d1-0ad4b5ae2fcb"
      },
      "outputs": [],
      "source": [
        "# loading data set as Pandas dataframe\n",
        "df = pd.read_csv(\"./datasets/automobile.csv\")\n",
        "df.head()"
      ]
    },
    {
      "cell_type": "markdown",
      "metadata": {
        "colab_type": "text",
        "id": "7KAXhIOymFQ5"
      },
      "source": [
        "# Data Cleaning"
      ]
    },
    {
      "cell_type": "code",
      "execution_count": null,
      "metadata": {
        "colab": {
          "base_uri": "https://localhost:8080/",
          "height": 119
        },
        "colab_type": "code",
        "id": "fi7TyYc3ofV-",
        "outputId": "01f43af0-20a6-47f7-f09c-c6e3d8bdf5b2"
      },
      "outputs": [],
      "source": [
        "# Find out the number of values which are not numeric\n",
        "df['price'].str.isnumeric().value_counts()\n",
        "\n",
        "# List out the values which are not numeric\n",
        "df['price'].loc[df['price'].str.isnumeric() == False]\n",
        "\n",
        "#Setting the missing value to mean of price and convert the datatype to integer\n",
        "price = df['price'].loc[df['price'] != '?']\n",
        "price_mean = price.astype(int).mean()\n",
        "df['price'] = df['price'].replace('?', price_mean).astype(int)\n",
        "df['price'].head()"
      ]
    },
    {
      "cell_type": "code",
      "execution_count": null,
      "metadata": {
        "colab": {
          "base_uri": "https://localhost:8080/",
          "height": 119
        },
        "colab_type": "code",
        "id": "sXltcCWtotMv",
        "outputId": "46991210-cc64-4f4c-ba44-fb8a73dce520"
      },
      "outputs": [],
      "source": [
        "# Cleaning the horsepower field\n",
        "df['horsepower'].str.isnumeric().value_counts()\n",
        "horsepower = df['horsepower'].loc[df['horsepower'] != '?']\n",
        "hp_mean = horsepower.astype(int).mean()\n",
        "df['horsepower'] = df['horsepower'].replace('?',hp_mean).astype(int)\n",
        "df['horsepower'].head()"
      ]
    },
    {
      "cell_type": "code",
      "execution_count": null,
      "metadata": {
        "colab": {
          "base_uri": "https://localhost:8080/",
          "height": 119
        },
        "colab_type": "code",
        "id": "aPZl-Jleo0hT",
        "outputId": "74bb7337-1f3a-47f8-f297-073e4395b913"
      },
      "outputs": [],
      "source": [
        "# Cleaning the Normalized losses field\n",
        "df[df['normalized-losses']=='?'].count()\n",
        "nl=df['normalized-losses'].loc[df['normalized-losses'] !='?'].count()\n",
        "nmean=nl.astype(int).mean()\n",
        "df['normalized-losses'] = df['normalized-losses'].replace('?',nmean).astype(int)\n",
        "df['normalized-losses'].head()"
      ]
    },
    {
      "cell_type": "markdown",
      "metadata": {
        "colab_type": "text",
        "id": "Srukcqs30zF5"
      },
      "source": [
        "# Bivariate Analysis\n",
        "\n"
      ]
    },
    {
      "cell_type": "code",
      "execution_count": null,
      "metadata": {
        "colab": {
          "base_uri": "https://localhost:8080/",
          "height": 611
        },
        "colab_type": "code",
        "id": "Le2rHrIA0woB",
        "outputId": "416a5c87-d2f9-49be-f513-83deb80d4870"
      },
      "outputs": [],
      "source": [
        "# plot the relationship between “horsepower” and “price”\n",
        "plt.scatter(df[\"price\"], df[\"horsepower\"])\n",
        "plt.title(\"Scatter Plot for horsepower vs price\")\n",
        "plt.xlabel(\"horsepower\")\n",
        "plt.ylabel(\"price\")"
      ]
    },
    {
      "cell_type": "code",
      "execution_count": null,
      "metadata": {
        "colab": {
          "base_uri": "https://localhost:8080/",
          "height": 562
        },
        "colab_type": "code",
        "id": "3RrjcaTbZMMd",
        "outputId": "2b5f59ce-47d4-47cb-fc20-04e139ebc8fd"
      },
      "outputs": [],
      "source": [
        "#boxplot\n",
        "sns.boxplot(x=\"engine-location\",y=\"price\",data=df)"
      ]
    },
    {
      "cell_type": "code",
      "execution_count": null,
      "metadata": {
        "colab": {
          "base_uri": "https://localhost:8080/",
          "height": 579
        },
        "colab_type": "code",
        "id": "Xdqy64M-bXCm",
        "outputId": "dff006ef-d58d-4a15-f6ca-2743ba169470"
      },
      "outputs": [],
      "source": [
        "#boxplot to visualize the distribution of \"price\" with types of \"drive-wheels\"\n",
        "sns.boxplot(x=\"drive-wheels\", y=\"price\",data=df)"
      ]
    },
    {
      "cell_type": "markdown",
      "metadata": {
        "colab_type": "text",
        "id": "NU08xvlDbZ9N"
      },
      "source": [
        "Figure above illustrates the range of prices in cars with different wheel types. Boxplot shows the average and median price in respective wheel types and some outliers."
      ]
    },
    {
      "cell_type": "markdown",
      "metadata": {
        "colab_type": "text",
        "id": "DxaVq_1c00Si"
      },
      "source": [
        "# Multivariate Analysis\n",
        "\n"
      ]
    },
    {
      "cell_type": "code",
      "execution_count": null,
      "metadata": {
        "colab": {
          "base_uri": "https://localhost:8080/",
          "height": 939
        },
        "colab_type": "code",
        "id": "GQSCGenHmtyc",
        "outputId": "a36595a2-2c50-4055-eb34-a7e7b3d8ad47"
      },
      "outputs": [],
      "source": [
        "# pair plot with plot type regression\n",
        "sns.pairplot(df,height=2, vars = ['normalized-losses', 'price','horsepower'],  kind=\"reg\")"
      ]
    },
    {
      "cell_type": "code",
      "execution_count": null,
      "metadata": {
        "colab": {
          "base_uri": "https://localhost:8080/",
          "height": 938
        },
        "colab_type": "code",
        "id": "o2_kQbbv0wz8",
        "outputId": "9ea78141-9bea-449a-82c6-fb0ab38ed1e2"
      },
      "outputs": [],
      "source": [
        " #pair plot (matrix scatterplot) of few columns \n",
        "sns.set(style=\"ticks\", color_codes=True)\n",
        "sns.pairplot(df,height=2,vars = ['symboling', 'normalized-losses','wheel-base'], hue=\"drive-wheels\")"
      ]
    },
    {
      "cell_type": "code",
      "execution_count": null,
      "metadata": {
        "colab": {
          "base_uri": "https://localhost:8080/",
          "height": 51
        },
        "colab_type": "code",
        "id": "MRgglwRlrqU9",
        "outputId": "e0e9081e-298e-469f-8411-6ff8d39e24f3"
      },
      "outputs": [],
      "source": [
        "from scipy import stats\n",
        "\n",
        "corr = stats.pearsonr(df[\"price\"], df[\"horsepower\"])\n",
        "print(\"p-value:\\t\", corr[1])\n",
        "print(\"cor:\\t\\t\", corr[0])"
      ]
    },
    {
      "cell_type": "markdown",
      "metadata": {
        "colab_type": "text",
        "id": "PKgH1SXguBDM"
      },
      "source": [
        "Here the correlation of these two variable is 0.80957 which is close to +1 thus the price and horsepower are highly positively correlated. Using pandas corr( function correlation between entire numerical record can be calculated."
      ]
    },
    {
      "cell_type": "code",
      "execution_count": null,
      "metadata": {
        "colab": {
          "base_uri": "https://localhost:8080/",
          "height": 503
        },
        "colab_type": "code",
        "id": "F8vD_PJzt_TU",
        "outputId": "249ad28d-64d0-4698-ffe4-692b303b4a56"
      },
      "outputs": [],
      "source": [
        "df.corr(method='pearson', numeric_only=True)"
      ]
    },
    {
      "cell_type": "markdown",
      "metadata": {
        "colab_type": "text",
        "id": "dqrhKg5XumbQ"
      },
      "source": [
        "Now let's visualize this correlation analysis with heatmap. Heatmap is best technique to make this look beautiful and easier to interpret."
      ]
    },
    {
      "cell_type": "code",
      "execution_count": null,
      "metadata": {
        "colab": {
          "base_uri": "https://localhost:8080/",
          "height": 752
        },
        "colab_type": "code",
        "id": "tzjIUzH6v2Ca",
        "outputId": "eb559ee0-8866-4a01-92bd-81f47cdcda8f"
      },
      "outputs": [],
      "source": [
        "correlation_matrix = df.corr(numeric_only=True)\n",
        "sns.heatmap(correlation_matrix)\n",
        "      "
      ]
    },
    {
      "cell_type": "markdown",
      "metadata": {
        "colab_type": "text",
        "id": "L7Jbo0KWx7uZ"
      },
      "source": [
        "A coefficient close to 1 means that there’s a very strong positive correlation between the two variables. The diagonal line is the correlation of the variables to themselves — so they’ll obviously be 1."
      ]
    },
    {
      "cell_type": "markdown",
      "metadata": {
        "colab_type": "text",
        "id": "f4XrrX8H0mj-"
      },
      "source": [
        "# Multivariate Analysis over titanic dataset\n"
      ]
    },
    {
      "cell_type": "code",
      "execution_count": null,
      "metadata": {
        "colab": {
          "base_uri": "https://localhost:8080/",
          "height": 204
        },
        "colab_type": "code",
        "id": "oAtkvO16Tcdc",
        "outputId": "e4bec300-35a1-4635-a40c-282af4ec57e2"
      },
      "outputs": [],
      "source": [
        "#load data set\n",
        "titanic=pd.read_csv(\"../datasets/titanic.csv\")\n",
        "titanic.head()\n"
      ]
    },
    {
      "cell_type": "code",
      "execution_count": null,
      "metadata": {
        "colab": {
          "base_uri": "https://localhost:8080/",
          "height": 34
        },
        "colab_type": "code",
        "id": "_wqVsLPpT1o-",
        "outputId": "4b665fc9-044e-4624-f810-b4c23938a25a"
      },
      "outputs": [],
      "source": [
        "titanic.shape\n"
      ]
    },
    {
      "cell_type": "markdown",
      "metadata": {
        "colab_type": "text",
        "id": "XXuWZ_O5_ZzY"
      },
      "source": [
        "Let’s take a  look at what is the number of records missing in the data set."
      ]
    },
    {
      "cell_type": "code",
      "execution_count": null,
      "metadata": {
        "colab": {
          "base_uri": "https://localhost:8080/",
          "height": 238
        },
        "colab_type": "code",
        "id": "sIwWU6Wy_YNs",
        "outputId": "4782ded8-0d7e-4b8d-dd96-c26f82826fd0"
      },
      "outputs": [],
      "source": [
        "total = titanic.isnull().sum().sort_values(ascending=False)\n",
        "total"
      ]
    },
    {
      "cell_type": "code",
      "execution_count": null,
      "metadata": {
        "colab": {
          "base_uri": "https://localhost:8080/",
          "height": 51
        },
        "colab_type": "code",
        "id": "IkPQkerkUS_k",
        "outputId": "84eb8792-e2ea-4f89-bc98-8c315b74803f"
      },
      "outputs": [],
      "source": [
        "#percentage of women survived\n",
        "women = titanic.loc[titanic.Gender == 'female'][\"Survived\"]\n",
        "rate_women = sum(women)/len(women)\n",
        "\n",
        "#percentage of men survived\n",
        "men = titanic.loc[titanic.Gender == 'male'][\"Survived\"]\n",
        "rate_men = sum(men)/len(men)\n",
        "\n",
        "print(str(rate_women * 100) + \" % of women who survived.\" )\n",
        "print(str(rate_men * 100) + \" % of men who survived.\" )"
      ]
    },
    {
      "cell_type": "markdown",
      "metadata": {
        "colab_type": "text",
        "id": "PpCOmNPTVath"
      },
      "source": [
        "You can see the number of females survival was high, so gender could be the attribute that contributes to analyzing the survival of any variable(person). Let's visualize this information on survival numbers in males and females."
      ]
    },
    {
      "cell_type": "code",
      "execution_count": null,
      "metadata": {
        "colab": {
          "base_uri": "https://localhost:8080/",
          "height": 743
        },
        "colab_type": "code",
        "id": "Hd_2AhXGyjck",
        "outputId": "a4c6637f-4961-4987-d5a2-7f0e8f6d282f"
      },
      "outputs": [],
      "source": [
        "# Exploratory Data Analysis using seaborn\n",
        "\n",
        "# Map the values of the \"Survived\" column to \"not_survived\" and \"survived\"\n",
        "if set(titanic['Survived']).issubset({0, 1}):\n",
        "    titanic['Survived'] = titanic['Survived'].map({0:\"not_survived\", 1:\"survived\"})\n",
        "    print(titanic['Survived'])\n",
        "\n",
        "# Create a figure with two subplots\n",
        "fig, ax = plt.subplots(1, 2, figsize = (7, 6))\n",
        "fig.tight_layout(pad=3.0)\n",
        "\n",
        "# Plot the number of passengers by gender in the first subplot\n",
        "titanic[\"Gender\"].value_counts().plot.bar(color = \"skyblue\", ax = ax[0])\n",
        "ax[0].set_title(\"Number Of Passengers By Gender\")\n",
        "ax[0].set_ylabel(\"Population\")\n",
        "\n",
        "# Plot the count of survived and dead passengers by gender in the second subplot\n",
        "sns.countplot(data=titanic, x=\"Gender\", hue=\"Survived\", ax = ax[1])\n",
        "ax[1].set_title(\"Gender: Survived vs Dead\")\n"
      ]
    },
    {
      "cell_type": "markdown",
      "metadata": {
        "colab_type": "text",
        "id": "QekyO-jczqea"
      },
      "source": [
        "Let's visualize the number of survival and death from different Pclasses."
      ]
    },
    {
      "cell_type": "code",
      "execution_count": null,
      "metadata": {
        "colab": {
          "base_uri": "https://localhost:8080/",
          "height": 719
        },
        "colab_type": "code",
        "id": "y6ro6k-mzozK",
        "outputId": "271358e3-6c58-48cf-a4da-b857583ed118"
      },
      "outputs": [],
      "source": [
        "fig, ax = plt.subplots(1, 2, figsize = (7, 6))\n",
        "fig.tight_layout(pad=3.0)\n",
        "\n",
        "# Plot the number of passengers by Pclass in the first subplot\n",
        "titanic[\"Pclass\"].value_counts().plot.bar(color = \"skyblue\", ax = ax[0])\n",
        "ax[0].set_title(\"Number Of Passengers By Pclass\")\n",
        "ax[0].set_ylabel(\"Population\")\n",
        "\n",
        "# Plot the count of survived and dead passengers by Pclass in the second subplot\n",
        "sns.countplot(data=titanic, x=\"Pclass\", hue=\"Survived\", ax = ax[1])\n",
        "ax[1].set_title(\"Pclass: Survived vs Dead\")\n",
        "plt.show()"
      ]
    },
    {
      "cell_type": "markdown",
      "metadata": {
        "colab_type": "text",
        "id": "t0Y7ekBB3iB3"
      },
      "source": [
        "Looks like the number of passenger in Pclass 3 was high and most of them could not survive. Most of Pclass 1 passengers survived."
      ]
    },
    {
      "cell_type": "code",
      "execution_count": null,
      "metadata": {
        "colab": {
          "base_uri": "https://localhost:8080/",
          "height": 419
        },
        "colab_type": "code",
        "id": "_tgg0tgvqXoi",
        "outputId": "e2c3e564-a74c-4492-9e72-a8e4b4319ce4"
      },
      "outputs": [],
      "source": [
        "# Fill missing values in the \"Embarked\" column with \"S\"\n",
        "titanic[\"Embarked\"] = titanic[\"Embarked\"].fillna(\"S\")\n",
        "\n",
        "# Display the updated titanic dataframe\n",
        "titanic"
      ]
    },
    {
      "cell_type": "code",
      "execution_count": null,
      "metadata": {
        "colab": {
          "base_uri": "https://localhost:8080/",
          "height": 719
        },
        "colab_type": "code",
        "id": "IZrXMIUR23C6",
        "outputId": "aa8ebdea-6a56-41f0-bef4-79c61887a78d"
      },
      "outputs": [],
      "source": [
        "fig, ax = plt.subplots(1, 2, figsize = (7, 6))\n",
        "fig.tight_layout(pad=3.0)\n",
        "\n",
        "# Plot the number of passengers by Embarked in the first subplot\n",
        "titanic[\"Embarked\"].value_counts().plot.bar(color = \"skyblue\", ax = ax[0])\n",
        "ax[0].set_title(\"Number Of Passengers By Embarked\")\n",
        "ax[0].set_ylabel(\"Number\")\n",
        "\n",
        "# Plot the count of survived and dead passengers by Embarked in the second subplot\n",
        "sns.countplot(data=titanic, x=\"Embarked\", hue=\"Survived\", ax = ax[1])\n",
        "ax[1].set_title(\"Embarked: Survived vs Unsurvived\")\n"
      ]
    },
    {
      "cell_type": "code",
      "execution_count": null,
      "metadata": {
        "colab": {
          "base_uri": "https://localhost:8080/",
          "height": 592
        },
        "colab_type": "code",
        "id": "rdNQ4O736RCy",
        "outputId": "6d335b92-34c4-4292-b4a1-00f89b8b7e87"
      },
      "outputs": [],
      "source": [
        "# Plot the distribution of the \"Age\" column\n",
        "# The `dropna()` function is used to remove any missing values (`NaN`) \n",
        "# from the 'Age' column before creating the plot. \n",
        "# The `kde` parameter is set to `True` to display the Kernel Density Estimate plot.\n",
        "ax = sns.histplot(titanic['Age'].dropna(), kde=True, color=\"skyblue\")\n",
        "ax.lines[0].set_color('brown')\n",
        "plt.title(\"Distribution of Age\")"
      ]
    },
    {
      "cell_type": "markdown",
      "metadata": {
        "colab_type": "text",
        "id": "nvAa92J3iYSC"
      },
      "source": [
        "Now let's do first multivariate analysis into titanic data set with variables Survived, Pclass,Fear and Age. "
      ]
    },
    {
      "cell_type": "code",
      "execution_count": null,
      "metadata": {
        "colab": {
          "base_uri": "https://localhost:8080/",
          "height": 938
        },
        "colab_type": "code",
        "id": "kPhnbAsk_lwX",
        "outputId": "9f0e158f-6ce9-4a17-a6b4-e554e1f79866"
      },
      "outputs": [],
      "source": [
        "\n",
        "sns.set(style=\"ticks\", color_codes=True)\n",
        "# Pair plot (matrix scatterplot) of few columns\n",
        "sns.pairplot(titanic,height=2,vars = [ 'Fare','Age','Pclass'], hue=\"Survived\")"
      ]
    },
    {
      "cell_type": "markdown",
      "metadata": {
        "colab_type": "text",
        "id": "-JxQfFR5Fe1f"
      },
      "source": [
        "**Correlation Matrix**\n",
        "\n",
        "First map Embarked records with integer values so that we can include Embraked too in our correlation analysis."
      ]
    },
    {
      "cell_type": "code",
      "execution_count": null,
      "metadata": {
        "colab": {
          "base_uri": "https://localhost:8080/",
          "height": 266
        },
        "colab_type": "code",
        "id": "9gXRFOOtEUuq",
        "outputId": "2de9aa8d-2081-49cc-8a63-c37674717007"
      },
      "outputs": [],
      "source": [
        "# Map the values of the \"Embarked\" column to 0, 1, 2, and 3\n",
        "if set(titanic['Embarked']).issubset({'S', 'C', 'Q', 'NaN'}):\n",
        "    titanic['Embarked'] = titanic['Embarked'].map({\"S\":1, \"C\":2,\"Q\":2,\"NaN\":0})\n",
        "    #print(titanic['Embarked'])\n",
        "\n",
        "# The `corr()` computes pairwise correlation of numeric columns in the DataFrame\n",
        "correlation_matrix = titanic.corr(method='pearson', numeric_only='true')\n",
        "correlation_matrix"
      ]
    },
    {
      "cell_type": "markdown",
      "metadata": {},
      "source": [
        "**Heatmap**"
      ]
    },
    {
      "cell_type": "code",
      "execution_count": null,
      "metadata": {
        "colab": {
          "base_uri": "https://localhost:8080/",
          "height": 685
        },
        "colab_type": "code",
        "id": "JPMfqPI1EZaC",
        "outputId": "355f3450-2598-4201-d343-e80b2ce5d9b6"
      },
      "outputs": [],
      "source": [
        "# Plots a correlation heatmap for the given dataframe\n",
        "# Use annot to represent the cell values with text\n",
        "sns.heatmap(correlation_matrix, annot=True)\n",
        "plt.title(\"Correlation Heatmap\")\n"
      ]
    },
    {
      "cell_type": "code",
      "execution_count": null,
      "metadata": {
        "colab": {},
        "colab_type": "code",
        "id": "ttA4KoL1T_iQ"
      },
      "outputs": [],
      "source": []
    }
  ],
  "metadata": {
    "colab": {
      "collapsed_sections": [],
      "name": "Chapter 7- Correlation.ipynb",
      "provenance": []
    },
    "kernelspec": {
      "display_name": "Python 3",
      "name": "python3"
    },
    "language_info": {
      "codemirror_mode": {
        "name": "ipython",
        "version": 3
      },
      "file_extension": ".py",
      "mimetype": "text/x-python",
      "name": "python",
      "nbconvert_exporter": "python",
      "pygments_lexer": "ipython3",
      "version": "3.11.5"
    }
  },
  "nbformat": 4,
  "nbformat_minor": 0
}
