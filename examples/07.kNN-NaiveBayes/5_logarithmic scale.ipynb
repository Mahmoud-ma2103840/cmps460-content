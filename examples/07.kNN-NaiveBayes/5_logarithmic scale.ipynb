{
 "cells": [
  {
   "cell_type": "markdown",
   "metadata": {},
   "source": [
    "\n",
    "Numerical underflow is a common issue when working with probabilities, especially in Naive Bayes classifiers, where probabilities of features given a class are multiplied together. As probabilities often range between 0 and 1, multiplying many small probabilities can lead to numerical underflow, where the result becomes too small to represent accurately with floating-point arithmetic.\n",
    "\n",
    "This notebook demonstrates how to handle numerical underflow by converting probabilities to logarithmic scale. Then instead of multiplying probabilities, sum their logarithms."
   ]
  },
  {
   "cell_type": "code",
   "execution_count": 1,
   "metadata": {},
   "outputs": [
    {
     "name": "stdout",
     "output_type": "stream",
     "text": [
      "P(A|good)           : 2.482e-12\n",
      "P(A|good) * P(good) : 1.7374e-12\n",
      "sum(log(P(A|good))) : -26.721956429146132\n",
      "sum(log(P(Algood))) + log(P(good)):  -27.078631373084864\n",
      "P(A|bad)           : 3.2625000000000003e-16\n",
      "P(A|bad) * P(bad)  : 9.7875e-17\n",
      "sum(log(P(A|bad))) : -35.658867715255916\n",
      "sum(log(P(A|bad))) + log(P(bad)) : -36.86284051958185\n"
     ]
    }
   ],
   "source": [
    "import numpy as np\n",
    "\n",
    "p_A_good = np.array([0.000068, 0.00005, 0.00073])\n",
    "p_good = 0.7\n",
    "\n",
    "print(\"P(A|good)           :\", np.prod(p_A_good))\n",
    "print(\"P(A|good) * P(good) :\", np.prod(p_A_good) * p_good)\n",
    "print(\"sum(log(P(A|good))) :\", np.sum(np.log(p_A_good)))\n",
    "print(\"sum(log(P(Algood))) + log(P(good)): \", np.sum(np.log(p_A_good)) + np.log(p_good))\n",
    "\n",
    "p_A_bad = np.array([0.000005, 0.0000075, 0.0000087])\n",
    "p_bad = 0.3\n",
    "print(\"P(A|bad)           :\", np.prod(p_A_bad))\n",
    "print(\"P(A|bad) * P(bad)  :\", np.prod(p_A_bad) * p_bad)\n",
    "print(\"sum(log(P(A|bad))) :\", np.sum(np.log(p_A_bad)))\n",
    "print(\"sum(log(P(A|bad))) + log(P(bad)) :\", np.sum(np.log(p_A_bad)) + np.log(p_bad))"
   ]
  }
 ],
 "metadata": {
  "kernelspec": {
   "display_name": "cmps460",
   "language": "python",
   "name": "python3"
  },
  "language_info": {
   "codemirror_mode": {
    "name": "ipython",
    "version": 3
   },
   "file_extension": ".py",
   "mimetype": "text/x-python",
   "name": "python",
   "nbconvert_exporter": "python",
   "pygments_lexer": "ipython3",
   "version": "3.12.1"
  }
 },
 "nbformat": 4,
 "nbformat_minor": 2
}
