{
 "cells": [
  {
   "cell_type": "code",
   "execution_count": 1,
   "id": "b13cf676",
   "metadata": {},
   "outputs": [
    {
     "data": {
      "text/plain": [
       "array([[0, 1],\n",
       "       [2, 3],\n",
       "       [4, 5]])"
      ]
     },
     "execution_count": 1,
     "metadata": {},
     "output_type": "execute_result"
    }
   ],
   "source": [
    "# Adopted from https://medium.com/ai-made-simple/understanding-polynomial-regression-d963ebb7cc6e\n",
    "import numpy as np\n",
    "X = np.arange(6).reshape(3, 2)\n",
    "X"
   ]
  },
  {
   "cell_type": "markdown",
   "id": "3b27c99d",
   "metadata": {},
   "source": [
    "The `PolynomialFeatures` is used to generate a new feature matrix consisting of all polynomial combinations of the features with the specified degree. \n",
    "\n",
    "In the first line, the `PolynomialFeatures` class is imported from the `sklearn.preprocessing` module. \n",
    "\n",
    "For example, if the input data is a 2-dimensional array containing two features `[a, b]`, the output of `PolynomialFeatures` with degree 2 will be a 3-dimensional array containing `[1, a, b, a^2, ab, b^2]`.\n",
    "\n",
    "The `fit_transform` method is a combination of the `fit` and `transform` methods. The `fit` method computes the necessary transformation based on the input data, and the `transform` method applies this transformation to the data. The result is a new feature matrix that includes the polynomial features of the input data."
   ]
  },
  {
   "cell_type": "code",
   "execution_count": 2,
   "id": "8ed97246",
   "metadata": {},
   "outputs": [
    {
     "data": {
      "text/plain": [
       "array([[ 1.,  0.,  1.,  0.,  0.,  1.],\n",
       "       [ 1.,  2.,  3.,  4.,  6.,  9.],\n",
       "       [ 1.,  4.,  5., 16., 20., 25.]])"
      ]
     },
     "execution_count": 2,
     "metadata": {},
     "output_type": "execute_result"
    }
   ],
   "source": [
    "from sklearn.preprocessing import PolynomialFeatures\n",
    "poly = PolynomialFeatures(2)\n",
    "poly.fit_transform(X)"
   ]
  },
  {
   "cell_type": "code",
   "execution_count": 3,
   "id": "147729dc",
   "metadata": {},
   "outputs": [
    {
     "data": {
      "text/plain": [
       "array([[  1.,   0.,   1.,   0.,   0.,   1.,   0.,   0.,   0.,   1.],\n",
       "       [  1.,   2.,   3.,   4.,   6.,   9.,   8.,  12.,  18.,  27.],\n",
       "       [  1.,   4.,   5.,  16.,  20.,  25.,  64.,  80., 100., 125.]])"
      ]
     },
     "execution_count": 3,
     "metadata": {},
     "output_type": "execute_result"
    }
   ],
   "source": [
    "poly = PolynomialFeatures(3)\n",
    "poly.fit_transform(X)"
   ]
  }
 ],
 "metadata": {
  "kernelspec": {
   "display_name": "Python 3 (ipykernel)",
   "language": "python",
   "name": "python3"
  },
  "language_info": {
   "codemirror_mode": {
    "name": "ipython",
    "version": 3
   },
   "file_extension": ".py",
   "mimetype": "text/x-python",
   "name": "python",
   "nbconvert_exporter": "python",
   "pygments_lexer": "ipython3",
   "version": "3.12.1"
  }
 },
 "nbformat": 4,
 "nbformat_minor": 5
}
