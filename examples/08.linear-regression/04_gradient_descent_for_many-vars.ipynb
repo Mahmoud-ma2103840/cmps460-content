{
 "cells": [
  {
   "cell_type": "markdown",
   "metadata": {},
   "source": []
  },
  {
   "cell_type": "code",
   "execution_count": 6,
   "metadata": {},
   "outputs": [],
   "source": [
    "# Gradient Descent for Linear Regression\n",
    "# yhat = wx + b \n",
    "# mse = (y-yhat)**2 / 2m \n",
    "import numpy as np\n",
    "\n",
    "np.set_printoptions(suppress = True,\n",
    "   formatter = {'float_kind':'{:f}'.format})"
   ]
  },
  {
   "cell_type": "markdown",
   "metadata": {},
   "source": [
    "## Gradient Descent With Multiple Variables\n",
    "$$\\begin{align*} \\text{repeat}&\\text{ until convergence:} \\; \\lbrace \\newline\\;\n",
    "& w_j = w_j -  \\alpha \\frac{\\partial J(\\mathbf{w},b)}{\\partial w_j} \\tag{1}  \\; & \\text{for j = 0..n-1}\\newline\n",
    "&b\\ \\ = b -  \\alpha \\frac{\\partial J(\\mathbf{w},b)}{\\partial b}  \\newline \\rbrace\n",
    "\\end{align*}$$\n",
    "\n",
    "where, n is the number of features, parameters $w_j$,  $b$, are updated simultaneously and where  \n",
    "\n",
    "$$\n",
    "\\begin{align}\n",
    "\\frac{\\partial J(\\mathbf{w},b)}{\\partial w_j}  &= \\frac{1}{m} \\sum\\limits_{i = 0}^{m-1} (\\hat{y}^{(i)} - y^{(i)})x_{j}^{(i)} \\tag{2}  \\\\\n",
    "\\frac{\\partial J(\\mathbf{w},b)}{\\partial b}  &= \\frac{1}{m} \\sum\\limits_{i = 0}^{m-1} (\\hat{y}^{(i)} - y^{(i)}) \\tag{3}\n",
    "\\end{align}\n",
    "$$\n",
    "* m is the number of training examples in the data set\n",
    "\n",
    "    \n",
    "* $\\hat{y}^{(i)} = f_{\\mathbf{w},b}(\\mathbf{x}^{(i)})$ is the model's prediction, while $y^{(i)}$ is the target value"
   ]
  },
  {
   "cell_type": "code",
   "execution_count": 14,
   "metadata": {},
   "outputs": [
    {
     "name": "stdout",
     "output_type": "stream",
     "text": [
      "[[2 3]\n",
      " [4 5]]\n",
      "[[2 4]\n",
      " [3 5]]\n",
      "[[13 23]\n",
      " [23 41]]\n",
      "[[ 6  9]\n",
      " [12 15]]\n"
     ]
    }
   ],
   "source": [
    "z = np.array([[2, 3], [4, 5]])\n",
    "print(z)\n",
    "\n",
    "print(z.T)\n",
    "\n",
    "print(np.dot(z, z.T))\n",
    "\n",
    "a = [1, 2, 3]\n",
    "print(z * 3)"
   ]
  },
  {
   "cell_type": "code",
   "execution_count": 8,
   "metadata": {},
   "outputs": [],
   "source": [
    "# Create gradient descent function\n",
    "def gradient_descend(X, y, w, b, learning_rate): \n",
    "    m = X.shape[0]\n",
    "    y_pred = np.dot(X, w) + b\n",
    "    #print (\"y_pred\", y_pred)\n",
    "\n",
    "    # X => Colums of features & Rows number of samples\n",
    "    # y => Rows of samples\n",
    "\n",
    "    dw = (1/m) * np.dot(X.T, (y_pred - y))\n",
    "    db = (1/m) * np.sum(y_pred - y)\n",
    "\n",
    "    \"\"\"sumDw = 0\n",
    "    sumDb = 0\n",
    "    for i in range(m):\n",
    "        sumDw += (y_pred[i]-y[i])*X[i]\n",
    "        sumDb += (y_pred[i]-y[i]) \"\"\"\n",
    "        \n",
    "    #dw = (1/m) * sumDw \n",
    "   #db = (1/m) * sumDb\n",
    "    #print (\"dw\", dw)\n",
    "    #print (\"db\", db)\n",
    "\n",
    "    # Make an update to the w parameter \n",
    "    w = w - (learning_rate * dw)\n",
    "    b = b - (learning_rate * db)\n",
    "    return w, b"
   ]
  },
  {
   "cell_type": "code",
   "execution_count": 9,
   "metadata": {},
   "outputs": [],
   "source": [
    "def fit(X, y, learning_rate = 0.001):\n",
    "    # Parameters\n",
    "    n_features = X.shape[1]\n",
    "    w = np.zeros(n_features)\n",
    "    b = 0.0 \n",
    "    \n",
    "    # Iteratively make updates\n",
    "    for epoch in range(1000): \n",
    "        w, b = gradient_descend(X, y, w, b, learning_rate)\n",
    "        # Debugging - Calculate the mse and print it every 100 epochs\n",
    "        if epoch % 100 == 0:\n",
    "            y_pred = np.dot(X, w) + b\n",
    "            mse = np.mean((y_pred-y)**2)\n",
    "            print(f'{epoch} mse is {mse}, paramters w:{w}, b:{b}')\n",
    "    \n",
    "    return w, b"
   ]
  },
  {
   "cell_type": "code",
   "execution_count": 10,
   "metadata": {},
   "outputs": [],
   "source": [
    "def predict(X, w, b):\n",
    "    y_pred = np.dot(X, w) + b\n",
    "    return y_pred"
   ]
  },
  {
   "cell_type": "code",
   "execution_count": 11,
   "metadata": {},
   "outputs": [
    {
     "name": "stdout",
     "output_type": "stream",
     "text": [
      "(4, 2) (4,)\n",
      "0 mse is 193.80047896875004, paramters w:[0.038500 0.051250], b:0.012750000000000001\n",
      "100 mse is 8.782391827792338, paramters w:[1.593807 2.087506], b:0.4936992330167193\n",
      "200 mse is 6.477689422407822, paramters w:[1.793954 2.300350], b:0.5063963785479015\n",
      "300 mse is 6.387237602795848, paramters w:[1.844496 2.312753], b:0.4682566006192434\n",
      "400 mse is 6.325705968743046, paramters w:[1.878092 2.303289], b:0.4251966871458539\n",
      "500 mse is 6.266565919823646, paramters w:[1.909346 2.291604], b:0.3822574194988948\n",
      "600 mse is 6.209427323797611, paramters w:[1.939873 2.279855], b:0.3399821611726684\n",
      "700 mse is 6.154218829402291, paramters w:[1.969858 2.268278], b:0.2984196139735879\n",
      "800 mse is 6.10087519536888, paramters w:[1.999330 2.256894], b:0.2575642405869131\n",
      "900 mse is 6.049333428973551, paramters w:[2.028300 2.245705], b:0.21740472133867594\n",
      "w [2.056494 2.234815]\n",
      "b 0.1783206893367041\n",
      "X_test: [[5 6]\n",
      " [6 7]]\n",
      "y_pred: [23.869678 28.160986]\n"
     ]
    }
   ],
   "source": [
    "# Testing the model\n",
    "X = np.array([[1, 2], [2, 3], [3, 4], [4, 5]])\n",
    "y = np.array([6, 10, 12, 23])\n",
    "#X = np.array([0, 5, 10, 15, 20, 25, 30, 35, 40, 45, 50])\n",
    "#y = np.array([5, 8, 16, 19, 30, 35, 30, 43, 41, 44, 58])\n",
    "\n",
    "print(X.shape, y.shape)\n",
    "w, b = fit(X, y, learning_rate=0.001)\n",
    "print(\"w\", w)\n",
    "print(\"b\", b)\n",
    "\n",
    "X_test = np.array([[5, 6], [6, 7]])\n",
    "y_pred = predict(X_test, w, b)\n",
    "print(\"X_test:\", X_test)\n",
    "print(\"y_pred:\", y_pred)"
   ]
  }
 ],
 "metadata": {
  "kernelspec": {
   "display_name": "cmps460",
   "language": "python",
   "name": "python3"
  },
  "language_info": {
   "codemirror_mode": {
    "name": "ipython",
    "version": 3
   },
   "file_extension": ".py",
   "mimetype": "text/x-python",
   "name": "python",
   "nbconvert_exporter": "python",
   "pygments_lexer": "ipython3",
   "version": "3.12.1"
  }
 },
 "nbformat": 4,
 "nbformat_minor": 2
}
