{
  "nbformat": 4,
  "nbformat_minor": 0,
  "metadata": {
    "colab": {
      "name": "006_XORProblem.ipynb",
      "provenance": [],
      "collapsed_sections": [],
      "include_colab_link": true
    },
    "kernelspec": {
      "name": "python3",
      "display_name": "Python 3"
    },
    "accelerator": "GPU"
  },
  "cells": [
    {
      "cell_type": "markdown",
      "metadata": {
        "id": "view-in-github",
        "colab_type": "text"
      },
      "source": [
        "<a href=\"https://colab.research.google.com/github/maticvl/dataHacker/blob/master/pyTorch/006%20Solving%20The%20XOR%20Problem%20Using%20Neural%20Networks%20with%20PyTorch.ipynb\" target=\"_parent\"><img src=\"https://colab.research.google.com/assets/colab-badge.svg\" alt=\"Open In Colab\"/></a>"
      ]
    },
    {
      "cell_type": "markdown",
      "metadata": {
        "id": "E2rN0aaYIRuF"
      },
      "source": [
        "![datahacker.png](data:image/png;base64,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)\r\n",
        "# XOR Problem"
      ]
    },
    {
      "cell_type": "code",
      "metadata": {
        "id": "5vmDTMaX5JHx"
      },
      "source": [
        "import numpy as np\r\n",
        "import torch \r\n",
        "import matplotlib.pyplot as plt"
      ],
      "execution_count": 5,
      "outputs": []
    },
    {
      "cell_type": "markdown",
      "metadata": {
        "id": "_Gx9OMLomV3j"
      },
      "source": [
        "## AND function with Logistic Regression"
      ]
    },
    {
      "cell_type": "markdown",
      "metadata": {
        "id": "b8vVMQaEfZlg"
      },
      "source": [
        "Creating out data for the AND logical operator."
      ]
    },
    {
      "cell_type": "code",
      "metadata": {
        "id": "689SQMgY9bYc"
      },
      "source": [
        "x1 = np.array ([0., 0., 1., 1.], dtype = np.float32)\r\n",
        "x2 = np.array ([0., 1., 0., 1.], dtype = np.float32)\r\n",
        "y  = np.array ([0., 0., 0., 1.],dtype = np.float32)"
      ],
      "execution_count": 6,
      "outputs": []
    },
    {
      "cell_type": "code",
      "metadata": {
        "colab": {
          "base_uri": "https://localhost:8080/",
          "height": 282
        },
        "id": "V_ES70Zj9XD0",
        "outputId": "32e31846-96c0-43b0-ec87-f7276fff8eee"
      },
      "source": [
        "plt.scatter(x1, x2, c=y)"
      ],
      "execution_count": 7,
      "outputs": [
        {
          "output_type": "execute_result",
          "data": {
            "text/plain": [
              "<matplotlib.collections.PathCollection at 0x7f618bd2bc88>"
            ]
          },
          "metadata": {
            "tags": []
          },
          "execution_count": 7
        },
        {
          "output_type": "display_data",
          "data": {
            "image/png": "[encoded data removed]",
            "text/plain": [
              "<Figure size 432x288 with 1 Axes>"
            ]
          },
          "metadata": {
            "tags": [],
            "needs_background": "light"
          }
        }
      ]
    },
    {
      "cell_type": "markdown",
      "metadata": {
        "id": "206DiHvkfEMS"
      },
      "source": [
        "Make a function that will take in two features and one array for the labels and create a dataset out of those points. It will return a split version, meaning, we will obtain a Training and a Testing set. "
      ]
    },
    {
      "cell_type": "code",
      "metadata": {
        "id": "HKvQ4HtD9vBB"
      },
      "source": [
        "def create_dataset(x1, x2, y):\r\n",
        "  # Repeat the numbers from x1, x2, and y 50 times\r\n",
        "  x1 = np.repeat(x1, 50)\r\n",
        "  x2 = np.repeat(x2, 50)\r\n",
        "  y =  np.repeat(y,  50)\r\n",
        "\r\n",
        "  # Add noise to data points just to have some data variety\r\n",
        "  x1 = x1 + np.random.rand(x1.shape[0])*0.05\r\n",
        "  x2 = x2 + np.random.rand(x2.shape[0])*0.05\r\n",
        "\r\n",
        "  # Shuffle\r\n",
        "  index_shuffle = np.arange(x1.shape[0])\r\n",
        "  np.random.shuffle(index_shuffle)\r\n",
        "\r\n",
        "  x1 = x1.astype(np.float32)\r\n",
        "  x2 = x2.astype(np.float32)\r\n",
        "  y  = y.astype(np.float32)\r\n",
        "\r\n",
        "  x1 = x1[index_shuffle]\r\n",
        "  x2 = x2[index_shuffle]\r\n",
        "  y  = y [index_shuffle]\r\n",
        "\r\n",
        "  # Convert data to tensors\r\n",
        "  x1_torch = torch.from_numpy(x1).clone().view(-1, 1)\r\n",
        "  x2_torch = torch.from_numpy(x2).clone().view(-1, 1)\r\n",
        "  y_torch = torch.from_numpy(y).clone().view(-1, 1)\r\n",
        "\r\n",
        "  # Combine X1 and X2\r\n",
        "  X = torch.hstack([x1_torch, x2_torch])\r\n",
        "\r\n",
        "\r\n",
        "  # Split into training and testing\r\n",
        "  X_train = X[:150,:]\r\n",
        "  X_test  = X[150:,:]\r\n",
        "  y_train = y_torch[:150,:]\r\n",
        "  y_test  = y_torch[150:,:]\r\n",
        "\r\n",
        "  return X_train, y_train, X_test, y_test"
      ],
      "execution_count": 8,
      "outputs": []
    },
    {
      "cell_type": "markdown",
      "metadata": {
        "id": "jDtueU-cfc1O"
      },
      "source": [
        "Calling the `create_dataset` function that we created and obtain training and testing datasets."
      ]
    },
    {
      "cell_type": "code",
      "metadata": {
        "colab": {
          "base_uri": "https://localhost:8080/",
          "height": 282
        },
        "id": "bSQiNsEe-Brl",
        "outputId": "bea394da-8661-4040-9764-e9e96b473eb1"
      },
      "source": [
        "X_train, y_train, X_test, y_test = create_dataset(x1, x2, y)\r\n",
        "plt.scatter(X_train[:,0], X_train[:,1], c = y_train)"
      ],
      "execution_count": 9,
      "outputs": [
        {
          "output_type": "execute_result",
          "data": {
            "text/plain": [
              "<matplotlib.collections.PathCollection at 0x7f618bc99828>"
            ]
          },
          "metadata": {
            "tags": []
          },
          "execution_count": 9
        },
        {
          "output_type": "display_data",
          "data": {
            "image/png": "[encoded data removed]",
            "text/plain": [
              "<Figure size 432x288 with 1 Axes>"
            ]
          },
          "metadata": {
            "tags": [],
            "needs_background": "light"
          }
        }
      ]
    },
    {
      "cell_type": "markdown",
      "metadata": {
        "id": "T4eR0C1bfjjY"
      },
      "source": [
        "Create the logistic regression model.\\\r\n",
        " We set two input parameters the input dimension (`input_dim`) and output dimension (`output_dim`)."
      ]
    },
    {
      "cell_type": "code",
      "metadata": {
        "id": "5LRbIeuMD0Ft"
      },
      "source": [
        "class LogisticRegresion(torch.nn.Module):\r\n",
        "  def __init__(self, input_dim, output_dim):\r\n",
        "    super(LogisticRegresion, self).__init__()\r\n",
        "    self.linear = torch.nn.Linear(input_dim, output_dim)\r\n",
        "  \r\n",
        "  def forward( self, x):\r\n",
        "    x = self.linear(x)\r\n",
        "    outputs = torch.sigmoid(x)\r\n",
        "    return outputs"
      ],
      "execution_count": 10,
      "outputs": []
    },
    {
      "cell_type": "markdown",
      "metadata": {
        "id": "Ne4n34OBgURC"
      },
      "source": [
        "Using the `LogisticRegression` class we wil create our first logical operator, the `AND` operator. For the loss we will be using the BCE or Binary cross entropy loss function, and for the optimizer the SGD or Stohastic Gradient descent."
      ]
    },
    {
      "cell_type": "code",
      "metadata": {
        "id": "--b6znup-Ohz"
      },
      "source": [
        "model_AND = LogisticRegresion(2,1)\r\n",
        "criterion = torch.nn.BCELoss()\r\n",
        "optimizer = torch.optim.SGD(model_AND.parameters(), lr=0.01)"
      ],
      "execution_count": 12,
      "outputs": []
    },
    {
      "cell_type": "markdown",
      "metadata": {
        "id": "tgVEOo4ig00K"
      },
      "source": [
        "After those definitions we can move on and create a function for the training. This function accepts a `model` that we want to train, `criterion`, `optimizer`, the `data` and number of `iterations` as input. Inside the training loop we start by making a prediction, and then calculating the loss. We save the loss into a list called, `all_loss`. After the loss calculation, we do a backward pass and then optimize our models parameters and zero the gradients. We will only return the `all_loss` list, because the parameters will be saved even without returning them."
      ]
    },
    {
      "cell_type": "code",
      "metadata": {
        "id": "RDXEFCeu-f8V"
      },
      "source": [
        "def train(model, criterion, optimizer, X, y, iter):\r\n",
        "  all_loss = []\r\n",
        "  for epoch in range(iter):\r\n",
        "    y_hat = model(X)\r\n",
        "\r\n",
        "    loss = criterion(y_hat, y)\r\n",
        "\r\n",
        "    all_loss.append(loss.item())\r\n",
        "    loss.backward()\r\n",
        "\r\n",
        "    optimizer.step()\r\n",
        "    optimizer.zero_grad()\r\n",
        "  \r\n",
        "  return all_loss"
      ],
      "execution_count": 13,
      "outputs": []
    },
    {
      "cell_type": "markdown",
      "metadata": {
        "id": "43bEpcd2hUTt"
      },
      "source": [
        "Train our `model_AND` operator on the data we defined earlier. The number of iterations will be 50000. You can experiment with this number."
      ]
    },
    {
      "cell_type": "code",
      "metadata": {
        "id": "PJAq0Dw8RLnW"
      },
      "source": [
        "all_loss = train(model_AND, criterion, optimizer, X_train, y_train, 50000)"
      ],
      "execution_count": 14,
      "outputs": []
    },
    {
      "cell_type": "markdown",
      "metadata": {
        "id": "T6ortpLdhdeT"
      },
      "source": [
        "After the training we can simply scatter the points. By looking at the plot we can see that the data was mostly correctly classified."
      ]
    },
    {
      "cell_type": "code",
      "metadata": {
        "id": "CoJ4ccLB42Im",
        "colab": {
          "base_uri": "https://localhost:8080/",
          "height": 282
        },
        "outputId": "def91ad8-ebe3-42d8-8a95-b4ca3ca75a5c"
      },
      "source": [
        "y_pred = model_AND.forward(X_test)\r\n",
        "\r\n",
        "# We should get points (0,0,) and (1,1) if everything is correctly classified\r\n",
        "plt.scatter(y_pred.detach().numpy(), y_test)"
      ],
      "execution_count": 15,
      "outputs": [
        {
          "output_type": "execute_result",
          "data": {
            "text/plain": [
              "<matplotlib.collections.PathCollection at 0x7f618378da58>"
            ]
          },
          "metadata": {
            "tags": []
          },
          "execution_count": 15
        },
        {
          "output_type": "display_data",
          "data": {
            "image/png": "[encoded data removed]",
            "text/plain": [
              "<Figure size 432x288 with 1 Axes>"
            ]
          },
          "metadata": {
            "tags": [],
            "needs_background": "light"
          }
        }
      ]
    },
    {
      "cell_type": "markdown",
      "metadata": {
        "id": "Fqf0CwCihtNi"
      },
      "source": [
        "We saved the loss, and here we will simply plot it. We can see that the loss was gradually dropping, which is the main goal."
      ]
    },
    {
      "cell_type": "code",
      "metadata": {
        "id": "fm0Yon-_3ZZV",
        "colab": {
          "base_uri": "https://localhost:8080/",
          "height": 282
        },
        "outputId": "6130eff3-d0e9-40db-f236-e1fc723e2e32"
      },
      "source": [
        "plt.plot(all_loss)"
      ],
      "execution_count": 16,
      "outputs": [
        {
          "output_type": "execute_result",
          "data": {
            "text/plain": [
              "[<matplotlib.lines.Line2D at 0x7f61836e7898>]"
            ]
          },
          "metadata": {
            "tags": []
          },
          "execution_count": 16
        },
        {
          "output_type": "display_data",
          "data": {
            "image/png": "[encoded data removed]",
            "text/plain": [
              "<Figure size 432x288 with 1 Axes>"
            ]
          },
          "metadata": {
            "tags": [],
            "needs_background": "light"
          }
        }
      ]
    },
    {
      "cell_type": "markdown",
      "metadata": {
        "id": "DulvtO-vs_qS"
      },
      "source": [
        "## OR function with Logistic Regression"
      ]
    },
    {
      "cell_type": "markdown",
      "metadata": {
        "id": "qeYIQrJaiL6P"
      },
      "source": [
        "After we trained our `AND` logical operator, we can start creating the data for the `OR` operator. `x1` and `x2` will be the same, we will just change the output, or the `y` variable."
      ]
    },
    {
      "cell_type": "code",
      "metadata": {
        "id": "m7e6qJjJsBvL",
        "colab": {
          "base_uri": "https://localhost:8080/",
          "height": 282
        },
        "outputId": "2cd7e707-e861-4918-e2f5-13282c07ff0b"
      },
      "source": [
        "x1 = np.array ([0., 0., 1., 1.], dtype = np.float32)\r\n",
        "x2 = np.array ([0., 1., 0., 1.], dtype = np.float32)\r\n",
        "y  = np.array ([0., 1., 1., 1. ],dtype = np.float32)\r\n",
        "plt.scatter(x1, x2, c=y)"
      ],
      "execution_count": 17,
      "outputs": [
        {
          "output_type": "execute_result",
          "data": {
            "text/plain": [
              "<matplotlib.collections.PathCollection at 0x7f61836ca588>"
            ]
          },
          "metadata": {
            "tags": []
          },
          "execution_count": 17
        },
        {
          "output_type": "display_data",
          "data": {
            "image/png": "[encoded data removed]",
            "text/plain": [
              "<Figure size 432x288 with 1 Axes>"
            ]
          },
          "metadata": {
            "tags": [],
            "needs_background": "light"
          }
        }
      ]
    },
    {
      "cell_type": "markdown",
      "metadata": {
        "id": "2bXokHfOiavV"
      },
      "source": [
        "Call the `create_dataset` function and scatter the points."
      ]
    },
    {
      "cell_type": "code",
      "metadata": {
        "colab": {
          "base_uri": "https://localhost:8080/",
          "height": 282
        },
        "id": "v88jyhm4LlKT",
        "outputId": "15d37872-5c35-4117-b948-1e86fd10561d"
      },
      "source": [
        "X_train, y_train, X_test, y_test = create_dataset(x1, x2, y)\r\n",
        "plt.scatter(X_train[:, 0], X_train[:, 1], c=y_train)"
      ],
      "execution_count": 18,
      "outputs": [
        {
          "output_type": "execute_result",
          "data": {
            "text/plain": [
              "<matplotlib.collections.PathCollection at 0x7f618c209710>"
            ]
          },
          "metadata": {
            "tags": []
          },
          "execution_count": 18
        },
        {
          "output_type": "display_data",
          "data": {
            "image/png": "[encoded data removed]",
            "text/plain": [
              "<Figure size 432x288 with 1 Axes>"
            ]
          },
          "metadata": {
            "tags": [],
            "needs_background": "light"
          }
        }
      ]
    },
    {
      "cell_type": "markdown",
      "metadata": {
        "id": "JA5vzONDieru"
      },
      "source": [
        "Here, we create our `model_OR` and everything will be the same as we did for the `model_AND`."
      ]
    },
    {
      "cell_type": "code",
      "metadata": {
        "id": "_2CSV4xAtbwz"
      },
      "source": [
        "model_OR = LogisticRegresion(2,1)\r\n",
        "criterion = torch.nn.BCELoss()\r\n",
        "optimizer = torch.optim.SGD(model_OR.parameters(), lr=0.01)"
      ],
      "execution_count": 19,
      "outputs": []
    },
    {
      "cell_type": "code",
      "metadata": {
        "id": "OeBKTsugtvfP"
      },
      "source": [
        "all_loss = train(model_OR, criterion, optimizer, X_train, y_train, 50000)"
      ],
      "execution_count": 20,
      "outputs": []
    },
    {
      "cell_type": "code",
      "metadata": {
        "colab": {
          "base_uri": "https://localhost:8080/",
          "height": 282
        },
        "id": "nIV2pZKg_J2V",
        "outputId": "dc0535ad-17e1-4a70-f603-8b7a886d255f"
      },
      "source": [
        "y_pred = model_OR.forward(X_test)\r\n",
        "plt.scatter(y_pred.detach().numpy(), y_test)"
      ],
      "execution_count": 21,
      "outputs": [
        {
          "output_type": "execute_result",
          "data": {
            "text/plain": [
              "<matplotlib.collections.PathCollection at 0x7f618368fb38>"
            ]
          },
          "metadata": {
            "tags": []
          },
          "execution_count": 21
        },
        {
          "output_type": "display_data",
          "data": {
            "image/png": "[encoded data removed]",
            "text/plain": [
              "<Figure size 432x288 with 1 Axes>"
            ]
          },
          "metadata": {
            "tags": [],
            "needs_background": "light"
          }
        }
      ]
    },
    {
      "cell_type": "code",
      "metadata": {
        "colab": {
          "base_uri": "https://localhost:8080/",
          "height": 284
        },
        "id": "ibB2nkTmNJ2Z",
        "outputId": "6362cbaf-0a1e-40dc-a051-39ee6c5ad426"
      },
      "source": [
        "plt.plot(all_loss)"
      ],
      "execution_count": 22,
      "outputs": [
        {
          "output_type": "execute_result",
          "data": {
            "text/plain": [
              "[<matplotlib.lines.Line2D at 0x7f6183888978>]"
            ]
          },
          "metadata": {
            "tags": []
          },
          "execution_count": 22
        },
        {
          "output_type": "display_data",
          "data": {
            "image/png": "[encoded data removed]",
            "text/plain": [
              "<Figure size 432x288 with 1 Axes>"
            ]
          },
          "metadata": {
            "tags": [],
            "needs_background": "light"
          }
        }
      ]
    },
    {
      "cell_type": "markdown",
      "metadata": {
        "id": "JwDhyS27NWfU"
      },
      "source": [
        "## NAND function with Logistic Regression"
      ]
    },
    {
      "cell_type": "markdown",
      "metadata": {
        "id": "h1bqmubwinpL"
      },
      "source": [
        "After those steps, we can create the data for `NAND`. Again, we just change the `y` data. And all the other steps are the same as for the last two models."
      ]
    },
    {
      "cell_type": "code",
      "metadata": {
        "colab": {
          "base_uri": "https://localhost:8080/",
          "height": 282
        },
        "id": "WMzOeIvINQ2A",
        "outputId": "7b7606a6-7a07-4f39-f4df-82dc61cf48c2"
      },
      "source": [
        "x1 = np.array ([0., 0., 1., 1.], dtype = np.float32)\r\n",
        "x2 = np.array ([0., 1., 0., 1.], dtype = np.float32)\r\n",
        "y  = np.array ([1., 1., 1., 0.], dtype = np.float32)\r\n",
        "plt.scatter(x1, x2, c=y)"
      ],
      "execution_count": 23,
      "outputs": [
        {
          "output_type": "execute_result",
          "data": {
            "text/plain": [
              "<matplotlib.collections.PathCollection at 0x7f61837ee630>"
            ]
          },
          "metadata": {
            "tags": []
          },
          "execution_count": 23
        },
        {
          "output_type": "display_data",
          "data": {
            "image/png": "[encoded data removed]",
            "text/plain": [
              "<Figure size 432x288 with 1 Axes>"
            ]
          },
          "metadata": {
            "tags": [],
            "needs_background": "light"
          }
        }
      ]
    },
    {
      "cell_type": "code",
      "metadata": {
        "colab": {
          "base_uri": "https://localhost:8080/",
          "height": 282
        },
        "id": "g9DEKc42NQ2K",
        "outputId": "9961a51a-fecd-4e95-c9c6-e88a3926c7bb"
      },
      "source": [
        "X_train, y_train, X_test, y_test = create_dataset(x1, x2, y)\r\n",
        "plt.scatter(X_train[:, 0], X_train[:, 1], c=y_train)"
      ],
      "execution_count": 24,
      "outputs": [
        {
          "output_type": "execute_result",
          "data": {
            "text/plain": [
              "<matplotlib.collections.PathCollection at 0x7f6183453358>"
            ]
          },
          "metadata": {
            "tags": []
          },
          "execution_count": 24
        },
        {
          "output_type": "display_data",
          "data": {
            "image/png": "[encoded data removed]",
            "text/plain": [
              "<Figure size 432x288 with 1 Axes>"
            ]
          },
          "metadata": {
            "tags": [],
            "needs_background": "light"
          }
        }
      ]
    },
    {
      "cell_type": "code",
      "metadata": {
        "id": "67dFjf5wNQ2O"
      },
      "source": [
        "model_NAND = LogisticRegresion(2,1)\r\n",
        "criterion = torch.nn.BCELoss()\r\n",
        "optimizer = torch.optim.SGD(model_NAND.parameters(), lr=0.01)"
      ],
      "execution_count": 25,
      "outputs": []
    },
    {
      "cell_type": "code",
      "metadata": {
        "id": "2wu03hMXNQ2O"
      },
      "source": [
        "all_loss = train(model_NAND, criterion, optimizer, X_train, y_train, 50000)"
      ],
      "execution_count": 26,
      "outputs": []
    },
    {
      "cell_type": "code",
      "metadata": {
        "colab": {
          "base_uri": "https://localhost:8080/",
          "height": 282
        },
        "id": "CTY0IzZv_j-u",
        "outputId": "e664cbc5-ab7a-4356-8ae0-df3ee4a58ce0"
      },
      "source": [
        "y_pred = model_NAND.forward(X_test)\r\n",
        "plt.scatter(y_pred.detach().numpy(), y_test)"
      ],
      "execution_count": 27,
      "outputs": [
        {
          "output_type": "execute_result",
          "data": {
            "text/plain": [
              "<matplotlib.collections.PathCollection at 0x7f61834992b0>"
            ]
          },
          "metadata": {
            "tags": []
          },
          "execution_count": 27
        },
        {
          "output_type": "display_data",
          "data": {
            "image/png": "[encoded data removed]",
            "text/plain": [
              "<Figure size 432x288 with 1 Axes>"
            ]
          },
          "metadata": {
            "tags": [],
            "needs_background": "light"
          }
        }
      ]
    },
    {
      "cell_type": "code",
      "metadata": {
        "colab": {
          "base_uri": "https://localhost:8080/",
          "height": 282
        },
        "id": "8Cj5aTvmNQ2P",
        "outputId": "50111071-fdb0-4b03-adab-058057af1ce8"
      },
      "source": [
        "plt.plot(all_loss)"
      ],
      "execution_count": 28,
      "outputs": [
        {
          "output_type": "execute_result",
          "data": {
            "text/plain": [
              "[<matplotlib.lines.Line2D at 0x7f618355a128>]"
            ]
          },
          "metadata": {
            "tags": []
          },
          "execution_count": 28
        },
        {
          "output_type": "display_data",
          "data": {
            "image/png": "[encoded data removed]",
            "text/plain": [
              "<Figure size 432x288 with 1 Axes>"
            ]
          },
          "metadata": {
            "tags": [],
            "needs_background": "light"
          }
        }
      ]
    },
    {
      "cell_type": "markdown",
      "metadata": {
        "id": "Xl1a-JmyN3YS"
      },
      "source": [
        "## XOR dataset"
      ]
    },
    {
      "cell_type": "markdown",
      "metadata": {
        "id": "ebhlOtx-uxH4"
      },
      "source": [
        "Here, we finally create the XOR dataset.\\\r\n",
        "We will use previously developed `AND`, `OR`, and `NAND` Logistic Regression models to implement a `XOR` using these Logistic regression models. Initially, we apply two (`OR`, `NAND`), and those two outputs are used as inputs into the third one (`AND`). "
      ]
    },
    {
      "cell_type": "code",
      "metadata": {
        "colab": {
          "base_uri": "https://localhost:8080/",
          "height": 282
        },
        "id": "gyZ2gDwzuwZ_",
        "outputId": "e999741d-cb38-4b8b-a8b9-0750755634f3"
      },
      "source": [
        "x1 = np.array ([0., 0., 1., 1.], dtype = np.float32)\r\n",
        "x2 = np.array ([0., 1., 0., 1.], dtype = np.float32)\r\n",
        "y  = np.array ([0., 1., 1., 0. ],dtype = np.float32)\r\n",
        "plt.scatter(x1, x2, c=y)"
      ],
      "execution_count": 29,
      "outputs": [
        {
          "output_type": "execute_result",
          "data": {
            "text/plain": [
              "<matplotlib.collections.PathCollection at 0x7f6183534748>"
            ]
          },
          "metadata": {
            "tags": []
          },
          "execution_count": 29
        },
        {
          "output_type": "display_data",
          "data": {
            "image/png": "[encoded data removed]",
            "text/plain": [
              "<Figure size 432x288 with 1 Axes>"
            ]
          },
          "metadata": {
            "tags": [],
            "needs_background": "light"
          }
        }
      ]
    },
    {
      "cell_type": "code",
      "metadata": {
        "colab": {
          "base_uri": "https://localhost:8080/",
          "height": 282
        },
        "id": "OBGlajgeOulM",
        "outputId": "e2ae478f-2766-4988-fcd0-dcf14e22fdbb"
      },
      "source": [
        "X_train, y_train, X_test, y_test = create_dataset(x1, x2, y)\r\n",
        "plt.scatter(X_train[:, 0], X_train[:, 1], c=y_train)"
      ],
      "execution_count": 30,
      "outputs": [
        {
          "output_type": "execute_result",
          "data": {
            "text/plain": [
              "<matplotlib.collections.PathCollection at 0x7f61832d7470>"
            ]
          },
          "metadata": {
            "tags": []
          },
          "execution_count": 30
        },
        {
          "output_type": "display_data",
          "data": {
            "image/png": "[encoded data removed]",
            "text/plain": [
              "<Figure size 432x288 with 1 Axes>"
            ]
          },
          "metadata": {
            "tags": [],
            "needs_background": "light"
          }
        }
      ]
    },
    {
      "cell_type": "markdown",
      "metadata": {
        "id": "utBpH0NLjDLh"
      },
      "source": [
        "For testing purposes we will take the 17th value. As the output we get a value that is close to 0, and if we check the original value, we can see that it is also a value of 0. This means that our model predicted that that point belongs to class 0."
      ]
    },
    {
      "cell_type": "code",
      "metadata": {
        "id": "dFacwUN9vRdu",
        "colab": {
          "base_uri": "https://localhost:8080/"
        },
        "outputId": "71b8f2fd-2b90-44b3-efbb-45c3da90dfb6"
      },
      "source": [
        "# Do a check for one data point\r\n",
        "test = 2\r\n",
        "\r\n",
        "h1 = model_OR.forward(X_test[test])\r\n",
        "h2 = model_NAND.forward(X_test[test])\r\n",
        "h3 = model_AND.forward(torch.tensor([h1, h2]))\r\n",
        "\r\n",
        "print(h3)\r\n",
        "print(y_test[test])"
      ],
      "execution_count": 34,
      "outputs": [
        {
          "output_type": "stream",
          "text": [
            "tensor([0.9053], grad_fn=<SigmoidBackward>)\n",
            "tensor([1.])\n"
          ],
          "name": "stdout"
        }
      ]
    },
    {
      "cell_type": "code",
      "metadata": {
        "colab": {
          "base_uri": "https://localhost:8080/"
        },
        "id": "dld0WSqV_7zf",
        "outputId": "52edb0e8-681d-4f74-be5f-abf8d2c662cd"
      },
      "source": [
        "# Do a check for one data point\r\n",
        "test = 5\r\n",
        "\r\n",
        "h1 = model_OR.forward(X_test[test])\r\n",
        "h2 = model_NAND.forward(X_test[test])\r\n",
        "h3 = model_AND.forward(torch.tensor([h1, h2]))\r\n",
        "\r\n",
        "print(h3)\r\n",
        "print(y_test[test])"
      ],
      "execution_count": 33,
      "outputs": [
        {
          "output_type": "stream",
          "text": [
            "tensor([0.0402], grad_fn=<SigmoidBackward>)\n",
            "tensor([0.])\n"
          ],
          "name": "stdout"
        }
      ]
    },
    {
      "cell_type": "markdown",
      "metadata": {
        "id": "nkCHqUa-jSyo"
      },
      "source": [
        "Now, we can classify classify all the points in the testing set."
      ]
    },
    {
      "cell_type": "code",
      "metadata": {
        "id": "p2LZEAXMvRot",
        "colab": {
          "base_uri": "https://localhost:8080/",
          "height": 282
        },
        "outputId": "a69065ea-dd62-40a8-da6a-e6065a6560b3"
      },
      "source": [
        "# Create a test for a full batch of data points\r\n",
        "h1 = model_OR.forward(X_test)\r\n",
        "h2 = model_NAND.forward(X_test)\r\n",
        "h3 = model_AND.forward(torch.hstack([h1 , h2]))\r\n",
        "plt.scatter(h3.detach().numpy(), y_test)"
      ],
      "execution_count": 35,
      "outputs": [
        {
          "output_type": "execute_result",
          "data": {
            "text/plain": [
              "<matplotlib.collections.PathCollection at 0x7f61832bd7b8>"
            ]
          },
          "metadata": {
            "tags": []
          },
          "execution_count": 35
        },
        {
          "output_type": "display_data",
          "data": {
            "image/png": "[encoded data removed]",
            "text/plain": [
              "<Figure size 432x288 with 1 Axes>"
            ]
          },
          "metadata": {
            "tags": [],
            "needs_background": "light"
          }
        }
      ]
    },
    {
      "cell_type": "markdown",
      "metadata": {
        "id": "uxhpS6D1jXMd"
      },
      "source": [
        "By scattering the results, we can see that our models predicted almost everything correct."
      ]
    },
    {
      "cell_type": "markdown",
      "metadata": {
        "id": "cA5LV4_bPtdC"
      },
      "source": [
        "## IMPLEMENTING XOR WITH DATA AUGMENTATION \r\n",
        "Here, we will introduce a third feature. This feature will be a simple product of x1 and x2. \r\n",
        " "
      ]
    },
    {
      "cell_type": "markdown",
      "metadata": {
        "id": "rWcUf6aCjhUh"
      },
      "source": [
        "Because we are going to engineer a third dimension or a third feature, we need to modify the function for creating the dataset."
      ]
    },
    {
      "cell_type": "code",
      "metadata": {
        "id": "SrxUqCZvAri-"
      },
      "source": [
        "# Repeat the numbers from x1, x2, and y 50 times\r\n",
        "x1 = np.repeat(x1, 50)\r\n",
        "x2 = np.repeat(x2, 50)\r\n",
        "y =  np.repeat(y,  50)\r\n",
        "\r\n",
        "# Add noise to data points just to have some data variety\r\n",
        "x1 = x1 + np.random.rand(x1.shape[0])*0.05\r\n",
        "x2 = x2 + np.random.rand(x2.shape[0])*0.05\r\n",
        "\r\n",
        "# Shuffle\r\n",
        "index_shuffle = np.arange(x1.shape[0])\r\n",
        "np.random.shuffle(index_shuffle)\r\n",
        "\r\n",
        "x1 = x1.astype(np.float32)\r\n",
        "x2 = x2.astype(np.float32)\r\n",
        "y  = y.astype(np.float32)\r\n",
        "\r\n",
        "x1 = x1[index_shuffle]\r\n",
        "x2 = x2[index_shuffle]\r\n",
        "y  = y [index_shuffle]\r\n",
        "\r\n",
        "# Convert data to tensors\r\n",
        "x1_torch = torch.from_numpy(x1).clone().view(-1, 1)\r\n",
        "x2_torch = torch.from_numpy(x2).clone().view(-1, 1)\r\n",
        "x3_torch = torch.mul(x1_torch, x2_torch)\r\n",
        "\r\n",
        "\r\n",
        "# Combine X1 and X2\r\n",
        "X = torch.hstack([x1_torch, x2_torch, x3_torch])\r\n",
        "y_torch = torch.from_numpy(y).clone().view(-1, 1)\r\n",
        "\r\n",
        "# Split into training and testing\r\n",
        "X_train = X[:150,:]\r\n",
        "X_test  = X[150:,:]\r\n",
        "y_train = y_torch[:150,:]\r\n",
        "y_test  = y_torch[150:,:]"
      ],
      "execution_count": 36,
      "outputs": []
    },
    {
      "cell_type": "code",
      "metadata": {
        "id": "M5CJglj-AwaA"
      },
      "source": [
        "model_XOR = LogisticRegresion(3,1)\r\n",
        "criterion = torch.nn.BCELoss()\r\n",
        "optimizer = torch.optim.SGD(model_XOR.parameters(), lr=0.01)"
      ],
      "execution_count": 37,
      "outputs": []
    },
    {
      "cell_type": "code",
      "metadata": {
        "id": "2Iul12kgAzKi"
      },
      "source": [
        "all_loss = train(model_XOR, criterion, optimizer, X_train, y_train, 50000)"
      ],
      "execution_count": 38,
      "outputs": []
    },
    {
      "cell_type": "code",
      "metadata": {
        "colab": {
          "base_uri": "https://localhost:8080/",
          "height": 282
        },
        "id": "xlegymH1A2Ff",
        "outputId": "0f809e00-f500-48ae-b2ef-46388d7b98d8"
      },
      "source": [
        "y_pred = model_XOR.forward(X_test)\r\n",
        "plt.scatter(y_pred.detach().numpy(), y_test)"
      ],
      "execution_count": 39,
      "outputs": [
        {
          "output_type": "execute_result",
          "data": {
            "text/plain": [
              "<matplotlib.collections.PathCollection at 0x7f6183328f98>"
            ]
          },
          "metadata": {
            "tags": []
          },
          "execution_count": 39
        },
        {
          "output_type": "display_data",
          "data": {
            "image/png": "[encoded data removed]",
            "text/plain": [
              "<Figure size 432x288 with 1 Axes>"
            ]
          },
          "metadata": {
            "tags": [],
            "needs_background": "light"
          }
        }
      ]
    }
  ]
}