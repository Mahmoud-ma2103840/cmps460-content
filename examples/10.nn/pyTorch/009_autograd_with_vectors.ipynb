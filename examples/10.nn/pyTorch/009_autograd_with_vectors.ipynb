{
  "nbformat": 4,
  "nbformat_minor": 0,
  "metadata": {
    "colab": {
      "name": "009_autograd_with_vectors.ipynb",
      "provenance": [],
      "collapsed_sections": [],
      "include_colab_link": true
    },
    "kernelspec": {
      "name": "python3",
      "display_name": "Python 3"
    }
  },
  "cells": [
    {
      "cell_type": "markdown",
      "metadata": {
        "id": "view-in-github",
        "colab_type": "text"
      },
      "source": [
        "<a href=\"https://colab.research.google.com/github/maticvl/dataHacker/blob/master/pyTorch/009_autograd_with_vectors.ipynb\" target=\"_parent\"><img src=\"https://colab.research.google.com/assets/colab-badge.svg\" alt=\"Open In Colab\"/></a>"
      ]
    },
    {
      "cell_type": "code",
      "metadata": {
        "id": "N1DclA3VDJAB"
      },
      "source": [
        "import torch \r\n",
        "import numpy as np\r\n",
        "import matplotlib.pyplot as plt"
      ],
      "execution_count": null,
      "outputs": []
    },
    {
      "cell_type": "code",
      "metadata": {
        "id": "-NfEJMajDUD2"
      },
      "source": [
        "x = torch.tensor([1.,-2.,3.,-1.], requires_grad=True)\r\n"
      ],
      "execution_count": null,
      "outputs": []
    },
    {
      "cell_type": "code",
      "metadata": {
        "id": "JcdB_5m_Dipb",
        "colab": {
          "base_uri": "https://localhost:8080/"
        },
        "outputId": "0415c09b-a809-434d-96a9-67437374d75a"
      },
      "source": [
        "#y = torch.pow(x, 2)\r\n",
        "y = torch.relu(x)\r\n",
        "print(y)"
      ],
      "execution_count": null,
      "outputs": [
        {
          "output_type": "stream",
          "text": [
            "tensor([1., 0., 3., 0.], grad_fn=<ReluBackward0>)\n"
          ],
          "name": "stdout"
        }
      ]
    },
    {
      "cell_type": "code",
      "metadata": {
        "id": "n2zuAZBDDobp"
      },
      "source": [
        "dL_over_dy = torch.tensor([4,-1,5,9])\r\n",
        "\r\n",
        "y.backward(dL_over_dy )"
      ],
      "execution_count": null,
      "outputs": []
    },
    {
      "cell_type": "code",
      "metadata": {
        "colab": {
          "base_uri": "https://localhost:8080/"
        },
        "id": "u4wO2m6aHOwe",
        "outputId": "e3fcbf01-eda8-4042-e6b6-9f5bf3e00d11"
      },
      "source": [
        "x.grad"
      ],
      "execution_count": null,
      "outputs": [
        {
          "output_type": "execute_result",
          "data": {
            "text/plain": [
              "tensor([4., 0., 5., 0.])"
            ]
          },
          "metadata": {
            "tags": []
          },
          "execution_count": 5
        }
      ]
    },
    {
      "cell_type": "code",
      "metadata": {
        "id": "cw-yKfisMemA"
      },
      "source": [
        "X = torch.tensor( [[2.,1.,-3], [-3,4,2]], requires_grad=True)\r\n",
        "W = torch.tensor( [ [3.,2.,1.,-1] , [2,1,3,2 ] , [3,2,1,-2] ], requires_grad=True)"
      ],
      "execution_count": null,
      "outputs": []
    },
    {
      "cell_type": "markdown",
      "metadata": {
        "id": "V8zP9LOYimnl"
      },
      "source": [
        "X - dim N x D  \r\n",
        "W - D x M \r\n",
        "\r\n",
        "D is 3. this is the input size. cause it has to multiply with W\r\n",
        "\r\n",
        "Y = N x M \r\n",
        "N is the number of data points, and M is the output of the NN "
      ]
    },
    {
      "cell_type": "code",
      "metadata": {
        "id": "5Eo7ppfxeZut",
        "colab": {
          "base_uri": "https://localhost:8080/"
        },
        "outputId": "2841079f-57cf-44a8-e917-1ff316e78afd"
      },
      "source": [
        "Y = torch.matmul(X, W)\r\n",
        "print(Y)"
      ],
      "execution_count": null,
      "outputs": [
        {
          "output_type": "stream",
          "text": [
            "tensor([[-1., -1.,  2.,  6.],\n",
            "        [ 5.,  2., 11.,  7.]], grad_fn=<MmBackward>)\n"
          ],
          "name": "stdout"
        }
      ]
    },
    {
      "cell_type": "code",
      "metadata": {
        "colab": {
          "base_uri": "https://localhost:8080/"
        },
        "id": "S4yeT1ibeipd",
        "outputId": "7939b5a1-b73b-4988-cb7f-fbd350626709"
      },
      "source": [
        "print(X.shape, W.shape, Y.shape)"
      ],
      "execution_count": null,
      "outputs": [
        {
          "output_type": "stream",
          "text": [
            "torch.Size([2, 3]) torch.Size([3, 4]) torch.Size([2, 4])\n"
          ],
          "name": "stdout"
        }
      ]
    },
    {
      "cell_type": "code",
      "metadata": {
        "id": "ALOMmdvJejof",
        "colab": {
          "base_uri": "https://localhost:8080/"
        },
        "outputId": "d6cc358b-52cc-4008-d308-ddd7ad65533b"
      },
      "source": [
        "dL_over_dy = torch.tensor(  [[2,3,-3,9],[-8,1,4,6]])\r\n",
        "print(dL_over_dy, dL_over_dy.shape)"
      ],
      "execution_count": null,
      "outputs": [
        {
          "output_type": "stream",
          "text": [
            "tensor([[ 2,  3, -3,  9],\n",
            "        [-8,  1,  4,  6]]) torch.Size([2, 4])\n"
          ],
          "name": "stdout"
        }
      ]
    },
    {
      "cell_type": "code",
      "metadata": {
        "id": "q9Mblf0RewRD",
        "colab": {
          "base_uri": "https://localhost:8080/"
        },
        "outputId": "fc1e8f9c-18ba-4f23-85a7-eedf3ea61a86"
      },
      "source": [
        "Y.backward(dL_over_dy)\r\n",
        "print(X.grad)"
      ],
      "execution_count": null,
      "outputs": [
        {
          "output_type": "stream",
          "text": [
            "tensor([[  0.,  16.,  -9.],\n",
            "        [-24.,   9., -30.]])\n"
          ],
          "name": "stdout"
        }
      ]
    }
  ]
}