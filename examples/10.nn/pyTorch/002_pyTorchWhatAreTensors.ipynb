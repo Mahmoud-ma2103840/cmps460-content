{
  "nbformat": 4,
  "nbformat_minor": 0,
  "metadata": {
    "colab": {
      "name": "002_pyTorchWhatAreTensors.ipynb",
      "provenance": [],
      "collapsed_sections": [],
      "authorship_tag": "ABX9TyPMxBTnZpk5OfJft8IouNsC",
      "include_colab_link": true
    },
    "kernelspec": {
      "name": "python3",
      "display_name": "Python 3"
    },
    "language_info": {
      "name": "python"
    }
  },
  "cells": [
    {
      "cell_type": "markdown",
      "metadata": {
        "id": "view-in-github",
        "colab_type": "text"
      },
      "source": [
        "<a href=\"https://colab.research.google.com/github/maticvl/dataHacker/blob/master/pyTorch/002_pyTorchWhatAreTensors.ipynb\" target=\"_parent\"><img src=\"https://colab.research.google.com/assets/colab-badge.svg\" alt=\"Open In Colab\"/></a>"
      ]
    },
    {
      "cell_type": "markdown",
      "metadata": {
        "id": "pRyTSpGMphVT"
      },
      "source": [
        "![datahacker.png](data:image/png;base64,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)\n",
        "# What are tensors?"
      ]
    },
    {
      "cell_type": "code",
      "metadata": {
        "colab": {
          "base_uri": "https://localhost:8080/"
        },
        "id": "HqGfNTNzpaI2",
        "outputId": "e3360f83-9f4e-493d-9606-8856389a162f"
      },
      "source": [
        "# Import necessary library\n",
        "import torch\n",
        "\n",
        "vector_data = [20., 40., 60., 80., 100.]\n",
        "vector = torch.tensor(vector_data)\n",
        "print(vector, end='\\n\\n')\n",
        "\n",
        "# Create a 2D Tensor of size 2x3\n",
        "Matrix_data = [[20., 40., 60.], [80., 100., 120.]]\n",
        "Matrix = torch.tensor(Matrix_data)\n",
        "print(Matrix, end='\\n\\n')\n",
        "\n",
        "# Create a 3D tensor of size 3x2x2.\n",
        "Tensor_data = [[[20., 40.], [60., 80.]],\n",
        "          [[100., 120.], [140., 160.]],\n",
        "          [[180., 200.], [220., 240.]]]\n",
        "Tensor = torch.tensor(Tensor_data)\n",
        "print(Tensor, end='\\n\\n')"
      ],
      "execution_count": 1,
      "outputs": [
        {
          "output_type": "stream",
          "name": "stdout",
          "text": [
            "tensor([ 20.,  40.,  60.,  80., 100.])\n",
            "\n",
            "tensor([[ 20.,  40.,  60.],\n",
            "        [ 80., 100., 120.]])\n",
            "\n",
            "tensor([[[ 20.,  40.],\n",
            "         [ 60.,  80.]],\n",
            "\n",
            "        [[100., 120.],\n",
            "         [140., 160.]],\n",
            "\n",
            "        [[180., 200.],\n",
            "         [220., 240.]]])\n",
            "\n"
          ]
        }
      ]
    },
    {
      "cell_type": "code",
      "metadata": {
        "colab": {
          "base_uri": "https://localhost:8080/"
        },
        "id": "-5c5z4enpkVQ",
        "outputId": "9c3041ec-6c11-430c-fd5f-f04ac8e46212"
      },
      "source": [
        "# Indexing into vector and get a scalar\n",
        "print(vector[0])\n",
        "\n",
        "# Get a Python number from it\n",
        "print(vector[0].item())\n",
        "\n",
        "# Indexing into Matrix and get a vector\n",
        "print(Matrix[0])\n",
        "\n",
        "# Indexing into Tensor and get a matrix\n",
        "print(Tensor[0])"
      ],
      "execution_count": 28,
      "outputs": [
        {
          "output_type": "stream",
          "name": "stdout",
          "text": [
            "tensor(20.)\n",
            "20.0\n",
            "tensor([20., 40., 60.])\n",
            "tensor([[20., 40.],\n",
            "        [60., 80.]])\n"
          ]
        }
      ]
    },
    {
      "cell_type": "code",
      "metadata": {
        "colab": {
          "base_uri": "https://localhost:8080/"
        },
        "id": "FrPz-iz3plkQ",
        "outputId": "dc532742-8975-4ac6-ef56-a177fdc418db"
      },
      "source": [
        "z = torch.randn((4, 4))\n",
        "print(z)"
      ],
      "execution_count": 29,
      "outputs": [
        {
          "output_type": "stream",
          "name": "stdout",
          "text": [
            "tensor([[-1.5115, -0.2524, -0.4225, -0.3360],\n",
            "        [-1.6059, -0.2432,  1.3971,  0.1831],\n",
            "        [-0.0540,  0.8637,  0.0132,  0.1953],\n",
            "        [-1.4894,  0.1453,  0.0688, -1.3573]])\n"
          ]
        }
      ]
    },
    {
      "cell_type": "code",
      "metadata": {
        "colab": {
          "base_uri": "https://localhost:8080/"
        },
        "id": "tvgRVGjmpmln",
        "outputId": "0a774d17-bc16-4452-b86c-701b0febc8ed"
      },
      "source": [
        "x = torch.tensor([4., 2., 6.])\n",
        "y = torch.tensor([3., 19., 12.])\n",
        "\n",
        "# Addition\n",
        "torch.add(x, y)"
      ],
      "execution_count": 30,
      "outputs": [
        {
          "output_type": "execute_result",
          "data": {
            "text/plain": [
              "tensor([ 7., 21., 18.])"
            ]
          },
          "metadata": {},
          "execution_count": 30
        }
      ]
    },
    {
      "cell_type": "code",
      "metadata": {
        "colab": {
          "base_uri": "https://localhost:8080/"
        },
        "id": "QPyclxnxpoTf",
        "outputId": "9662ece1-f63b-43b2-861f-5873c1a06b08"
      },
      "source": [
        "# Subtraction\n",
        "torch.sub(x, y)"
      ],
      "execution_count": 31,
      "outputs": [
        {
          "output_type": "execute_result",
          "data": {
            "text/plain": [
              "tensor([  1., -17.,  -6.])"
            ]
          },
          "metadata": {},
          "execution_count": 31
        }
      ]
    },
    {
      "cell_type": "code",
      "metadata": {
        "colab": {
          "base_uri": "https://localhost:8080/"
        },
        "id": "U9yvZRHnpod_",
        "outputId": "8d69d556-09ef-43f3-d4f0-dd9e7d6ebbde"
      },
      "source": [
        "# Multiplication\n",
        "torch.mul(x, y)"
      ],
      "execution_count": 32,
      "outputs": [
        {
          "output_type": "execute_result",
          "data": {
            "text/plain": [
              "tensor([12., 38., 72.])"
            ]
          },
          "metadata": {},
          "execution_count": 32
        }
      ]
    },
    {
      "cell_type": "code",
      "metadata": {
        "colab": {
          "base_uri": "https://localhost:8080/"
        },
        "id": "jChQUS8kppbX",
        "outputId": "b22bcf89-cdb4-492f-8632-e03fee163fd8"
      },
      "source": [
        "# Division\n",
        "torch.div(x, y)"
      ],
      "execution_count": 33,
      "outputs": [
        {
          "output_type": "execute_result",
          "data": {
            "text/plain": [
              "tensor([1.3333, 0.1053, 0.5000])"
            ]
          },
          "metadata": {},
          "execution_count": 33
        }
      ]
    },
    {
      "cell_type": "code",
      "metadata": {
        "colab": {
          "base_uri": "https://localhost:8080/"
        },
        "id": "GUpnEGn9pqRn",
        "outputId": "fb9d68fc-d480-4c3b-f34e-22865438d27f"
      },
      "source": [
        "# Concatenate columns: Row-wise, axis=0 is by default.\n",
        "a_1 = torch.randn(2, 2)\n",
        "b_1 = torch.randn(2, 2)\n",
        "c_1 = torch.cat([a_1, b_1], axis=0)\n",
        "print(c_1)"
      ],
      "execution_count": 34,
      "outputs": [
        {
          "output_type": "stream",
          "name": "stdout",
          "text": [
            "tensor([[ 0.7248,  0.7100],\n",
            "        [-0.3215,  1.3161],\n",
            "        [-0.2208,  0.8737],\n",
            "        [-0.8981, -1.0040]])\n"
          ]
        }
      ]
    },
    {
      "cell_type": "code",
      "metadata": {
        "colab": {
          "base_uri": "https://localhost:8080/"
        },
        "id": "qdsEcaJNprBf",
        "outputId": "ddbb7f00-287e-421c-c8fe-d5f130c39562"
      },
      "source": [
        "# Concatenate columns: Column-wise, axis=1.\n",
        "a_2 = torch.randn(2, 3)\n",
        "b_2 = torch.randn(2, 1)\n",
        "\n",
        "c_2 = torch.cat([a_2, b_2], axis=1)\n",
        "print(c_2)"
      ],
      "execution_count": 35,
      "outputs": [
        {
          "output_type": "stream",
          "name": "stdout",
          "text": [
            "tensor([[ 1.7625, -1.2443,  0.8587, -0.3512],\n",
            "        [-0.6859, -1.7673,  0.8071,  0.8973]])\n"
          ]
        }
      ]
    },
    {
      "cell_type": "code",
      "metadata": {
        "colab": {
          "base_uri": "https://localhost:8080/",
          "height": 178
        },
        "id": "3Jqd0DsxpshX",
        "outputId": "363b285b-4bb4-4ecd-e830-ae2e27809a27"
      },
      "source": [
        "# If we have tensors of different shape, torch will raise an exception.\n",
        "torch.cat([a_2, b_2])"
      ],
      "execution_count": 36,
      "outputs": [
        {
          "output_type": "error",
          "ename": "RuntimeError",
          "evalue": "ignored",
          "traceback": [
            "\u001b[0;31m---------------------------------------------------------------------------\u001b[0m",
            "\u001b[0;31mRuntimeError\u001b[0m                              Traceback (most recent call last)",
            "\u001b[0;32m<ipython-input-36-8041dbbb9760>\u001b[0m in \u001b[0;36m<module>\u001b[0;34m()\u001b[0m\n\u001b[1;32m      1\u001b[0m \u001b[0;31m# If we have tensors of different shape, torch will raise an exception.\u001b[0m\u001b[0;34m\u001b[0m\u001b[0;34m\u001b[0m\u001b[0;34m\u001b[0m\u001b[0m\n\u001b[0;32m----> 2\u001b[0;31m \u001b[0mtorch\u001b[0m\u001b[0;34m.\u001b[0m\u001b[0mcat\u001b[0m\u001b[0;34m(\u001b[0m\u001b[0;34m[\u001b[0m\u001b[0ma_2\u001b[0m\u001b[0;34m,\u001b[0m \u001b[0mb_2\u001b[0m\u001b[0;34m]\u001b[0m\u001b[0;34m)\u001b[0m\u001b[0;34m\u001b[0m\u001b[0;34m\u001b[0m\u001b[0m\n\u001b[0m",
            "\u001b[0;31mRuntimeError\u001b[0m: torch.cat(): Sizes of tensors must match except in dimension 0. Got 3 and 1 in dimension 1 (The offending index is 1)"
          ]
        }
      ]
    },
    {
      "cell_type": "code",
      "metadata": {
        "colab": {
          "base_uri": "https://localhost:8080/"
        },
        "id": "dTCd1o3RpuEZ",
        "outputId": "7ec83cdb-091d-4a66-bcde-f7a796963593"
      },
      "source": [
        "x = torch.randn(6, 1, 2)\n",
        "print(x)"
      ],
      "execution_count": 41,
      "outputs": [
        {
          "output_type": "stream",
          "name": "stdout",
          "text": [
            "tensor([[[ 0.8671,  0.5985]],\n",
            "\n",
            "        [[-1.4269,  0.7249]],\n",
            "\n",
            "        [[-0.1439, -0.2554]],\n",
            "\n",
            "        [[ 0.5293,  1.6116]],\n",
            "\n",
            "        [[-0.9150, -0.8501]],\n",
            "\n",
            "        [[-0.6487,  0.8172]]])\n"
          ]
        }
      ]
    },
    {
      "cell_type": "code",
      "metadata": {
        "colab": {
          "base_uri": "https://localhost:8080/"
        },
        "id": "aeXXUNfOpwvX",
        "outputId": "397449f5-6241-4aa0-c1fe-6d15d69d3786"
      },
      "source": [
        "print(x.view(3, 4))  # Reshape to 3 rows, 4 columns"
      ],
      "execution_count": 42,
      "outputs": [
        {
          "output_type": "stream",
          "name": "stdout",
          "text": [
            "tensor([[ 0.8671,  0.5985, -1.4269,  0.7249],\n",
            "        [-0.1439, -0.2554,  0.5293,  1.6116],\n",
            "        [-0.9150, -0.8501, -0.6487,  0.8172]])\n"
          ]
        }
      ]
    },
    {
      "cell_type": "code",
      "metadata": {
        "colab": {
          "base_uri": "https://localhost:8080/"
        },
        "id": "k2vSNY26pzJf",
        "outputId": "285989c3-a9d2-4fba-d4b8-9c9c23104dc2"
      },
      "source": [
        "# Same as above. If one of the dimensions is -1, its size can be deduced\n",
        "print(x.view(3, -1))"
      ],
      "execution_count": 43,
      "outputs": [
        {
          "output_type": "stream",
          "name": "stdout",
          "text": [
            "tensor([[ 0.8671,  0.5985, -1.4269,  0.7249],\n",
            "        [-0.1439, -0.2554,  0.5293,  1.6116],\n",
            "        [-0.9150, -0.8501, -0.6487,  0.8172]])\n"
          ]
        }
      ]
    },
    {
      "cell_type": "code",
      "metadata": {
        "colab": {
          "base_uri": "https://localhost:8080/"
        },
        "id": "R4wqHr4dp0m_",
        "outputId": "d98a9806-357f-41d1-bbc2-56e74196bbc0"
      },
      "source": [
        "import numpy as np # Numerical Computation Library\n",
        "\n",
        "X = np.random.randn(4, 4) # Generate random numbers \n",
        "print(X)\n",
        "print(type(X)) # A numpy array"
      ],
      "execution_count": 44,
      "outputs": [
        {
          "output_type": "stream",
          "name": "stdout",
          "text": [
            "[[-1.38034755 -1.51309053  0.10477175 -0.86935083]\n",
            " [ 1.59112804 -1.58619705  0.77995853 -0.1897769 ]\n",
            " [-2.40875064 -1.65151962 -1.14815674  1.39830841]\n",
            " [ 1.50009549  0.09737651  0.22754606 -1.40667814]]\n",
            "<class 'numpy.ndarray'>\n"
          ]
        }
      ]
    },
    {
      "cell_type": "code",
      "metadata": {
        "colab": {
          "base_uri": "https://localhost:8080/"
        },
        "id": "BbLLv-ubp2O3",
        "outputId": "276202cd-bc1b-4e38-e38d-e9e22406e185"
      },
      "source": [
        "y = torch.from_numpy(X) # Create a tensor from numpy array\n",
        "print(y)\n",
        "print(type(y)) # A tensor"
      ],
      "execution_count": 45,
      "outputs": [
        {
          "output_type": "stream",
          "name": "stdout",
          "text": [
            "tensor([[-1.3803, -1.5131,  0.1048, -0.8694],\n",
            "        [ 1.5911, -1.5862,  0.7800, -0.1898],\n",
            "        [-2.4088, -1.6515, -1.1482,  1.3983],\n",
            "        [ 1.5001,  0.0974,  0.2275, -1.4067]], dtype=torch.float64)\n",
            "<class 'torch.Tensor'>\n"
          ]
        }
      ]
    },
    {
      "cell_type": "code",
      "metadata": {
        "colab": {
          "base_uri": "https://localhost:8080/"
        },
        "id": "HRq9LCyup3N3",
        "outputId": "62227f55-9eed-42c2-da5e-68b373ca1be3"
      },
      "source": [
        "print(y.numpy()) # Convert the tensor into Numpy array\n",
        "print(type(y.numpy()))"
      ],
      "execution_count": 46,
      "outputs": [
        {
          "output_type": "stream",
          "name": "stdout",
          "text": [
            "[[-1.38034755 -1.51309053  0.10477175 -0.86935083]\n",
            " [ 1.59112804 -1.58619705  0.77995853 -0.1897769 ]\n",
            " [-2.40875064 -1.65151962 -1.14815674  1.39830841]\n",
            " [ 1.50009549  0.09737651  0.22754606 -1.40667814]]\n",
            "<class 'numpy.ndarray'>\n"
          ]
        }
      ]
    },
    {
      "cell_type": "code",
      "metadata": {
        "id": "30lESC9Bp4Gv"
      },
      "source": [
        "from torch.autograd import Variable\n",
        "\n",
        "x = Variable(torch.Tensor([2]), requires_grad=True)\n",
        "y = (6 * x) ** 2"
      ],
      "execution_count": 37,
      "outputs": []
    },
    {
      "cell_type": "code",
      "metadata": {
        "colab": {
          "base_uri": "https://localhost:8080/"
        },
        "id": "xMXwMaVyp5DP",
        "outputId": "385de790-0b9c-4e95-fb54-0a04611d92d2"
      },
      "source": [
        "# The last operation performed\n",
        "print(y.grad_fn)"
      ],
      "execution_count": 38,
      "outputs": [
        {
          "output_type": "stream",
          "name": "stdout",
          "text": [
            "<PowBackward0 object at 0x7f8318d32510>\n"
          ]
        }
      ]
    },
    {
      "cell_type": "code",
      "metadata": {
        "colab": {
          "base_uri": "https://localhost:8080/"
        },
        "id": "t0lg7W1Sp6HP",
        "outputId": "03955611-11f8-48c8-c374-0b790c4d7918"
      },
      "source": [
        "print(x.grad)"
      ],
      "execution_count": 39,
      "outputs": [
        {
          "output_type": "stream",
          "name": "stdout",
          "text": [
            "None\n"
          ]
        }
      ]
    },
    {
      "cell_type": "code",
      "metadata": {
        "colab": {
          "base_uri": "https://localhost:8080/"
        },
        "id": "BUB4MF6Tp6x3",
        "outputId": "72c6602e-c19a-497b-ca20-06b70ed7a9cd"
      },
      "source": [
        "y.backward()\n",
        "print(x.grad)"
      ],
      "execution_count": 40,
      "outputs": [
        {
          "output_type": "stream",
          "name": "stdout",
          "text": [
            "tensor([144.])\n"
          ]
        }
      ]
    }
  ]
}