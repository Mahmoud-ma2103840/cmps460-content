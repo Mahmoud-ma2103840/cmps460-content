{
  "cells": [
    {
      "cell_type": "markdown",
      "metadata": {
        "colab_type": "text",
        "id": "view-in-github"
      },
      "source": [
        "Example based on the tutorial at this <a href=\"https://medium.com/@nutanbhogendrasharma/pytorch-convolutional-neural-network-with-mnist-dataset-4e8a4265e118\">link</a>"
      ]
    },
    {
      "cell_type": "code",
      "execution_count": 27,
      "metadata": {
        "id": "pzq2KGJtA10Z"
      },
      "outputs": [],
      "source": [
        "import torch\n",
        "import torch.nn as nn\n",
        "import torchvision.datasets as datasets\n",
        "import torchvision.transforms as transforms\n",
        "from torch.utils.data import DataLoader\n",
        "\n",
        "import matplotlib.pyplot as plt\n",
        "import numpy as np\n",
        "torch.set_printoptions(precision=4, sci_mode=False)"
      ]
    },
    {
      "cell_type": "code",
      "execution_count": 2,
      "metadata": {
        "id": "e0eRrW8Y06k_"
      },
      "outputs": [
        {
          "name": "stdout",
          "output_type": "stream",
          "text": [
            "Downloading http://yann.lecun.com/exdb/mnist/train-images-idx3-ubyte.gz\n",
            "Failed to download (trying next):\n",
            "HTTP Error 403: Forbidden\n",
            "\n",
            "Downloading https://ossci-datasets.s3.amazonaws.com/mnist/train-images-idx3-ubyte.gz\n",
            "Downloading https://ossci-datasets.s3.amazonaws.com/mnist/train-images-idx3-ubyte.gz to ./data\\MNIST\\raw\\train-images-idx3-ubyte.gz\n"
          ]
        },
        {
          "name": "stderr",
          "output_type": "stream",
          "text": [
            "100%|██████████| 9912422/9912422 [00:11<00:00, 894109.74it/s] \n"
          ]
        },
        {
          "name": "stdout",
          "output_type": "stream",
          "text": [
            "Extracting ./data\\MNIST\\raw\\train-images-idx3-ubyte.gz to ./data\\MNIST\\raw\n",
            "\n",
            "Downloading http://yann.lecun.com/exdb/mnist/train-labels-idx1-ubyte.gz\n",
            "Failed to download (trying next):\n",
            "HTTP Error 403: Forbidden\n",
            "\n",
            "Downloading https://ossci-datasets.s3.amazonaws.com/mnist/train-labels-idx1-ubyte.gz\n",
            "Downloading https://ossci-datasets.s3.amazonaws.com/mnist/train-labels-idx1-ubyte.gz to ./data\\MNIST\\raw\\train-labels-idx1-ubyte.gz\n"
          ]
        },
        {
          "name": "stderr",
          "output_type": "stream",
          "text": [
            "100%|██████████| 28881/28881 [00:00<00:00, 45396.94it/s]\n"
          ]
        },
        {
          "name": "stdout",
          "output_type": "stream",
          "text": [
            "Extracting ./data\\MNIST\\raw\\train-labels-idx1-ubyte.gz to ./data\\MNIST\\raw\n",
            "\n",
            "Downloading http://yann.lecun.com/exdb/mnist/t10k-images-idx3-ubyte.gz\n",
            "Failed to download (trying next):\n",
            "HTTP Error 403: Forbidden\n",
            "\n",
            "Downloading https://ossci-datasets.s3.amazonaws.com/mnist/t10k-images-idx3-ubyte.gz\n",
            "Downloading https://ossci-datasets.s3.amazonaws.com/mnist/t10k-images-idx3-ubyte.gz to ./data\\MNIST\\raw\\t10k-images-idx3-ubyte.gz\n"
          ]
        },
        {
          "name": "stderr",
          "output_type": "stream",
          "text": [
            "100%|██████████| 1648877/1648877 [00:06<00:00, 246555.68it/s]\n"
          ]
        },
        {
          "name": "stdout",
          "output_type": "stream",
          "text": [
            "Extracting ./data\\MNIST\\raw\\t10k-images-idx3-ubyte.gz to ./data\\MNIST\\raw\n",
            "\n",
            "Downloading http://yann.lecun.com/exdb/mnist/t10k-labels-idx1-ubyte.gz\n",
            "Failed to download (trying next):\n",
            "HTTP Error 403: Forbidden\n",
            "\n",
            "Downloading https://ossci-datasets.s3.amazonaws.com/mnist/t10k-labels-idx1-ubyte.gz\n",
            "Downloading https://ossci-datasets.s3.amazonaws.com/mnist/t10k-labels-idx1-ubyte.gz to ./data\\MNIST\\raw\\t10k-labels-idx1-ubyte.gz\n"
          ]
        },
        {
          "name": "stderr",
          "output_type": "stream",
          "text": [
            "100%|██████████| 4542/4542 [00:00<00:00, 2236765.15it/s]\n"
          ]
        },
        {
          "name": "stdout",
          "output_type": "stream",
          "text": [
            "Extracting ./data\\MNIST\\raw\\t10k-labels-idx1-ubyte.gz to ./data\\MNIST\\raw\n",
            "\n"
          ]
        }
      ],
      "source": [
        "# MNIST dataset \n",
        "train_dataset = datasets.MNIST(root='./data', \n",
        "                               train=True, \n",
        "                               transform=transforms.ToTensor(),  \n",
        "                               download=True)\n",
        "\n",
        "test_dataset = datasets.MNIST(root='./data', \n",
        "                              train=False, \n",
        "                              transform=transforms.ToTensor())\n",
        "\n",
        "# Data loader\n",
        "# - It's faster to train the model in batches instead of one at a time.\n",
        "train_loader = DataLoader(dataset=train_dataset, \n",
        "                          batch_size=64, \n",
        "                          shuffle=True)\n",
        "\n",
        "test_loader = DataLoader(dataset=test_dataset, \n",
        "                         batch_size=64, \n",
        "                         shuffle=False)"
      ]
    },
    {
      "cell_type": "code",
      "execution_count": 3,
      "metadata": {
        "colab": {
          "base_uri": "https://localhost:8080/"
        },
        "id": "M-ktWXri2uaY",
        "outputId": "a849873f-3eeb-4f0f-c7d8-dc381987f18c"
      },
      "outputs": [
        {
          "name": "stdout",
          "output_type": "stream",
          "text": [
            "Length of train dataset:  60000\n",
            "Length of test dataset:  10000\n"
          ]
        }
      ],
      "source": [
        "# Checking the dataset length\n",
        "print(\"Length of train dataset: \", len(train_dataset))\n",
        "print(\"Length of test dataset: \", len(test_dataset))"
      ]
    },
    {
      "cell_type": "code",
      "execution_count": 4,
      "metadata": {},
      "outputs": [
        {
          "name": "stdout",
          "output_type": "stream",
          "text": [
            "label: 6\n",
            "image.shape: torch.Size([1, 28, 28])\n"
          ]
        },
        {
          "data": {
            "image/png": "[encoded data removed]",
            "text/plain": [
              "<Figure size 640x480 with 2 Axes>"
            ]
          },
          "metadata": {},
          "output_type": "display_data"
        }
      ],
      "source": [
        "x_image, y_label = train_dataset[6000]\n",
        "print(\"label:\", y_label)\n",
        "print(\"image.shape:\", x_image.shape)\n",
        "\n",
        "def display_image(image, label):\n",
        "    plt.imshow( image.permute(1, 2, 0) )\n",
        "    plt.title(f'Number is {label}')\n",
        "    plt.colorbar()\n",
        "    plt.show()\n",
        "\n",
        "display_image(x_image, y_label)"
      ]
    },
    {
      "cell_type": "code",
      "execution_count": 6,
      "metadata": {},
      "outputs": [
        {
          "data": {
            "image/png": "[encoded data removed]",
            "text/plain": [
              "<Figure size 1000x800 with 15 Axes>"
            ]
          },
          "metadata": {},
          "output_type": "display_data"
        }
      ],
      "source": [
        "# Displaying multiple images from the dataset\n",
        "figure = plt.figure(figsize=(10, 8))\n",
        "cols, rows = 5, 3\n",
        "for i in range(1, cols * rows + 1):\n",
        "    sample_idx = torch.randint(len(train_dataset), size=(1,)).item()\n",
        "    img, label = train_dataset[sample_idx]\n",
        "    figure.add_subplot(rows, cols, i)\n",
        "    plt.title(label)\n",
        "    plt.axis(\"off\")\n",
        "    plt.imshow(img.squeeze(), cmap=\"gray\")\n",
        "plt.show()"
      ]
    },
    {
      "cell_type": "code",
      "execution_count": 29,
      "metadata": {
        "id": "dLzDidbe52fz"
      },
      "outputs": [],
      "source": [
        "\"\"\"\n",
        " in_channels=1: because our input is a grayscale image.\n",
        " Stride: is the number of pixels to pass at a time when sliding the convolutional kernel.\n",
        " kernel_size: we need to define a kernel which is a small matrix of size 3 * 3. \n",
        "  To perform the convolution operation, we just need to slide the kernel along the \n",
        "  image horizontally and vertically and do the dot product of the kernel and \n",
        "  the small portion of the image.\n",
        "\"\"\"\n",
        "# Model Class\n",
        "class ConvolutionalNetwork(nn.Module):\n",
        "  def __init__(self):\n",
        "    super().__init__()\n",
        "    # Convolutional Layers (2D) - 2D because we're dealing with images (3D would be video)\n",
        "    # 1 input channel, 6 output channels, 3x3 kernal size\n",
        "    self.conv1 = nn.Conv2d(in_channels=1,              \n",
        "                           out_channels=6,            \n",
        "                           kernel_size=3,              \n",
        "                           stride=1)\n",
        "    # 6 input channels, 16 output channels, 3x3 kernal size\n",
        "    self.conv2 = nn.Conv2d(in_channels=6,              \n",
        "                           out_channels=16,            \n",
        "                           kernel_size=3,              \n",
        "                           stride=1)\n",
        "    # Fully Connected Layer\n",
        "    # 5x5 image dimension, 16 is the output channels from the previous layer\n",
        "    # 120 output features\n",
        "    # Why 5x5? Because we've done 2 pooling layers that have reduced the image size\n",
        "    # 2x2 pooling layer reduces the image size by half\n",
        "    self.fc1 = nn.Linear(5*5*16, 120)\n",
        "    # 120 input features, 84 output features\n",
        "    self.fc2 = nn.Linear(120, 84)\n",
        "    # 84 input features, 10 output features\n",
        "    self.fc3 = nn.Linear(84, 10)\n",
        "\n",
        "  def forward(self, X):\n",
        "    # Pass through the first convolutional layer\n",
        "    # Pass through the relu activation function\n",
        "    out = torch.relu(self.conv1(X))\n",
        "    # Pass through the pooling layer\n",
        "    # 2x2 kernal and stride 2\n",
        "    out = torch.max_pool2d(out,2,2) # 2x2 kernal and stride 2\n",
        "    # Second Pass\n",
        "    # Pass through the second convolutional layer\n",
        "    # Pass through the relu activation function\n",
        "    out = torch.relu(self.conv2(out))\n",
        "    # Pass through the pooling layer\n",
        "    # 2x2 kernal and stride 2\n",
        "    out = torch.max_pool2d(out,2,2) # 2x2 kernal and stride 2\n",
        "\n",
        "    # Re-View to flatten it out\n",
        "    # -1 is a placeholder for the batch size\n",
        "    # 16 is the number of output channels from the previous layer\n",
        "    # 5x5 is the image size\n",
        "    # Why 5x5? Because we've done 2 pooling layers that have reduced the image size\n",
        "    # We need to flatten it out to pass it through the fully connected layers\n",
        "    out = out.view(-1, 16*5*5) # negative one so that we can vary the batch size\n",
        "\n",
        "    # Fully Connected Layers\n",
        "    out = torch.relu(self.fc1(out))\n",
        "    out = torch.relu(self.fc2(out))\n",
        "    out = self.fc3(out)\n",
        "    return torch.softmax(out, dim=1)"
      ]
    },
    {
      "cell_type": "code",
      "execution_count": 30,
      "metadata": {
        "colab": {
          "base_uri": "https://localhost:8080/"
        },
        "id": "Pv-eSNLRMhuk",
        "outputId": "3f60490a-0a62-46b3-d0ea-bc262919e4f1"
      },
      "outputs": [
        {
          "data": {
            "text/plain": [
              "ConvolutionalNetwork(\n",
              "  (conv1): Conv2d(1, 6, kernel_size=(3, 3), stride=(1, 1))\n",
              "  (conv2): Conv2d(6, 16, kernel_size=(3, 3), stride=(1, 1))\n",
              "  (fc1): Linear(in_features=400, out_features=120, bias=True)\n",
              "  (fc2): Linear(in_features=120, out_features=84, bias=True)\n",
              "  (fc3): Linear(in_features=84, out_features=10, bias=True)\n",
              ")"
            ]
          },
          "execution_count": 30,
          "metadata": {},
          "output_type": "execute_result"
        }
      ],
      "source": [
        "# Create an Instance of our Model\n",
        "torch.manual_seed(41)\n",
        "model = ConvolutionalNetwork()\n",
        "model"
      ]
    },
    {
      "cell_type": "code",
      "execution_count": 31,
      "metadata": {
        "id": "JGI34hBqPwqQ"
      },
      "outputs": [],
      "source": [
        "# Loss Function Optimizer\n",
        "lossfun = nn.CrossEntropyLoss()\n",
        "optimizer = torch.optim.Adam(model.parameters(), lr=0.001)\n",
        "# Train the model\n",
        "n_total_steps = len(train_loader)\n",
        "num_epochs = 3"
      ]
    },
    {
      "cell_type": "code",
      "execution_count": 32,
      "metadata": {},
      "outputs": [
        {
          "name": "stdout",
          "output_type": "stream",
          "text": [
            "Epoch [1/3], Step [100/938], Loss: 1.7717\n",
            "Epoch [1/3], Step [200/938], Loss: 1.8100\n",
            "Epoch [1/3], Step [300/938], Loss: 1.7421\n",
            "Epoch [1/3], Step [400/938], Loss: 1.6952\n",
            "Epoch [1/3], Step [500/938], Loss: 1.7890\n",
            "Epoch [1/3], Step [600/938], Loss: 1.6798\n",
            "Epoch [1/3], Step [700/938], Loss: 1.5416\n",
            "Epoch [1/3], Step [800/938], Loss: 1.5615\n",
            "Epoch [1/3], Step [900/938], Loss: 1.5531\n",
            "Epoch [2/3], Step [100/938], Loss: 1.4839\n",
            "Epoch [2/3], Step [200/938], Loss: 1.5263\n",
            "Epoch [2/3], Step [300/938], Loss: 1.5122\n",
            "Epoch [2/3], Step [400/938], Loss: 1.4849\n",
            "Epoch [2/3], Step [500/938], Loss: 1.5052\n",
            "Epoch [2/3], Step [600/938], Loss: 1.5697\n",
            "Epoch [2/3], Step [700/938], Loss: 1.4972\n",
            "Epoch [2/3], Step [800/938], Loss: 1.4616\n",
            "Epoch [2/3], Step [900/938], Loss: 1.5137\n",
            "Epoch [3/3], Step [100/938], Loss: 1.4775\n",
            "Epoch [3/3], Step [200/938], Loss: 1.4813\n",
            "Epoch [3/3], Step [300/938], Loss: 1.4923\n",
            "Epoch [3/3], Step [400/938], Loss: 1.4690\n",
            "Epoch [3/3], Step [500/938], Loss: 1.4747\n",
            "Epoch [3/3], Step [600/938], Loss: 1.4998\n",
            "Epoch [3/3], Step [700/938], Loss: 1.4851\n",
            "Epoch [3/3], Step [800/938], Loss: 1.4836\n",
            "Epoch [3/3], Step [900/938], Loss: 1.5057\n"
          ]
        }
      ],
      "source": [
        "for epoch in range(num_epochs):\n",
        "    for i, (images, labels) in enumerate(train_loader):  \n",
        "        # Forward pass\n",
        "        outputs = model(images)\n",
        "        loss = lossfun(outputs, labels)\n",
        "        \n",
        "        # Backward and optimize\n",
        "        optimizer.zero_grad()\n",
        "        loss.backward()\n",
        "        optimizer.step()\n",
        "        \n",
        "        if (i+1) % 100 == 0:\n",
        "            print (f'Epoch [{epoch+1}/{num_epochs}], Step [{i+1}/{n_total_steps}], Loss: {loss.item():.4f}')"
      ]
    },
    {
      "cell_type": "code",
      "execution_count": 33,
      "metadata": {},
      "outputs": [
        {
          "name": "stdout",
          "output_type": "stream",
          "text": [
            "label 7\n",
            "image.shape torch.Size([1, 28, 28])\n"
          ]
        },
        {
          "data": {
            "image/png": "[encoded data removed]",
            "text/plain": [
              "<Figure size 640x480 with 2 Axes>"
            ]
          },
          "metadata": {},
          "output_type": "display_data"
        }
      ],
      "source": [
        "x_sample = test_dataset[0]\n",
        "x_image, y_label = x_sample\n",
        "print(\"label\", y_label)\n",
        "print(\"image.shape\", x_image.shape)\n",
        "display_image(x_image, y_label)"
      ]
    },
    {
      "cell_type": "code",
      "execution_count": 34,
      "metadata": {},
      "outputs": [
        {
          "data": {
            "text/plain": [
              "tensor([[    0.0000,     0.0000,     0.0000,     0.0000,     0.0000,     0.0000,\n",
              "             0.0000,     1.0000,     0.0000,     0.0000]],\n",
              "       grad_fn=<SoftmaxBackward0>)"
            ]
          },
          "execution_count": 34,
          "metadata": {},
          "output_type": "execute_result"
        }
      ],
      "source": [
        "# Use the trained model to predict the label of this image\n",
        "yhat_sample = model(x_image)\n",
        "yhat_sample"
      ]
    },
    {
      "cell_type": "code",
      "execution_count": 36,
      "metadata": {},
      "outputs": [
        {
          "name": "stdout",
          "output_type": "stream",
          "text": [
            "Predicted digit: 7\n"
          ]
        }
      ],
      "source": [
        "# Get the predicted digit using the index of the maximum value\n",
        "index = torch.argmax(yhat_sample)\n",
        "predicted_digit = index.item()\n",
        "print(\"Predicted digit:\", predicted_digit)"
      ]
    },
    {
      "cell_type": "code",
      "execution_count": 37,
      "metadata": {},
      "outputs": [
        {
          "name": "stdout",
          "output_type": "stream",
          "text": [
            "Accuracy of the NN on the 10000 test images: 97.58 %\n"
          ]
        }
      ],
      "source": [
        "# Test the model\n",
        "with torch.no_grad():\n",
        "    n_correct = 0\n",
        "    n_samples = 0\n",
        "    for images, labels in test_loader:\n",
        "        outputs = model(images)\n",
        "\n",
        "        # value: actual number, index: predicted number\n",
        "        _, predicted = torch.max(outputs.data, 1)\n",
        "        n_samples += labels.size(0)\n",
        "        n_correct += (predicted == labels).sum().item()\n",
        "\n",
        "        #display_image(images[0].reshape(1, 28, 28), predicted[0])\n",
        "\n",
        "    acc = 100.0 * n_correct / n_samples\n",
        "    print(f'Accuracy of the NN on the {len(test_dataset)} test images: {acc} %')"
      ]
    }
  ],
  "metadata": {
    "colab": {
      "authorship_tag": "ABX9TyPdXzQI701cSe2VtpjkfURw",
      "include_colab_link": true,
      "provenance": []
    },
    "kernelspec": {
      "display_name": "Python 3",
      "name": "python3"
    },
    "language_info": {
      "codemirror_mode": {
        "name": "ipython",
        "version": 3
      },
      "file_extension": ".py",
      "mimetype": "text/x-python",
      "name": "python",
      "nbconvert_exporter": "python",
      "pygments_lexer": "ipython3",
      "version": "3.12.1"
    }
  },
  "nbformat": 4,
  "nbformat_minor": 0
}
