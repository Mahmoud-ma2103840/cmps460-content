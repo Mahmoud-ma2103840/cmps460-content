{
  "cells": [
    {
      "cell_type": "markdown",
      "metadata": {
        "colab_type": "text",
        "id": "view-in-github"
      },
      "source": [
        "<a href=\"https://github.com/maticvl/dataHacker/tree/master/pyTorch\" target=\"_parent\">This example extends the examples at this link</a>"
      ]
    },
    {
      "cell_type": "markdown",
      "metadata": {
        "id": "Rte1f13L-qcW"
      },
      "source": [
        "### Computation graphs and Autograd in PyTorch"
      ]
    },
    {
      "cell_type": "code",
      "execution_count": 1,
      "metadata": {
        "id": "sV_NWJXPS3O_"
      },
      "outputs": [],
      "source": [
        "import numpy as np\n",
        "import matplotlib.pyplot as plt\n",
        "import torch"
      ]
    },
    {
      "cell_type": "markdown",
      "metadata": {
        "id": "2iX__NJIIF1a"
      },
      "source": [
        "## Simple example with gradients"
      ]
    },
    {
      "cell_type": "markdown",
      "metadata": {
        "id": "Yw-BWzT_BlsQ"
      },
      "source": [
        "Let's now see a simple example of how the derivative is calculated. We will create a scalar tensor `x` and set the `requires_grad` parameter to `True`."
      ]
    },
    {
      "cell_type": "code",
      "execution_count": 6,
      "metadata": {
        "id": "hOt6cjXjBmDb"
      },
      "outputs": [
        {
          "name": "stdout",
          "output_type": "stream",
          "text": [
            "x tensor(3., requires_grad=True)\n"
          ]
        }
      ],
      "source": [
        "# Create a tensor and set requires_grad=True to compute gradients\n",
        "x = torch.tensor(3., requires_grad=True)\n",
        "print(\"x\", x)"
      ]
    },
    {
      "cell_type": "markdown",
      "metadata": {
        "id": "vwk1w6AoVSk8"
      },
      "source": [
        "We will calculate `y` the following way:\\\n",
        "$ y = 3x^2 + 4x + 2$\n",
        "\n",
        "Now let's see what we get when we replace the `x` with our value `3`:  \n",
        "$ y = 3(3)^2 + 4(3) + 2 $\\\n",
        "$ y = 3*9 + 12 + 2$\\\n",
        "$ y = 27 + 12 + 2 $\\\n",
        "$ y = 41 $\n",
        "\\\n",
        "Now comes the part were we take the derivative of `y` with respect to the variable `x`.\\\n",
        "$\\frac{dy}{dx} = 2*3x + 4 = 6x + 4$\\\n",
        "If we replace `x` with our value `3`, we get the following:\n",
        "$6x + 4 = 6(3) + 4 = 18 + 4 = 22$\\\n",
        "So the gradient is equal to $22$\\\n",
        "Let's see how we can do this in code."
      ]
    },
    {
      "cell_type": "code",
      "execution_count": 17,
      "metadata": {
        "id": "-DRxYu1cB7Zc"
      },
      "outputs": [
        {
          "name": "stdout",
          "output_type": "stream",
          "text": [
            "y = 3x^2 + 4x + 2 =  41.0\n"
          ]
        }
      ],
      "source": [
        "y = 3*x**2 + 4*x + 2\n",
        "print(\"y = 3x^2 + 4x + 2 = \", y.item())"
      ]
    },
    {
      "cell_type": "markdown",
      "metadata": {},
      "source": [
        "### Call `y.backward()` to calculate the derivative for that function."
      ]
    },
    {
      "cell_type": "code",
      "execution_count": 18,
      "metadata": {
        "id": "NDV33SPOvR14"
      },
      "outputs": [
        {
          "name": "stdout",
          "output_type": "stream",
          "text": [
            "derivative of `y` with respect to `x` = tensor(66.)\n"
          ]
        }
      ],
      "source": [
        "# Compute the derivative of `y` with respect to `x`\n",
        "y.backward()\n",
        "print(\"derivative of `y` with respect to `x` =\", x.grad)"
      ]
    },
    {
      "cell_type": "markdown",
      "metadata": {
        "id": "RGA2TTZ2a72l"
      },
      "source": [
        "## Is there a way to turn off the gradient calculation ?"
      ]
    },
    {
      "cell_type": "markdown",
      "metadata": {
        "id": "q3myJit2O93s"
      },
      "source": [
        "The answer is yes, you can turn the gradient calculation anytime."
      ]
    },
    {
      "cell_type": "code",
      "execution_count": 19,
      "metadata": {
        "id": "xlL9kf-UbEaQ"
      },
      "outputs": [
        {
          "name": "stdout",
          "output_type": "stream",
          "text": [
            "tensor(3., requires_grad=True)\n"
          ]
        }
      ],
      "source": [
        "x = torch.tensor(3., requires_grad=True)\n",
        "print(x)"
      ]
    },
    {
      "cell_type": "code",
      "execution_count": 20,
      "metadata": {
        "id": "vcO3N1fMVYS0"
      },
      "outputs": [
        {
          "name": "stdout",
          "output_type": "stream",
          "text": [
            "tensor(3.)\n"
          ]
        }
      ],
      "source": [
        "x = x.requires_grad_(False)\n",
        "print(x)"
      ]
    },
    {
      "cell_type": "code",
      "execution_count": 21,
      "metadata": {
        "id": "FSQmsP8mVgfc"
      },
      "outputs": [
        {
          "name": "stdout",
          "output_type": "stream",
          "text": [
            "tensor(3.)\n"
          ]
        }
      ],
      "source": [
        "x = x.detach()\n",
        "print(x)"
      ]
    },
    {
      "cell_type": "markdown",
      "metadata": {
        "id": "PFiwtMAiWX9_"
      },
      "source": [
        "# Gradient accumulation"
      ]
    },
    {
      "cell_type": "markdown",
      "metadata": {
        "id": "rUcL2csoPiov"
      },
      "source": [
        "The auto gradient calculation does not reset the gradients automatically, therefore we have to reset them after each optimization. If we forget this step they could end up just accumulating.\\\n",
        "This sounds complex, but it is not, it's easy. To reset the gradients for a particular tensor, you can simply pass `x.grad.zero_()` and it will reset the gradient. "
      ]
    },
    {
      "cell_type": "code",
      "execution_count": 25,
      "metadata": {
        "id": "vxLVo9P_WS2G"
      },
      "outputs": [
        {
          "name": "stdout",
          "output_type": "stream",
          "text": [
            "tensor(22.)\n",
            "tensor(22.)\n",
            "tensor(22.)\n"
          ]
        }
      ],
      "source": [
        "x = torch.tensor(3., requires_grad=True)\n",
        "\n",
        "for epoch in range(3):\n",
        "  y = 3*x**2 + 4*x + 2\n",
        "  y.backward()\n",
        "\n",
        "  print(x.grad)\n",
        "  x.grad.zero_()"
      ]
    },
    {
      "cell_type": "markdown",
      "metadata": {},
      "source": [
        "### Differentiation in Autograd\n",
        "Let’s take a look at how autograd collects gradients. We create two tensors `a` and `b` with requires_grad=True. This signals to autograd that every operation on them should be tracked."
      ]
    },
    {
      "cell_type": "code",
      "execution_count": 38,
      "metadata": {},
      "outputs": [],
      "source": [
        "a = torch.tensor([2., 3.], requires_grad=True)\n",
        "b = torch.tensor([6., 4.], requires_grad=True)"
      ]
    },
    {
      "cell_type": "markdown",
      "metadata": {},
      "source": [
        "We create another tensor Q from a and b.\n",
        "Q = 3a^3 - b^2"
      ]
    },
    {
      "cell_type": "code",
      "execution_count": 43,
      "metadata": {},
      "outputs": [
        {
          "name": "stdout",
          "output_type": "stream",
          "text": [
            "Q =  tensor([-12.,  65.], grad_fn=<SubBackward0>)\n"
          ]
        }
      ],
      "source": [
        "Q = 3*a**3 - b**2\n",
        "print(\"Q = \", Q)"
      ]
    },
    {
      "attachments": {
        "image-2.png": {
          "image/png": "[encoded data removed]"
        },
        "image.png": {
          "image/png": "[encoded data removed]"
        }
      },
      "cell_type": "markdown",
      "metadata": {},
      "source": [
        "Let’s assume a and b to be parameters of an NN, and Q to be the error. In NN training, we want gradients of the error w.r.t. parameters, i.e.\n",
        "![image.png](attachment:image.png)\n",
        "\n",
        "When we call .backward() on Q, autograd calculates these gradients and stores them in the respective tensors’ .grad attribute.\n",
        "\n",
        "We need to explicitly pass a gradient argument in Q.backward() because it is a vector. gradient is a tensor of the same shape as Q, and it represents the gradient of Q w.r.t. itself, i.e.\n",
        "\n",
        "![image-2.png](attachment:image-2.png)\n",
        "\n",
        "Equivalently, we can also aggregate Q into a scalar and call backward implicitly, like Q.sum().backward().\n"
      ]
    },
    {
      "cell_type": "code",
      "execution_count": 44,
      "metadata": {},
      "outputs": [
        {
          "name": "stdout",
          "output_type": "stream",
          "text": [
            "Derivative of Q w.r.t a = 9*a**2 =  tensor([ 72., 162.])\n",
            "Derivative of Q w.r.t a = -2*b = tensor([-24., -16.])\n"
          ]
        }
      ],
      "source": [
        "external_grad = torch.tensor([1., 1.])\n",
        "Q.backward(gradient=external_grad)\n",
        "\n",
        "# check if collected gradients are correct\n",
        "print(\"Derivative of Q w.r.t a = 9*a**2 = \", a.grad)\n",
        "print(\"Derivative of Q w.r.t a = -2*b =\", b.grad)"
      ]
    },
    {
      "cell_type": "markdown",
      "metadata": {
        "id": "mEO9m6PElhrw"
      },
      "source": [
        "## Optimizing parameters with autograd "
      ]
    },
    {
      "cell_type": "markdown",
      "metadata": {
        "id": "33aJwXNpQ6QJ"
      },
      "source": [
        "Create `x` tensor and compute `y` and `z` as follows:\\\n",
        "$y = 2x^2 + 3$\\\n",
        "$z = y^2$\n"
      ]
    },
    {
      "cell_type": "code",
      "execution_count": 32,
      "metadata": {
        "id": "TUZV2JHP1KIQ"
      },
      "outputs": [
        {
          "name": "stdout",
          "output_type": "stream",
          "text": [
            "z =  tensor([25., 49., 81.], grad_fn=<PowBackward0>)\n"
          ]
        }
      ],
      "source": [
        "x = torch.tensor([1.,2.,3.], requires_grad=True)\n",
        "y = x * 2 + 3\n",
        "z = y ** 2\n",
        "print(\"z = \", z)"
      ]
    },
    {
      "cell_type": "code",
      "execution_count": 33,
      "metadata": {
        "id": "ZIGO5Md-4IED"
      },
      "outputs": [
        {
          "name": "stdout",
          "output_type": "stream",
          "text": [
            "mean tensor(51.6667, grad_fn=<MeanBackward0>)\n",
            "derivative tensor([ 6.6667,  9.3333, 12.0000])\n"
          ]
        }
      ],
      "source": [
        "out = z.mean()\n",
        "print(\"mean\", out)\n",
        "out.backward()\n",
        "print(\"derivative\", x.grad)"
      ]
    },
    {
      "cell_type": "code",
      "execution_count": 36,
      "metadata": {
        "id": "ED_QFLX_Ar5m"
      },
      "outputs": [
        {
          "name": "stdout",
          "output_type": "stream",
          "text": [
            "z =  tensor([25., 49., 81.], grad_fn=<PowBackward0>)\n",
            "tensor([20., 28., 36.])\n",
            "tensor([ 6.6667,  9.3333, 12.0000])\n"
          ]
        }
      ],
      "source": [
        "x = torch.tensor([1.,2.,3.], requires_grad=True)\n",
        "y = x * 2 + 3\n",
        "z = y ** 2\n",
        "print(\"z = \", z)\n",
        "\n",
        "v = torch.tensor([1.,1.,1.])\n",
        "z.backward(v)\n",
        "print(x.grad)\n",
        "print(x.grad/len(x))"
      ]
    },
    {
      "cell_type": "markdown",
      "metadata": {
        "id": "1-jlM9DcRE8N"
      },
      "source": [
        "Create a list for `w` and `b` in which we will save those values."
      ]
    },
    {
      "cell_type": "code",
      "execution_count": null,
      "metadata": {
        "id": "rGSWjSf4NIm8"
      },
      "outputs": [],
      "source": [
        "x = torch.tensor([1.,2.,3.,4.,5])\n",
        "y = x * 2 "
      ]
    },
    {
      "cell_type": "code",
      "execution_count": null,
      "metadata": {
        "id": "EY4ovV3UNo3S"
      },
      "outputs": [],
      "source": [
        "w_ = torch.tensor(5., requires_grad=True)\n",
        "b_ = torch.tensor(1., requires_grad=True)"
      ]
    },
    {
      "cell_type": "code",
      "execution_count": null,
      "metadata": {
        "id": "Y6Wa9-7MNo6y"
      },
      "outputs": [],
      "source": [
        "for i_value in range(len(x)):\n",
        "  w = torch.tensor(5., requires_grad=True)\n",
        "  b = torch.tensor(1., requires_grad=True)\n",
        "\n",
        "  y_hat = w * x[i_value] + b\n",
        "  \n",
        "  error = y_hat - y[i_value]\n",
        "  loss = error ** 2 \n",
        "\n",
        "  loss.backward()\n",
        "\n",
        "  alpha = 0.01\n",
        "  \n",
        "  with torch.no_grad():\n",
        "    w_.data -= alpha * (w.grad/len(x))\n",
        "    b_.data -= alpha * (b.grad/len(x))"
      ]
    },
    {
      "cell_type": "markdown",
      "metadata": {
        "id": "0crGHfd5RNNW"
      },
      "source": [
        "We will iterate and calculate the gradients for each value from the tensor `x_torch`. If we want to calculate the gradient for each number instead of the whole batch or list of numbers, we need to set the `w` and `b` parameters to the same number after calculation. After this step we do the forward pass for that number, and then we calculate the loss for that number and do the backpropagation. Update the `w` and `b` parameters and save them in the list we initialized earlier."
      ]
    },
    {
      "cell_type": "markdown",
      "metadata": {
        "id": "zSghVw7USY2q"
      },
      "source": [
        "To get the final gradient we need to sum all of the gradients for all the numbers and divide them with the total number of values."
      ]
    },
    {
      "cell_type": "code",
      "execution_count": null,
      "metadata": {
        "id": "t9TIlFQfe47K"
      },
      "outputs": [],
      "source": [
        "print(w_)\n",
        "print(b_)"
      ]
    },
    {
      "cell_type": "code",
      "execution_count": null,
      "metadata": {
        "id": "PEM3E6LMyQey"
      },
      "outputs": [],
      "source": [
        "w_ = torch.tensor(5., requires_grad=True)\n",
        "b_ = torch.tensor(1., requires_grad=True)"
      ]
    },
    {
      "cell_type": "code",
      "execution_count": null,
      "metadata": {
        "id": "B7BuAfcFyW1N"
      },
      "outputs": [],
      "source": [
        "y_hat = w * x + b\n",
        "error = y_hat - y\n",
        "loss = error ** 2"
      ]
    },
    {
      "cell_type": "code",
      "execution_count": null,
      "metadata": {
        "id": "xcPYM5nNyhFw"
      },
      "outputs": [],
      "source": [
        "loss=loss.mean()\n",
        "loss.backward()"
      ]
    },
    {
      "cell_type": "code",
      "execution_count": null,
      "metadata": {
        "id": "BQCBKwfCysQX"
      },
      "outputs": [],
      "source": [
        "w.data -= alpha * w.grad\n",
        "b.data -= alpha * b.grad"
      ]
    },
    {
      "cell_type": "markdown",
      "metadata": {
        "id": "xRi5BA-7SfyA"
      },
      "source": [
        "Let's now see how we can do the same thing but just with the whole set of numbers."
      ]
    },
    {
      "cell_type": "code",
      "execution_count": null,
      "metadata": {
        "id": "c1JgTpKleZec"
      },
      "outputs": [],
      "source": [
        "print(w)\n",
        "print(b)"
      ]
    }
  ],
  "metadata": {
    "accelerator": "GPU",
    "colab": {
      "collapsed_sections": [],
      "include_colab_link": true,
      "name": "004_autoGrad.ipynb",
      "private_outputs": true,
      "provenance": []
    },
    "kernelspec": {
      "display_name": "Python 3",
      "name": "python3"
    },
    "language_info": {
      "codemirror_mode": {
        "name": "ipython",
        "version": 3
      },
      "file_extension": ".py",
      "mimetype": "text/x-python",
      "name": "python",
      "nbconvert_exporter": "python",
      "pygments_lexer": "ipython3",
      "version": "3.12.1"
    }
  },
  "nbformat": 4,
  "nbformat_minor": 0
}
