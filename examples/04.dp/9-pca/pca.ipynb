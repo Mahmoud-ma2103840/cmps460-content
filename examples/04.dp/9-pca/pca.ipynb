{
 "cells": [
  {
   "cell_type": "markdown",
   "metadata": {},
   "source": [
    "** Import the necessary libraries and load Iris dataset **"
   ]
  },
  {
   "cell_type": "code",
   "execution_count": null,
   "metadata": {},
   "outputs": [],
   "source": []
  },
  {
   "cell_type": "code",
   "execution_count": 56,
   "metadata": {},
   "outputs": [
    {
     "name": "stdout",
     "output_type": "stream",
     "text": [
      "Requirement already satisfied: plotly_express in c:\\users\\erradi\\appdata\\local\\anaconda3\\envs\\cmps460\\lib\\site-packages (0.4.1)\n",
      "Requirement already satisfied: pandas>=0.20.0 in c:\\users\\erradi\\appdata\\local\\anaconda3\\envs\\cmps460\\lib\\site-packages (from plotly_express) (2.1.4)\n",
      "Requirement already satisfied: plotly>=4.1.0 in c:\\users\\erradi\\appdata\\local\\anaconda3\\envs\\cmps460\\lib\\site-packages (from plotly_express) (5.19.0)\n",
      "Requirement already satisfied: statsmodels>=0.9.0 in c:\\users\\erradi\\appdata\\local\\anaconda3\\envs\\cmps460\\lib\\site-packages (from plotly_express) (0.14.1)\n",
      "Requirement already satisfied: scipy>=0.18 in c:\\users\\erradi\\appdata\\local\\anaconda3\\envs\\cmps460\\lib\\site-packages (from plotly_express) (1.11.4)\n",
      "Requirement already satisfied: patsy>=0.5 in c:\\users\\erradi\\appdata\\local\\anaconda3\\envs\\cmps460\\lib\\site-packages (from plotly_express) (0.5.6)\n",
      "Requirement already satisfied: numpy>=1.11 in c:\\users\\erradi\\appdata\\local\\anaconda3\\envs\\cmps460\\lib\\site-packages (from plotly_express) (1.26.3)\n",
      "Requirement already satisfied: python-dateutil>=2.8.2 in c:\\users\\erradi\\appdata\\local\\anaconda3\\envs\\cmps460\\lib\\site-packages (from pandas>=0.20.0->plotly_express) (2.8.2)\n",
      "Requirement already satisfied: pytz>=2020.1 in c:\\users\\erradi\\appdata\\local\\anaconda3\\envs\\cmps460\\lib\\site-packages (from pandas>=0.20.0->plotly_express) (2024.1)\n",
      "Requirement already satisfied: tzdata>=2022.1 in c:\\users\\erradi\\appdata\\local\\anaconda3\\envs\\cmps460\\lib\\site-packages (from pandas>=0.20.0->plotly_express) (2023.4)\n",
      "Requirement already satisfied: six in c:\\users\\erradi\\appdata\\local\\anaconda3\\envs\\cmps460\\lib\\site-packages (from patsy>=0.5->plotly_express) (1.16.0)\n",
      "Requirement already satisfied: tenacity>=6.2.0 in c:\\users\\erradi\\appdata\\local\\anaconda3\\envs\\cmps460\\lib\\site-packages (from plotly>=4.1.0->plotly_express) (8.2.3)\n",
      "Requirement already satisfied: packaging in c:\\users\\erradi\\appdata\\local\\anaconda3\\envs\\cmps460\\lib\\site-packages (from plotly>=4.1.0->plotly_express) (23.2)\n",
      "Note: you may need to restart the kernel to use updated packages.\n"
     ]
    }
   ],
   "source": [
    "%pip install plotly_express"
   ]
  },
  {
   "cell_type": "code",
   "execution_count": 57,
   "metadata": {},
   "outputs": [
    {
     "name": "stdout",
     "output_type": "stream",
     "text": [
      "(150, 4)\n",
      "[[5.1 3.5 1.4 0.2]\n",
      " [4.9 3.  1.4 0.2]\n",
      " [4.7 3.2 1.3 0.2]\n",
      " [4.6 3.1 1.5 0.2]\n",
      " [5.  3.6 1.4 0.2]]\n",
      "(150,)\n",
      "[0 0 0 0 0 0 0 0 0 0 0 0 0 0 0 0 0 0 0 0 0 0 0 0 0 0 0 0 0 0 0 0 0 0 0 0 0\n",
      " 0 0 0 0 0 0 0 0 0 0 0 0 0 1 1 1 1 1 1 1 1 1 1 1 1 1 1 1 1 1 1 1 1 1 1 1 1\n",
      " 1 1 1 1 1 1 1 1 1 1 1 1 1 1 1 1 1 1 1 1 1 1 1 1 1 1 2 2 2 2 2 2 2 2 2 2 2\n",
      " 2 2 2 2 2 2 2 2 2 2 2 2 2 2 2 2 2 2 2 2 2 2 2 2 2 2 2 2 2 2 2 2 2 2 2 2 2]\n"
     ]
    }
   ],
   "source": [
    "# Generic\n",
    "import pandas as pd\n",
    "import numpy as np\n",
    "\n",
    "# Generate data set\n",
    "from sklearn.datasets import load_iris\n",
    "\n",
    "# PCA\n",
    "from sklearn.preprocessing import StandardScaler\n",
    "from sklearn.decomposition import PCA\n",
    "\n",
    "# Data Visualization\n",
    "import matplotlib.pyplot as plt\n",
    "import seaborn as sns\n",
    "import plotly.express as px\n",
    "\n",
    "# Load the Iris dataset as an example\n",
    "iris = load_iris()\n",
    "X = iris.data\n",
    "print(X.shape)\n",
    "print(X[:5])\n",
    "\n",
    "y = iris.target\n",
    "print(y.shape)\n",
    "print(y[:-2])"
   ]
  },
  {
   "cell_type": "code",
   "execution_count": 65,
   "metadata": {},
   "outputs": [
    {
     "name": "stdout",
     "output_type": "stream",
     "text": [
      "   sepal_length  sepal_width  petal_length  petal_width  specie\n",
      "0     -0.900681     1.019004     -1.340227    -1.315444  setosa\n",
      "1     -1.143017    -0.131979     -1.340227    -1.315444  setosa\n",
      "2     -1.385353     0.328414     -1.397064    -1.315444  setosa\n",
      "3     -1.506521     0.098217     -1.283389    -1.315444  setosa\n",
      "4     -1.021849     1.249201     -1.340227    -1.315444  setosa\n"
     ]
    },
    {
     "data": {
      "application/vnd.plotly.v1+json": {
       "config": {
        "plotlyServerURL": "https://plot.ly"
       },
       "data": [
        {
         "hovertemplate": "specie=setosa<br>sepal_length=%{x}<br>sepal_width=%{y}<br>petal_length=%{z}<extra></extra>",
         "legendgroup": "setosa",
         "marker": {
          "color": "#636efa",
          "symbol": "circle"
         },
         "mode": "markers",
         "name": "setosa",
         "scene": "scene",
         "showlegend": true,
         "type": "scatter3d",
         "x": [
          -0.9006811702978089,
          -1.1430169111851105,
          -1.3853526520724133,
          -1.5065205225160654,
          -1.0218490407414595,
          -0.537177558966854,
          -1.5065205225160654,
          -1.0218490407414595,
          -1.748856263403367,
          -1.1430169111851105,
          -0.537177558966854,
          -1.2641847816287624,
          -1.2641847816287624,
          -1.8700241338470192,
          -0.05250607719224936,
          -0.17367394763590022,
          -0.537177558966854,
          -0.9006811702978089,
          -0.17367394763590022,
          -0.9006811702978089,
          -0.537177558966854,
          -0.9006811702978089,
          -1.5065205225160654,
          -0.9006811702978089,
          -1.2641847816287624,
          -1.0218490407414595,
          -1.0218490407414595,
          -0.779513299854157,
          -0.779513299854157,
          -1.3853526520724133,
          -1.2641847816287624,
          -0.537177558966854,
          -0.779513299854157,
          -0.41600968852320314,
          -1.1430169111851105,
          -1.0218490407414595,
          -0.41600968852320314,
          -1.1430169111851105,
          -1.748856263403367,
          -0.9006811702978089,
          -1.0218490407414595,
          -1.6276883929597163,
          -1.748856263403367,
          -1.0218490407414595,
          -0.9006811702978089,
          -1.2641847816287624,
          -0.9006811702978089,
          -1.5065205225160654,
          -0.658345429410506,
          -1.0218490407414595
         ],
         "y": [
          1.019004351971609,
          -0.13197947932162404,
          0.3284140531956696,
          0.09821728693702274,
          1.2492011182302558,
          1.9397914170061952,
          0.7888075857129623,
          0.7888075857129623,
          -0.36217624558027084,
          0.09821728693702274,
          1.4793978844889024,
          0.7888075857129623,
          -0.13197947932162404,
          -0.13197947932162404,
          2.169988183264842,
          3.0907752482994293,
          1.9397914170061952,
          1.019004351971609,
          1.7095946507475484,
          1.7095946507475484,
          0.7888075857129623,
          1.4793978844889024,
          1.2492011182302558,
          0.5586108194543153,
          0.7888075857129623,
          -0.13197947932162404,
          0.7888075857129623,
          1.019004351971609,
          0.7888075857129623,
          0.3284140531956696,
          0.09821728693702274,
          0.7888075857129623,
          2.4001849495234877,
          2.6303817157821356,
          0.09821728693702274,
          0.3284140531956696,
          1.019004351971609,
          1.2492011182302558,
          -0.13197947932162404,
          0.7888075857129623,
          1.019004351971609,
          -1.7433568431321507,
          0.3284140531956696,
          1.019004351971609,
          1.7095946507475484,
          -0.13197947932162404,
          1.7095946507475484,
          0.3284140531956696,
          1.4793978844889024,
          0.5586108194543153
         ],
         "z": [
          -1.3402265266227609,
          -1.3402265266227609,
          -1.397063953536364,
          -1.2833890997091577,
          -1.3402265266227609,
          -1.1697142458819514,
          -1.3402265266227609,
          -1.2833890997091577,
          -1.3402265266227609,
          -1.2833890997091577,
          -1.2833890997091577,
          -1.2265516727955545,
          -1.3402265266227609,
          -1.51073880736357,
          -1.453901380449967,
          -1.2833890997091577,
          -1.397063953536364,
          -1.3402265266227609,
          -1.1697142458819514,
          -1.2833890997091577,
          -1.1697142458819514,
          -1.2833890997091577,
          -1.567576234277173,
          -1.1697142458819514,
          -1.0560393920547453,
          -1.2265516727955545,
          -1.2265516727955545,
          -1.2833890997091577,
          -1.3402265266227609,
          -1.2265516727955545,
          -1.2265516727955545,
          -1.2833890997091577,
          -1.2833890997091577,
          -1.3402265266227609,
          -1.2833890997091577,
          -1.453901380449967,
          -1.397063953536364,
          -1.3402265266227609,
          -1.397063953536364,
          -1.2833890997091577,
          -1.397063953536364,
          -1.397063953536364,
          -1.397063953536364,
          -1.2265516727955545,
          -1.0560393920547453,
          -1.3402265266227609,
          -1.2265516727955545,
          -1.3402265266227609,
          -1.2833890997091577,
          -1.3402265266227609
         ]
        },
        {
         "hovertemplate": "specie=versicolor<br>sepal_length=%{x}<br>sepal_width=%{y}<br>petal_length=%{z}<extra></extra>",
         "legendgroup": "versicolor",
         "marker": {
          "color": "#EF553B",
          "symbol": "circle"
         },
         "mode": "markers",
         "name": "versicolor",
         "scene": "scene",
         "showlegend": true,
         "type": "scatter3d",
         "x": [
          1.4015083681315665,
          0.6745011454696591,
          1.2803404976879158,
          -0.41600968852320314,
          0.7956690159133101,
          -0.17367394763590022,
          0.5533332750260072,
          -1.1430169111851105,
          0.9168368863569609,
          -0.779513299854157,
          -1.0218490407414595,
          0.06866179325140259,
          0.1898296636950535,
          0.31099753413870435,
          -0.29484181807955223,
          1.038004756800613,
          -0.29484181807955223,
          -0.05250607719224936,
          0.4321654045823563,
          -0.29484181807955223,
          0.06866179325140259,
          0.31099753413870435,
          0.5533332750260072,
          0.31099753413870435,
          0.6745011454696591,
          0.9168368863569609,
          1.1591726272442637,
          1.038004756800613,
          0.1898296636950535,
          -0.17367394763590022,
          -0.41600968852320314,
          -0.41600968852320314,
          -0.05250607719224936,
          0.1898296636950535,
          -0.537177558966854,
          0.1898296636950535,
          1.038004756800613,
          0.5533332750260072,
          -0.29484181807955223,
          -0.41600968852320314,
          -0.41600968852320314,
          0.31099753413870435,
          -0.05250607719224936,
          -1.0218490407414595,
          -0.29484181807955223,
          -0.17367394763590022,
          -0.17367394763590022,
          0.4321654045823563,
          -0.9006811702978089,
          -0.17367394763590022
         ],
         "y": [
          0.3284140531956696,
          0.3284140531956696,
          0.09821728693702274,
          -1.7433568431321507,
          -0.5923730118389177,
          -0.5923730118389177,
          0.5586108194543153,
          -1.513160076873504,
          -0.36217624558027084,
          -0.8225697780975634,
          -2.43394714190809,
          -0.13197947932162404,
          -1.9735536093907966,
          -0.36217624558027084,
          -0.36217624558027084,
          0.09821728693702274,
          -0.13197947932162404,
          -0.8225697780975634,
          -1.9735536093907966,
          -1.282963310614857,
          0.3284140531956696,
          -0.5923730118389177,
          -1.282963310614857,
          -0.5923730118389177,
          -0.36217624558027084,
          -0.13197947932162404,
          -0.5923730118389177,
          -0.13197947932162404,
          -0.36217624558027084,
          -1.0527665443562102,
          -1.513160076873504,
          -1.513160076873504,
          -0.8225697780975634,
          -0.8225697780975634,
          -0.13197947932162404,
          0.7888075857129623,
          0.09821728693702274,
          -1.7433568431321507,
          -0.13197947932162404,
          -1.282963310614857,
          -1.0527665443562102,
          -0.13197947932162404,
          -1.0527665443562102,
          -1.7433568431321507,
          -0.8225697780975634,
          -0.13197947932162404,
          -0.36217624558027084,
          -0.36217624558027084,
          -1.282963310614857,
          -0.5923730118389177
         ],
         "z": [
          0.535408561526142,
          0.4217337076989357,
          0.6490834153533483,
          0.13754657313092009,
          0.47857113461253864,
          0.4217337076989357,
          0.535408561526142,
          -0.26031541526430185,
          0.47857113461253864,
          0.08070914621731692,
          -0.14664056143709553,
          0.25122142695812644,
          0.13754657313092009,
          0.535408561526142,
          -0.08980313452349235,
          0.3648962807853328,
          0.4217337076989357,
          0.194384000044523,
          0.4217337076989357,
          0.08070914621731692,
          0.592245988439745,
          0.13754657313092009,
          0.6490834153533483,
          0.535408561526142,
          0.3080588538717294,
          0.3648962807853328,
          0.592245988439745,
          0.7059208422669513,
          0.4217337076989357,
          -0.14664056143709553,
          0.023871719303713755,
          -0.032965707609889164,
          0.08070914621731692,
          0.7627582691805541,
          0.4217337076989357,
          0.4217337076989357,
          0.535408561526142,
          0.3648962807853328,
          0.194384000044523,
          0.13754657313092009,
          0.3648962807853328,
          0.47857113461253864,
          0.13754657313092009,
          -0.26031541526430185,
          0.25122142695812644,
          0.25122142695812644,
          0.25122142695812644,
          0.3080588538717294,
          -0.4308276960051111,
          0.194384000044523
         ]
        },
        {
         "hovertemplate": "specie=virginica<br>sepal_length=%{x}<br>sepal_width=%{y}<br>petal_length=%{z}<extra></extra>",
         "legendgroup": "virginica",
         "marker": {
          "color": "#00cc96",
          "symbol": "circle"
         },
         "mode": "markers",
         "name": "virginica",
         "scene": "scene",
         "showlegend": true,
         "type": "scatter3d",
         "x": [
          0.5533332750260072,
          -0.05250607719224936,
          1.5226762385752177,
          0.5533332750260072,
          0.7956690159133101,
          2.1285155907934747,
          -1.1430169111851105,
          1.7650119794625205,
          1.038004756800613,
          1.6438441090188696,
          0.7956690159133101,
          0.6745011454696591,
          1.1591726272442637,
          -0.17367394763590022,
          -0.05250607719224936,
          0.6745011454696591,
          0.7956690159133101,
          2.2496834612371264,
          2.2496834612371264,
          0.1898296636950535,
          1.2803404976879158,
          -0.29484181807955223,
          2.2496834612371264,
          0.5533332750260072,
          1.038004756800613,
          1.6438441090188696,
          0.4321654045823563,
          0.31099753413870435,
          0.6745011454696591,
          1.6438441090188696,
          1.8861798499061724,
          2.492019202124429,
          0.6745011454696591,
          0.5533332750260072,
          0.31099753413870435,
          2.2496834612371264,
          0.5533332750260072,
          0.6745011454696591,
          0.1898296636950535,
          1.2803404976879158,
          1.038004756800613,
          1.2803404976879158,
          -0.05250607719224936,
          1.1591726272442637,
          1.038004756800613,
          1.038004756800613,
          0.5533332750260072,
          0.7956690159133101,
          0.4321654045823563,
          0.06866179325140259
         ],
         "y": [
          0.5586108194543153,
          -0.8225697780975634,
          -0.13197947932162404,
          -0.36217624558027084,
          -0.13197947932162404,
          -0.13197947932162404,
          -1.282963310614857,
          -0.36217624558027084,
          -1.282963310614857,
          1.2492011182302558,
          0.3284140531956696,
          -0.8225697780975634,
          -0.13197947932162404,
          -1.282963310614857,
          -0.5923730118389177,
          0.3284140531956696,
          -0.13197947932162404,
          1.7095946507475484,
          -1.0527665443562102,
          -1.9735536093907966,
          0.3284140531956696,
          -0.5923730118389177,
          -0.5923730118389177,
          -0.8225697780975634,
          0.5586108194543153,
          0.3284140531956696,
          -0.5923730118389177,
          -0.13197947932162404,
          -0.5923730118389177,
          -0.13197947932162404,
          -0.5923730118389177,
          1.7095946507475484,
          -0.5923730118389177,
          -0.5923730118389177,
          -1.0527665443562102,
          -0.13197947932162404,
          0.7888075857129623,
          0.09821728693702274,
          -0.13197947932162404,
          0.09821728693702274,
          0.09821728693702274,
          0.09821728693702274,
          -0.8225697780975634,
          0.3284140531956696,
          0.5586108194543153,
          -0.13197947932162404,
          -1.282963310614857,
          -0.13197947932162404,
          0.7888075857129623,
          -0.13197947932162404
         ],
         "z": [
          1.274295111402983,
          0.7627582691805541,
          1.21745768448938,
          1.0469454037485704,
          1.1606202575757767,
          1.6153196728846013,
          0.4217337076989357,
          1.4448073921437923,
          1.1606202575757767,
          1.331132538316586,
          0.7627582691805541,
          0.8764331230077606,
          0.9901079768349669,
          0.7059208422669513,
          0.7627582691805541,
          0.8764331230077606,
          0.9901079768349669,
          1.672157099798205,
          1.7858319536254113,
          0.7059208422669513,
          1.1037828306621738,
          0.6490834153533483,
          1.672157099798205,
          0.6490834153533483,
          1.1037828306621738,
          1.274295111402983,
          0.592245988439745,
          0.6490834153533483,
          1.0469454037485704,
          1.1606202575757767,
          1.331132538316586,
          1.5016448190573957,
          1.0469454037485704,
          0.7627582691805541,
          1.0469454037485704,
          1.331132538316586,
          1.0469454037485704,
          0.9901079768349669,
          0.592245988439745,
          0.9332705499213639,
          1.0469454037485704,
          0.7627582691805541,
          0.7627582691805541,
          1.21745768448938,
          1.1037828306621738,
          0.8195956960941576,
          0.7059208422669513,
          0.8195956960941576,
          0.9332705499213639,
          0.7627582691805541
         ]
        }
       ],
       "layout": {
        "legend": {
         "title": {
          "text": "specie"
         },
         "tracegroupgap": 0
        },
        "margin": {
         "b": 0,
         "l": 0,
         "r": 0,
         "t": 0
        },
        "scene": {
         "camera": {
          "center": {
           "x": 0,
           "y": 0,
           "z": -0.1
          },
          "eye": {
           "x": 1.5,
           "y": -1.4,
           "z": 0.5
          },
          "up": {
           "x": 0,
           "y": 0,
           "z": 1
          }
         },
         "domain": {
          "x": [
           0,
           1
          ],
          "y": [
           0,
           1
          ]
         },
         "xaxis": {
          "title": {
           "text": "sepal_length"
          }
         },
         "yaxis": {
          "title": {
           "text": "sepal_width"
          }
         },
         "zaxis": {
          "title": {
           "text": "petal_length"
          }
         }
        },
        "template": {
         "data": {
          "bar": [
           {
            "error_x": {
             "color": "#2a3f5f"
            },
            "error_y": {
             "color": "#2a3f5f"
            },
            "marker": {
             "line": {
              "color": "#E5ECF6",
              "width": 0.5
             },
             "pattern": {
              "fillmode": "overlay",
              "size": 10,
              "solidity": 0.2
             }
            },
            "type": "bar"
           }
          ],
          "barpolar": [
           {
            "marker": {
             "line": {
              "color": "#E5ECF6",
              "width": 0.5
             },
             "pattern": {
              "fillmode": "overlay",
              "size": 10,
              "solidity": 0.2
             }
            },
            "type": "barpolar"
           }
          ],
          "carpet": [
           {
            "aaxis": {
             "endlinecolor": "#2a3f5f",
             "gridcolor": "white",
             "linecolor": "white",
             "minorgridcolor": "white",
             "startlinecolor": "#2a3f5f"
            },
            "baxis": {
             "endlinecolor": "#2a3f5f",
             "gridcolor": "white",
             "linecolor": "white",
             "minorgridcolor": "white",
             "startlinecolor": "#2a3f5f"
            },
            "type": "carpet"
           }
          ],
          "choropleth": [
           {
            "colorbar": {
             "outlinewidth": 0,
             "ticks": ""
            },
            "type": "choropleth"
           }
          ],
          "contour": [
           {
            "colorbar": {
             "outlinewidth": 0,
             "ticks": ""
            },
            "colorscale": [
             [
              0,
              "#0d0887"
             ],
             [
              0.1111111111111111,
              "#46039f"
             ],
             [
              0.2222222222222222,
              "#7201a8"
             ],
             [
              0.3333333333333333,
              "#9c179e"
             ],
             [
              0.4444444444444444,
              "#bd3786"
             ],
             [
              0.5555555555555556,
              "#d8576b"
             ],
             [
              0.6666666666666666,
              "#ed7953"
             ],
             [
              0.7777777777777778,
              "#fb9f3a"
             ],
             [
              0.8888888888888888,
              "#fdca26"
             ],
             [
              1,
              "#f0f921"
             ]
            ],
            "type": "contour"
           }
          ],
          "contourcarpet": [
           {
            "colorbar": {
             "outlinewidth": 0,
             "ticks": ""
            },
            "type": "contourcarpet"
           }
          ],
          "heatmap": [
           {
            "colorbar": {
             "outlinewidth": 0,
             "ticks": ""
            },
            "colorscale": [
             [
              0,
              "#0d0887"
             ],
             [
              0.1111111111111111,
              "#46039f"
             ],
             [
              0.2222222222222222,
              "#7201a8"
             ],
             [
              0.3333333333333333,
              "#9c179e"
             ],
             [
              0.4444444444444444,
              "#bd3786"
             ],
             [
              0.5555555555555556,
              "#d8576b"
             ],
             [
              0.6666666666666666,
              "#ed7953"
             ],
             [
              0.7777777777777778,
              "#fb9f3a"
             ],
             [
              0.8888888888888888,
              "#fdca26"
             ],
             [
              1,
              "#f0f921"
             ]
            ],
            "type": "heatmap"
           }
          ],
          "heatmapgl": [
           {
            "colorbar": {
             "outlinewidth": 0,
             "ticks": ""
            },
            "colorscale": [
             [
              0,
              "#0d0887"
             ],
             [
              0.1111111111111111,
              "#46039f"
             ],
             [
              0.2222222222222222,
              "#7201a8"
             ],
             [
              0.3333333333333333,
              "#9c179e"
             ],
             [
              0.4444444444444444,
              "#bd3786"
             ],
             [
              0.5555555555555556,
              "#d8576b"
             ],
             [
              0.6666666666666666,
              "#ed7953"
             ],
             [
              0.7777777777777778,
              "#fb9f3a"
             ],
             [
              0.8888888888888888,
              "#fdca26"
             ],
             [
              1,
              "#f0f921"
             ]
            ],
            "type": "heatmapgl"
           }
          ],
          "histogram": [
           {
            "marker": {
             "pattern": {
              "fillmode": "overlay",
              "size": 10,
              "solidity": 0.2
             }
            },
            "type": "histogram"
           }
          ],
          "histogram2d": [
           {
            "colorbar": {
             "outlinewidth": 0,
             "ticks": ""
            },
            "colorscale": [
             [
              0,
              "#0d0887"
             ],
             [
              0.1111111111111111,
              "#46039f"
             ],
             [
              0.2222222222222222,
              "#7201a8"
             ],
             [
              0.3333333333333333,
              "#9c179e"
             ],
             [
              0.4444444444444444,
              "#bd3786"
             ],
             [
              0.5555555555555556,
              "#d8576b"
             ],
             [
              0.6666666666666666,
              "#ed7953"
             ],
             [
              0.7777777777777778,
              "#fb9f3a"
             ],
             [
              0.8888888888888888,
              "#fdca26"
             ],
             [
              1,
              "#f0f921"
             ]
            ],
            "type": "histogram2d"
           }
          ],
          "histogram2dcontour": [
           {
            "colorbar": {
             "outlinewidth": 0,
             "ticks": ""
            },
            "colorscale": [
             [
              0,
              "#0d0887"
             ],
             [
              0.1111111111111111,
              "#46039f"
             ],
             [
              0.2222222222222222,
              "#7201a8"
             ],
             [
              0.3333333333333333,
              "#9c179e"
             ],
             [
              0.4444444444444444,
              "#bd3786"
             ],
             [
              0.5555555555555556,
              "#d8576b"
             ],
             [
              0.6666666666666666,
              "#ed7953"
             ],
             [
              0.7777777777777778,
              "#fb9f3a"
             ],
             [
              0.8888888888888888,
              "#fdca26"
             ],
             [
              1,
              "#f0f921"
             ]
            ],
            "type": "histogram2dcontour"
           }
          ],
          "mesh3d": [
           {
            "colorbar": {
             "outlinewidth": 0,
             "ticks": ""
            },
            "type": "mesh3d"
           }
          ],
          "parcoords": [
           {
            "line": {
             "colorbar": {
              "outlinewidth": 0,
              "ticks": ""
             }
            },
            "type": "parcoords"
           }
          ],
          "pie": [
           {
            "automargin": true,
            "type": "pie"
           }
          ],
          "scatter": [
           {
            "fillpattern": {
             "fillmode": "overlay",
             "size": 10,
             "solidity": 0.2
            },
            "type": "scatter"
           }
          ],
          "scatter3d": [
           {
            "line": {
             "colorbar": {
              "outlinewidth": 0,
              "ticks": ""
             }
            },
            "marker": {
             "colorbar": {
              "outlinewidth": 0,
              "ticks": ""
             }
            },
            "type": "scatter3d"
           }
          ],
          "scattercarpet": [
           {
            "marker": {
             "colorbar": {
              "outlinewidth": 0,
              "ticks": ""
             }
            },
            "type": "scattercarpet"
           }
          ],
          "scattergeo": [
           {
            "marker": {
             "colorbar": {
              "outlinewidth": 0,
              "ticks": ""
             }
            },
            "type": "scattergeo"
           }
          ],
          "scattergl": [
           {
            "marker": {
             "colorbar": {
              "outlinewidth": 0,
              "ticks": ""
             }
            },
            "type": "scattergl"
           }
          ],
          "scattermapbox": [
           {
            "marker": {
             "colorbar": {
              "outlinewidth": 0,
              "ticks": ""
             }
            },
            "type": "scattermapbox"
           }
          ],
          "scatterpolar": [
           {
            "marker": {
             "colorbar": {
              "outlinewidth": 0,
              "ticks": ""
             }
            },
            "type": "scatterpolar"
           }
          ],
          "scatterpolargl": [
           {
            "marker": {
             "colorbar": {
              "outlinewidth": 0,
              "ticks": ""
             }
            },
            "type": "scatterpolargl"
           }
          ],
          "scatterternary": [
           {
            "marker": {
             "colorbar": {
              "outlinewidth": 0,
              "ticks": ""
             }
            },
            "type": "scatterternary"
           }
          ],
          "surface": [
           {
            "colorbar": {
             "outlinewidth": 0,
             "ticks": ""
            },
            "colorscale": [
             [
              0,
              "#0d0887"
             ],
             [
              0.1111111111111111,
              "#46039f"
             ],
             [
              0.2222222222222222,
              "#7201a8"
             ],
             [
              0.3333333333333333,
              "#9c179e"
             ],
             [
              0.4444444444444444,
              "#bd3786"
             ],
             [
              0.5555555555555556,
              "#d8576b"
             ],
             [
              0.6666666666666666,
              "#ed7953"
             ],
             [
              0.7777777777777778,
              "#fb9f3a"
             ],
             [
              0.8888888888888888,
              "#fdca26"
             ],
             [
              1,
              "#f0f921"
             ]
            ],
            "type": "surface"
           }
          ],
          "table": [
           {
            "cells": {
             "fill": {
              "color": "#EBF0F8"
             },
             "line": {
              "color": "white"
             }
            },
            "header": {
             "fill": {
              "color": "#C8D4E3"
             },
             "line": {
              "color": "white"
             }
            },
            "type": "table"
           }
          ]
         },
         "layout": {
          "annotationdefaults": {
           "arrowcolor": "#2a3f5f",
           "arrowhead": 0,
           "arrowwidth": 1
          },
          "autotypenumbers": "strict",
          "coloraxis": {
           "colorbar": {
            "outlinewidth": 0,
            "ticks": ""
           }
          },
          "colorscale": {
           "diverging": [
            [
             0,
             "#8e0152"
            ],
            [
             0.1,
             "#c51b7d"
            ],
            [
             0.2,
             "#de77ae"
            ],
            [
             0.3,
             "#f1b6da"
            ],
            [
             0.4,
             "#fde0ef"
            ],
            [
             0.5,
             "#f7f7f7"
            ],
            [
             0.6,
             "#e6f5d0"
            ],
            [
             0.7,
             "#b8e186"
            ],
            [
             0.8,
             "#7fbc41"
            ],
            [
             0.9,
             "#4d9221"
            ],
            [
             1,
             "#276419"
            ]
           ],
           "sequential": [
            [
             0,
             "#0d0887"
            ],
            [
             0.1111111111111111,
             "#46039f"
            ],
            [
             0.2222222222222222,
             "#7201a8"
            ],
            [
             0.3333333333333333,
             "#9c179e"
            ],
            [
             0.4444444444444444,
             "#bd3786"
            ],
            [
             0.5555555555555556,
             "#d8576b"
            ],
            [
             0.6666666666666666,
             "#ed7953"
            ],
            [
             0.7777777777777778,
             "#fb9f3a"
            ],
            [
             0.8888888888888888,
             "#fdca26"
            ],
            [
             1,
             "#f0f921"
            ]
           ],
           "sequentialminus": [
            [
             0,
             "#0d0887"
            ],
            [
             0.1111111111111111,
             "#46039f"
            ],
            [
             0.2222222222222222,
             "#7201a8"
            ],
            [
             0.3333333333333333,
             "#9c179e"
            ],
            [
             0.4444444444444444,
             "#bd3786"
            ],
            [
             0.5555555555555556,
             "#d8576b"
            ],
            [
             0.6666666666666666,
             "#ed7953"
            ],
            [
             0.7777777777777778,
             "#fb9f3a"
            ],
            [
             0.8888888888888888,
             "#fdca26"
            ],
            [
             1,
             "#f0f921"
            ]
           ]
          },
          "colorway": [
           "#636efa",
           "#EF553B",
           "#00cc96",
           "#ab63fa",
           "#FFA15A",
           "#19d3f3",
           "#FF6692",
           "#B6E880",
           "#FF97FF",
           "#FECB52"
          ],
          "font": {
           "color": "#2a3f5f"
          },
          "geo": {
           "bgcolor": "white",
           "lakecolor": "white",
           "landcolor": "#E5ECF6",
           "showlakes": true,
           "showland": true,
           "subunitcolor": "white"
          },
          "hoverlabel": {
           "align": "left"
          },
          "hovermode": "closest",
          "mapbox": {
           "style": "light"
          },
          "paper_bgcolor": "white",
          "plot_bgcolor": "#E5ECF6",
          "polar": {
           "angularaxis": {
            "gridcolor": "white",
            "linecolor": "white",
            "ticks": ""
           },
           "bgcolor": "#E5ECF6",
           "radialaxis": {
            "gridcolor": "white",
            "linecolor": "white",
            "ticks": ""
           }
          },
          "scene": {
           "xaxis": {
            "backgroundcolor": "#E5ECF6",
            "gridcolor": "white",
            "gridwidth": 2,
            "linecolor": "white",
            "showbackground": true,
            "ticks": "",
            "zerolinecolor": "white"
           },
           "yaxis": {
            "backgroundcolor": "#E5ECF6",
            "gridcolor": "white",
            "gridwidth": 2,
            "linecolor": "white",
            "showbackground": true,
            "ticks": "",
            "zerolinecolor": "white"
           },
           "zaxis": {
            "backgroundcolor": "#E5ECF6",
            "gridcolor": "white",
            "gridwidth": 2,
            "linecolor": "white",
            "showbackground": true,
            "ticks": "",
            "zerolinecolor": "white"
           }
          },
          "shapedefaults": {
           "line": {
            "color": "#2a3f5f"
           }
          },
          "ternary": {
           "aaxis": {
            "gridcolor": "white",
            "linecolor": "white",
            "ticks": ""
           },
           "baxis": {
            "gridcolor": "white",
            "linecolor": "white",
            "ticks": ""
           },
           "bgcolor": "#E5ECF6",
           "caxis": {
            "gridcolor": "white",
            "linecolor": "white",
            "ticks": ""
           }
          },
          "title": {
           "x": 0.05
          },
          "xaxis": {
           "automargin": true,
           "gridcolor": "white",
           "linecolor": "white",
           "ticks": "",
           "title": {
            "standoff": 15
           },
           "zerolinecolor": "white",
           "zerolinewidth": 2
          },
          "yaxis": {
           "automargin": true,
           "gridcolor": "white",
           "linecolor": "white",
           "ticks": "",
           "title": {
            "standoff": 15
           },
           "zerolinecolor": "white",
           "zerolinewidth": 2
          }
         }
        }
       }
      }
     },
     "metadata": {},
     "output_type": "display_data"
    }
   ],
   "source": [
    "# Standardize the Data\n",
    "X = StandardScaler().fit_transform(X)\n",
    "\n",
    "# Create dataframe from the standardized data and visulize it in 3D\n",
    "col_names = ['sepal_length', 'sepal_width', 'petal_length', 'petal_width']\n",
    "df = pd.DataFrame(X, columns=col_names)\n",
    "df['specie'] = [iris.target_names[s] for s in y]  # Add 1 to the specie_id to start from 1\n",
    "\n",
    "print(df.head())\n",
    "\n",
    "fig = px.scatter_3d(df, x='sepal_length', y='sepal_width', \n",
    "                    z='petal_length',  color='specie')\n",
    "\n",
    "fig.update_layout(scene_camera=dict(up=dict(x=0, y=0, z=1), \n",
    "                                    center=dict(x=0, y=0, z=-0.1),\n",
    "                                    eye=dict(x=1.5, y=-1.4, z=0.5)),\n",
    "                    margin=dict(l=0, r=0, b=0, t=0))\n",
    "\n",
    "fig.show()\n"
   ]
  },
  {
   "cell_type": "code",
   "execution_count": 59,
   "metadata": {},
   "outputs": [
    {
     "name": "stdout",
     "output_type": "stream",
     "text": [
      "(150, 2)\n",
      "[[-2.26470281  0.4800266 ]\n",
      " [-2.08096115 -0.67413356]\n",
      " [-2.36422905 -0.34190802]\n",
      " [-2.29938422 -0.59739451]\n",
      " [-2.38984217  0.64683538]]\n"
     ]
    }
   ],
   "source": [
    "# Apply PCA with two components\n",
    "pca = PCA(n_components=2)\n",
    "# Fit the model with X and apply the dimensionality reduction on X\n",
    "# It does all of the heavy liftings and returns the transformed data\n",
    "X_pca = pca.fit_transform(X)\n",
    "print(X_pca.shape)\n",
    "print(X_pca[:5])"
   ]
  },
  {
   "cell_type": "markdown",
   "metadata": {},
   "source": [
    "In this example, PCA is used to reduce the four original features of the Iris dataset (sepal length, sepal width, petal length, and petal width) into two principal components."
   ]
  },
  {
   "cell_type": "code",
   "execution_count": 60,
   "metadata": {},
   "outputs": [
    {
     "name": "stdout",
     "output_type": "stream",
     "text": [
      "     sepal_length  sepal_width  petal_length  petal_width\n",
      "PC1      0.271510     0.072548      0.336879     0.319063\n",
      "PC2      0.142444     0.852475      0.000600     0.004481\n"
     ]
    },
    {
     "data": {
      "text/plain": [
       "<Axes: >"
      ]
     },
     "execution_count": 60,
     "metadata": {},
     "output_type": "execute_result"
    },
    {
     "data": {
      "image/png": "[encoded data removed]",
      "text/plain": [
       "<Figure size 640x480 with 2 Axes>"
      ]
     },
     "metadata": {},
     "output_type": "display_data"
    }
   ],
   "source": [
    "# Let's look at the contributions of variables to\n",
    "# each principal component with pca.components_** 2. \n",
    "# We then use a heat map to showcase this\n",
    "coefficients = pca.components_** 2\n",
    "coefficient_matrix = pd.DataFrame(coefficients, columns=col_names, index=['PC1', 'PC2'])\n",
    "\n",
    "print(coefficient_matrix)\n",
    "sns.heatmap(coefficient_matrix, cmap='YlOrBr', annot=True, fmt=\".2f\", square=True)"
   ]
  },
  {
   "cell_type": "markdown",
   "metadata": {},
   "source": [
    "In our example, we can see that PC1 is made from 27% of sepal_length, 34% of petal_length and 32% of petal_width. PCA2 is primarily dominated by sepal_width."
   ]
  },
  {
   "cell_type": "markdown",
   "metadata": {},
   "source": [
    "The reduced data is then visualized in a 2D plot. This demonstrates how dimensionality reduction can simplify data representation while preserving the essential patterns."
   ]
  },
  {
   "cell_type": "code",
   "execution_count": 68,
   "metadata": {},
   "outputs": [
    {
     "data": {
      "image/png": "[encoded data removed]",
      "text/plain": [
       "<Figure size 800x600 with 1 Axes>"
      ]
     },
     "metadata": {},
     "output_type": "display_data"
    }
   ],
   "source": [
    "# Plot the results\n",
    "plt.figure(figsize=(8, 6))\n",
    "\"\"\"\n",
    "The PCA transformation is stored in the variable `X_pca`, \n",
    "and the original labels of the data are stored in `y`.\n",
    "\n",
    "The `for` loop iterates over the range of the length of `iris.target_names`, \n",
    "which represents the number of unique labels or species in the Iris dataset. \n",
    "For each iteration, it creates a scatter plot for a specific species.\n",
    "\n",
    "In the `plt.scatter` function, `X_pca[y == i, 0]` and `X_pca[y == i, 1]` \n",
    "are the x and y coordinates of the scatter plot respectively. \n",
    "Here, `y == i` is used to filter the rows of `X_pca` for a specific species,\n",
    " and `0` and `1` are used to select the first and \n",
    " second columns of `X_pca` respectively. These two columns \n",
    " represent the first two principal components of the data.\n",
    "\n",
    "The `label` parameter in the `plt.scatter` function is used to \n",
    "assign a label to the points in the scatter plot. This label \n",
    "is set to the name of the species, which is retrieved \n",
    "from `iris.target_names[i]`.\n",
    "\n",
    "In summary, this code is creating a scatter plot of the first \n",
    "two principal components of the Iris dataset, with each species represented \n",
    "by a different set of points.\n",
    "\"\"\"\n",
    "# use colormap\n",
    "colors = ['blue', 'red', 'green']\n",
    "\n",
    "for i in range(len(iris.target_names)):\n",
    "    plt.scatter(X_pca[y == i, 0], X_pca[y == i, 1], label=iris.target_names[i],\n",
    "                color=colors[i])\n",
    "\n",
    "plt.title('PCA: Iris Dataset')\n",
    "plt.xlabel('Principal Component 1')\n",
    "plt.ylabel('Principal Component 2')\n",
    "plt.legend()\n",
    "plt.show()"
   ]
  }
 ],
 "metadata": {
  "kernelspec": {
   "display_name": "cmps460",
   "language": "python",
   "name": "python3"
  },
  "language_info": {
   "codemirror_mode": {
    "name": "ipython",
    "version": 3
   },
   "file_extension": ".py",
   "mimetype": "text/x-python",
   "name": "python",
   "nbconvert_exporter": "python",
   "pygments_lexer": "ipython3",
   "version": "3.12.1"
  }
 },
 "nbformat": 4,
 "nbformat_minor": 2
}
