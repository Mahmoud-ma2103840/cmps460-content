{
 "cells": [
  {
   "cell_type": "code",
   "execution_count": 5,
   "metadata": {},
   "outputs": [
    {
     "name": "stdout",
     "output_type": "stream",
     "text": [
      "Original DataFrame:\n",
      "   order_id  customer_id product_id  quantity  order_date\n",
      "0         1          101     ABC123         2  2024-02-10\n",
      "1         2          102     XYZ789         1  2024-02-11\n",
      "2         3          101     ABC123         2  2024-02-10\n",
      "3         4          103     DEF456         3  2024-02-12\n",
      "4         5          104     XYZ789         1  2024-02-11\n",
      "\n",
      "Deduplicated DataFrame:\n",
      "   order_id  customer_id product_id  quantity  order_date\n",
      "0         1          101     ABC123         2  2024-02-10\n",
      "1         2          102     XYZ789         1  2024-02-11\n",
      "3         4          103     DEF456         3  2024-02-12\n",
      "4         5          104     XYZ789         1  2024-02-11\n"
     ]
    }
   ],
   "source": [
    "import pandas as pd\n",
    "\n",
    "\"\"\"\n",
    "Let's say you work for an e-commerce company that collects data on customer orders. \n",
    "Sometimes, due to technical glitches or human errors, duplicate entries of orders\n",
    "may appear in your dataset.\n",
    "e.g., there's a duplicate entry at index 2, where the same order appears twice \n",
    "(order_id 3 and order_id 1) due to an error. \n",
    "\"\"\"\n",
    "# Define the dataset\n",
    "data = {\n",
    "    'order_id': [1, 2, 3, 4, 5],\n",
    "    'customer_id': [101, 102, 101, 103, 104],\n",
    "    'product_id': ['ABC123', 'XYZ789', 'ABC123', 'DEF456', 'XYZ789'],\n",
    "    'quantity': [2, 1, 2, 3, 1],\n",
    "    'order_date': ['2024-02-10', '2024-02-11', '2024-02-10', '2024-02-12', '2024-02-11']\n",
    "}\n",
    "\n",
    "# Create a DataFrame\n",
    "df = pd.DataFrame(data)\n",
    "\n",
    "# Display the original DataFrame\n",
    "print(\"Original DataFrame:\")\n",
    "print(df)\n",
    "\n",
    "# Deduplicate based on all columns excpet 'order_id'\n",
    "df_deduped = df.drop_duplicates(subset=df.columns.difference(['order_id']))\n",
    "\n",
    "# Display the deduplicated DataFrame\n",
    "print(\"\\nDeduplicated DataFrame:\")\n",
    "print(df_deduped)\n"
   ]
  }
 ],
 "metadata": {
  "kernelspec": {
   "display_name": "cmps460",
   "language": "python",
   "name": "python3"
  },
  "language_info": {
   "codemirror_mode": {
    "name": "ipython",
    "version": 3
   },
   "file_extension": ".py",
   "mimetype": "text/x-python",
   "name": "python",
   "nbconvert_exporter": "python",
   "pygments_lexer": "ipython3",
   "version": "3.12.1"
  }
 },
 "nbformat": 4,
 "nbformat_minor": 2
}
