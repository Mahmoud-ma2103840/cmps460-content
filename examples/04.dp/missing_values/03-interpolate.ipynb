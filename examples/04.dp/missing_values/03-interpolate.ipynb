import pandas as pd
import numpy as np

# Creating a sample dataset with missing values
data = {
    'Time': pd.date_range(start='2024-02-20 00:00:00', end='2024-02-20 12:00:00', freq='H'),
    'Temperature': [20.0, 21.0, np.nan, np.nan, 22.0, np.nan, np.nan, 24.0, 25.0, np.nan, np.nan, 27.0]
}

df = pd.DataFrame(data)

# Display the original dataset
print("Original Dataset:")
print(df)

# Interpolating missing values using linear interpolation
df['Temperature_Interpolated'] = df['Temperature'].interpolate(method='linear')

# Display the dataset with interpolated values
print("\nDataset with Interpolated Values:")
print(df)