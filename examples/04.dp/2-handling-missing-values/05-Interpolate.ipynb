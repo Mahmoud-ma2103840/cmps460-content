{
 "cells": [
  {
   "cell_type": "code",
   "execution_count": null,
   "metadata": {},
   "outputs": [],
   "source": [
    "import pandas as pd\n",
    "import numpy as np\n",
    "\n",
    "# Creating a sample dataset with missing values\n",
    "data = {\n",
    "    'Time': pd.date_range(start='2024-02-20 00:00:00', end='2024-02-20 12:00:00', freq='H'),\n",
    "    'Temperature': [20.0, 21.0, np.nan, np.nan, 22.0, np.nan, np.nan, 24.0, 25.0, np.nan, np.nan, 27.0]\n",
    "}\n",
    "\n",
    "df = pd.DataFrame(data)\n",
    "\n",
    "# Display the original dataset\n",
    "print(\"Original Dataset:\")\n",
    "print(df)\n",
    "\n",
    "# Interpolating missing values using linear interpolation\n",
    "# Linear interpolation fills the missing values with the average \n",
    "# of the previous and next values\n",
    "df['Temperature_Interpolated'] = df['Temperature'].interpolate(method='linear')\n",
    "\n",
    "# Display the dataset with interpolated values\n",
    "print(\"\\nDataset with Interpolated Values:\")\n",
    "print(df)"
   ]
  }
 ],
 "metadata": {
  "language_info": {
   "name": "python"
  }
 },
 "nbformat": 4,
 "nbformat_minor": 2
}
