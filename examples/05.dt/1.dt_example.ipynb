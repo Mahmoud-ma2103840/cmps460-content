{
 "cells": [
  {
   "cell_type": "code",
   "execution_count": 2,
   "metadata": {},
   "outputs": [],
   "source": [
    "# Importing the libraries\n",
    "import pandas as pd\n",
    "import numpy as np\n",
    "import matplotlib.pyplot as plt\n",
    "\n",
    "from sklearn.datasets import load_iris\n",
    "\n",
    "# Import Library for splitting data\n",
    "from sklearn.model_selection import train_test_split\n",
    "\n",
    "# Import Library for Decision Tree Classifier\n",
    "from sklearn.tree import DecisionTreeClassifier\n",
    "from sklearn.metrics import accuracy_score, confusion_matrix\n",
    "from sklearn.tree import plot_tree\n",
    "\n",
    "from sklearn.inspection import DecisionBoundaryDisplay"
   ]
  },
  {
   "cell_type": "markdown",
   "metadata": {},
   "source": [
    "Iris Dataset\n",
    "---\n",
    "The data set is stored in a 150x4 ndarray.  \n",
    "Each row (iris) is described by four features (Sepal Length, Sepal Width, Petal Length and Petal Width). \n",
    "It has three different types of irises (Setosa, Versicolour, and Virginica). "
   ]
  },
  {
   "cell_type": "code",
   "execution_count": null,
   "metadata": {},
   "outputs": [
    {
     "name": "stdout",
     "output_type": "stream",
     "text": [
      "(112, 2)\n",
      "[[5.1 3.5]\n",
      " [4.9 3. ]\n",
      " [4.7 3.2]\n",
      " [4.6 3.1]\n",
      " [5.  3.6]]\n",
      "(112,)\n",
      "[1 0 0 1 2]\n"
     ]
    }
   ],
   "source": [
    "# Reading the Iris.csv file\n",
    "iris_ds = load_iris()\n",
    "\n",
    "# Extracting Attributes / Features\n",
    "X = iris_ds.data[:, :2] #iris_ds.data\n",
    "\n",
    "# Extracting Target / Class Labels\n",
    "y = iris_ds.target\n",
    "\n",
    "# Creating Train and Test datasets\n",
    "X_train, X_test, y_train, y_test = train_test_split(X,y, random_state = 50, test_size = 0.25)\n",
    "\n",
    "print(X_train.shape)\n",
    "print(X[:5])\n",
    "print(y_train.shape)\n",
    "print(y_train[:5])"
   ]
  },
  {
   "cell_type": "code",
   "execution_count": null,
   "metadata": {},
   "outputs": [
    {
     "name": "stdout",
     "output_type": "stream",
     "text": [
      "Train data accuracy: 0.9553571428571429\n",
      "Test data accuracy: 0.7105263157894737\n"
     ]
    },
    {
     "data": {
      "text/plain": [
       "array([[9, 2, 0],\n",
       "       [0, 9, 6],\n",
       "       [0, 3, 9]], dtype=int64)"
      ]
     },
     "execution_count": 120,
     "metadata": {},
     "output_type": "execute_result"
    }
   ],
   "source": [
    "# Creating Decision Tree Classifier\n",
    "#decision_tree = DecisionTreeClassifier(criterion='entropy')\n",
    "clf = DecisionTreeClassifier(criterion='entropy')\n",
    "clf.fit(X_train,y_train)\n",
    "\n",
    "# Predicting the class labels for Test Data\n",
    "y_pred = clf.predict(X_test)\n",
    "\n",
    "# Accuracy Score\n",
    "print(\"Train data accuracy:\", accuracy_score(y_true = y_train, y_pred=clf.predict(X_train)))\n",
    "print(\"Test data accuracy:\", accuracy_score(y_true = y_test, y_pred=y_pred))\n",
    "\n",
    "confusion_matrix(y_true = y_test, y_pred=y_pred)"
   ]
  },
  {
   "cell_type": "code",
   "execution_count": null,
   "metadata": {},
   "outputs": [
    {
     "ename": "NameError",
     "evalue": "name 'plt' is not defined",
     "output_type": "error",
     "traceback": [
      "\u001b[1;31m---------------------------------------------------------------------------\u001b[0m",
      "\u001b[1;31mNameError\u001b[0m                                 Traceback (most recent call last)",
      "Cell \u001b[1;32mIn[1], line 2\u001b[0m\n\u001b[0;32m      1\u001b[0m \u001b[38;5;66;03m# Plotting the Decision Tree\u001b[39;00m\n\u001b[1;32m----> 2\u001b[0m \u001b[43mplt\u001b[49m\u001b[38;5;241m.\u001b[39mfigure(figsize\u001b[38;5;241m=\u001b[39m(\u001b[38;5;241m12\u001b[39m,\u001b[38;5;241m6\u001b[39m))\n\u001b[0;32m      3\u001b[0m col_names \u001b[38;5;241m=\u001b[39m [\u001b[38;5;124m'\u001b[39m\u001b[38;5;124msepal_length\u001b[39m\u001b[38;5;124m'\u001b[39m, \u001b[38;5;124m'\u001b[39m\u001b[38;5;124msepal_width\u001b[39m\u001b[38;5;124m'\u001b[39m, \u001b[38;5;124m'\u001b[39m\u001b[38;5;124mpetal_length\u001b[39m\u001b[38;5;124m'\u001b[39m, \u001b[38;5;124m'\u001b[39m\u001b[38;5;124mpetal_width\u001b[39m\u001b[38;5;124m'\u001b[39m]\n\u001b[0;32m      4\u001b[0m plot_tree(clf, filled\u001b[38;5;241m=\u001b[39m\u001b[38;5;28;01mTrue\u001b[39;00m, feature_names\u001b[38;5;241m=\u001b[39mcol_names, class_names\u001b[38;5;241m=\u001b[39miris_ds\u001b[38;5;241m.\u001b[39mtarget_names)\n",
      "\u001b[1;31mNameError\u001b[0m: name 'plt' is not defined"
     ]
    }
   ],
   "source": [
    "# Plotting the Decision Tree\n",
    "plt.figure(figsize=(12,6))\n",
    "col_names = ['sepal_length', 'sepal_width', 'petal_length', 'petal_width']\n",
    "plot_tree(clf, filled=True, feature_names=col_names, class_names=iris_ds.target_names)\n",
    "plt.title(\"Decision tree trained on iris dataset\")\n",
    "plt.show()"
   ]
  }
 ],
 "metadata": {
  "kernelspec": {
   "display_name": "cmps460",
   "language": "python",
   "name": "python3"
  },
  "language_info": {
   "codemirror_mode": {
    "name": "ipython",
    "version": 3
   },
   "file_extension": ".py",
   "mimetype": "text/x-python",
   "name": "python",
   "nbconvert_exporter": "python",
   "pygments_lexer": "ipython3",
   "version": "3.12.1"
  }
 },
 "nbformat": 4,
 "nbformat_minor": 2
}
