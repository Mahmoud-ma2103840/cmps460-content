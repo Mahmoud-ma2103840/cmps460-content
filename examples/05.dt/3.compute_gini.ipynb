{
 "cells": [
  {
   "cell_type": "markdown",
   "metadata": {},
   "source": [
    "This function first calculates the frequency of each letter in the input array using the Counter class from the collections module. Then, it computes the probability of each letter occurrence. Finally, it calculates the Gini Index using the formula for Gini Index. The function returns the Gini Index."
   ]
  },
  {
   "cell_type": "code",
   "execution_count": 1,
   "metadata": {},
   "outputs": [
    {
     "name": "stdout",
     "output_type": "stream",
     "text": [
      "Gini Index: 0.6666666666666667\n"
     ]
    }
   ],
   "source": [
    "from collections import Counter\n",
    "\n",
    "def gini_index(list):\n",
    "    \"\"\"\n",
    "    Compute the Gini Index of a list of letters.\n",
    "    Parameters:\n",
    "        - list: list of letters\n",
    "    Returns:\n",
    "        - gini_index: float value representing the Gini Index\n",
    "    \"\"\"\n",
    "    # Count the occurrences of each letter\n",
    "    letter_counts = Counter(list)\n",
    "    \n",
    "    # Compute the total number of letters\n",
    "    total_letters = len(list)\n",
    "    \n",
    "    # Calculate the probability of each letter\n",
    "    probabilities = [count / total_letters for count in letter_counts.values()]\n",
    "    \n",
    "    # Compute the Gini Index\n",
    "    gini_index = 1 - sum(p ** 2 for p in probabilities)\n",
    "    \n",
    "    return gini_index\n",
    "\n",
    "# Example usage:\n",
    "letters = ['a', 'b', 'c', 'a', 'b', 'c', 'a', 'b', 'c', 'a', 'b', 'c']\n",
    "print(\"Gini Index:\", gini_index(letters))"
   ]
  },
  {
   "cell_type": "code",
   "execution_count": 3,
   "metadata": {},
   "outputs": [
    {
     "name": "stdout",
     "output_type": "stream",
     "text": [
      "Gini Index:  0.4444444444444444\n",
      "Gini Index:  0.4444444444444444\n"
     ]
    }
   ],
   "source": [
    "female_node = ['T', 'Y', 'Y']\n",
    "male_node = ['F', 'T', 'T']\n",
    "\n",
    "print(\"Gini Index: \", gini_index(female_node))\n",
    "print(\"Gini Index: \", gini_index(male_node))\n",
    "\n"
   ]
  }
 ],
 "metadata": {
  "kernelspec": {
   "display_name": "cmps460",
   "language": "python",
   "name": "python3"
  },
  "language_info": {
   "codemirror_mode": {
    "name": "ipython",
    "version": 3
   },
   "file_extension": ".py",
   "mimetype": "text/x-python",
   "name": "python",
   "nbconvert_exporter": "python",
   "pygments_lexer": "ipython3",
   "version": "3.12.1"
  }
 },
 "nbformat": 4,
 "nbformat_minor": 2
}
