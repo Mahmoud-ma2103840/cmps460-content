{
 "cells": [
  {
   "cell_type": "markdown",
   "metadata": {},
   "source": [
    "This function first calculates the frequency of each letter in the input array using the Counter class from the collections module. Then, it computes the probability of each letter occurrence. Finally, it calculates the entropy using the formula for entropy. The entropy is returned as the output."
   ]
  },
  {
   "cell_type": "code",
   "execution_count": 1,
   "metadata": {},
   "outputs": [
    {
     "name": "stdout",
     "output_type": "stream",
     "text": [
      "Entropy: 1.584962500721156\n"
     ]
    }
   ],
   "source": [
    "import math\n",
    "from collections import Counter\n",
    "\n",
    "def entropy(list):\n",
    "    \"\"\"\n",
    "    Compute the entropy of an list of letters.\n",
    "    Parameters:\n",
    "        - list: list of letters\n",
    "    Returns:\n",
    "        - entropy: float value representing the entropy\n",
    "    \"\"\"\n",
    "    # Count the occurrences of each letter\n",
    "    letter_counts = Counter(list)\n",
    "    \n",
    "    # Compute the total number of letters\n",
    "    total_letters = len(list)\n",
    "    \n",
    "    # Calculate the probability of each letter\n",
    "    probabilities = [count / total_letters for count in letter_counts.values()]\n",
    "    \n",
    "    # Compute entropy\n",
    "    entropy = -sum(p * math.log2(p) for p in probabilities if p != 0)\n",
    "    \n",
    "    return entropy\n",
    "\n",
    "# Example usage:\n",
    "letters = ['a', 'b', 'c', 'a', 'b', 'c', 'a', 'b', 'c', 'a', 'b', 'c']\n",
    "print(\"Entropy:\", entropy(letters))\n"
   ]
  },
  {
   "cell_type": "code",
   "execution_count": 2,
   "metadata": {},
   "outputs": [
    {
     "name": "stdout",
     "output_type": "stream",
     "text": [
      "Entropy 0.9182958340544896\n",
      "Entropy   0.9182958340544896\n"
     ]
    }
   ],
   "source": [
    "female_node = ['T', 'Y', 'Y']\n",
    "male_node = ['F', 'T', 'T']\n",
    "\n",
    "print(\"Entropy: \", entropy(female_node))\n",
    "print(\"Entropy: \", entropy(male_node))"
   ]
  }
 ],
 "metadata": {
  "kernelspec": {
   "display_name": "cmps460",
   "language": "python",
   "name": "python3"
  },
  "language_info": {
   "codemirror_mode": {
    "name": "ipython",
    "version": 3
   },
   "file_extension": ".py",
   "mimetype": "text/x-python",
   "name": "python",
   "nbconvert_exporter": "python",
   "pygments_lexer": "ipython3",
   "version": "3.12.1"
  }
 },
 "nbformat": 4,
 "nbformat_minor": 2
}
