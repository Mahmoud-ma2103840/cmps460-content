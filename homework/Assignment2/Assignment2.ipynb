{
 "cells": [
  {
   "cell_type": "markdown",
   "metadata": {},
   "source": [
    "# Assignment 2, Due by 9am Sunday, 10 March 2024\n",
    "\n",
    "### Name: -------           Student ID: ----------"
   ]
  },
  {
   "cell_type": "markdown",
   "metadata": {},
   "source": [
    "1) [50 pts] Using the 'Buy iphone' dataset shown in the table below, build a decision tree using pen and paper (or any drawing tool). Show the steps of the algorithm and the final decision tree (Use either the Gini Impurity Index or the Entropy).\n",
    "Submit a PDF file named `tree.pdf` having clear pictures of your decision tree constructions steps as well as the computation done for deciding the appropriate splits.\n",
    "\n",
    "2) [5 pts] Then use the decision tree to predict the class of the following new instance: Age<=20, Income=Medium, Is_Student=Yes, Credit_Rating=Fair\n",
    "\n",
    "| Age             | Income | Is_Student | Credit_Rating | Buy_iPhone |\n",
    "| --------------- | ------ | ---------- | ------------- | ---------- |\n",
    "| Less than 25    | High   | No         | Fair          | No         |\n",
    "| Less than 25    | High   | No         | Excellent     | No         |\n",
    "| 25 to 35        | High   | No         | Fair          | Yes        |\n",
    "| Greater than 35 | Medium | No         | Fair          | Yes        |\n",
    "| Greater than 35 | Low    | Yes        | Fair          | Yes        |\n",
    "| Greater than 35 | Low    | Yes        | Excellent     | No         |\n",
    "| 25 to 35        | Low    | Yes        | Excellent     | Yes        |\n",
    "| Less than 25    | Medium | No         | Fair          | No         |\n",
    "| Less than 25    | Low    | Yes        | Fair          | Yes        |\n",
    "| Greater than 35 | Medium | Yes        | Fair          | Yes        |\n",
    "| Less than 25    | Medium | Yes        | Excellent     | Yes        |\n",
    "| 25 to 35        | Medium | No         | Excellent     | Yes        |\n",
    "| 25 to 35        | High   | Yes        | Fair          | Yes        |\n",
    "| Greater than 35 | Medium | No         | Excellent     | No         |"
   ]
  },
  {
   "cell_type": "code",
   "execution_count": null,
   "metadata": {},
   "outputs": [],
   "source": [
    "import pandas as pd\n",
    "from sklearn.tree import DecisionTreeClassifier\n",
    "from sklearn.preprocessing import OneHotEncoder\n",
    "from sklearn.preprocessing import LabelEncoder\n",
    "from sklearn.model_selection import train_test_split\n",
    "from sklearn.metrics import accuracy_score\n",
    "from sklearn.tree import plot_tree\n",
    "from sklearn.ensemble import RandomForestClassifier\n",
    "\n",
    "from sklearn import metrics #Import scikit-learn metrics module for accuracy calculation\n",
    "from sklearn.metrics import confusion_matrix, ConfusionMatrixDisplay\n",
    "from sklearn.model_selection import cross_val_score\n",
    "\n",
    "import matplotlib.pyplot as plt"
   ]
  },
  {
   "cell_type": "markdown",
   "metadata": {},
   "source": [
    "2) [Total 13 pts] \n",
    "- [1 pt] Load the `dataset.csv` (available on the same folder as this notebook) into a Pandas frame. Display the first 5 rows of the dataset.\n",
    "- [12 pts] Preprocess the dataset by encoding the categorical variables using the `LabelEncoder` for the target variable and the `OneHotEncoder` for the features.\n",
    "- Display the first 5 rows of the dataset after the preprocessing."
   ]
  },
  {
   "cell_type": "code",
   "execution_count": null,
   "metadata": {},
   "outputs": [],
   "source": [
    "# Place your code here\n",
    "\n"
   ]
  },
  {
   "cell_type": "markdown",
   "metadata": {},
   "source": [
    "2) [Total 13 pts]\n",
    "- [3 pts] Split the dataset into 80% training set and 20% testing sets. \n",
    "- [3 pts] Train the model using the training set. \n",
    "- [3 pts] Plot the decision tree.\n",
    "- [4 pts] Report the training accuracy and the testing accuracy of the trained decision tree.\n",
    "\n"
   ]
  },
  {
   "cell_type": "code",
   "execution_count": null,
   "metadata": {},
   "outputs": [],
   "source": [
    "# Place your code here"
   ]
  },
  {
   "cell_type": "markdown",
   "metadata": {},
   "source": [
    "3) [Total 9 pts] Evaluate the model using the testing set:\n",
    "- [3 pts] Display the confusion matrix. \n",
    "- [2 pts] Display the classification report.\n",
    "- [4 pts] Add some intrepretation and insights about the model performance."
   ]
  },
  {
   "cell_type": "code",
   "execution_count": null,
   "metadata": {},
   "outputs": [],
   "source": [
    "# Place your solution here"
   ]
  },
  {
   "cell_type": "markdown",
   "metadata": {},
   "source": [
    "3) [Total 10 pts] \n",
    "- [4 pts] Train a random forest model using the training set and evaluate it using the testing set. Fine-tune the number of trees used and the max_samples (try different numbers) and select the value that yield the best accuracy. Only include the best parameters in the final submittion.\n",
    "- [3 pts] Report the accuracies for the 5-fold cross validation (use cv=5) including the mean and standard deviation.\n",
    "- [3 pts] Compare the performance of the decision tree and the random forest model. Include some intrepretation and insights."
   ]
  },
  {
   "cell_type": "code",
   "execution_count": null,
   "metadata": {},
   "outputs": [],
   "source": [
    "# Place your solution here"
   ]
  },
  {
   "cell_type": "markdown",
   "metadata": {},
   "source": [
    "- Submit to your GitHub repository (1) the PDF file named `tree.pdf` and (2) this Jupyter Notebook including your implementation code and the execution results."
   ]
  }
 ],
 "metadata": {
  "kernelspec": {
   "display_name": "Python 3 (ipykernel)",
   "language": "python",
   "name": "python3"
  },
  "language_info": {
   "codemirror_mode": {
    "name": "ipython",
    "version": 3
   },
   "file_extension": ".py",
   "mimetype": "text/x-python",
   "name": "python",
   "nbconvert_exporter": "python",
   "pygments_lexer": "ipython3",
   "version": "3.12.1"
  }
 },
 "nbformat": 4,
 "nbformat_minor": 1
}
