{
 "cells": [
  {
   "cell_type": "markdown",
   "metadata": {},
   "source": [
    "### Assignment 4, Due Thursday, 9 May, 2024 @ 11:59PM\n",
    "\n",
    "### Name: -------     ID: ----------"
   ]
  },
  {
   "cell_type": "code",
   "execution_count": 219,
   "metadata": {},
   "outputs": [],
   "source": [
    "import numpy as np\n",
    "import matplotlib.pyplot as plt\n",
    "import pandas as pd\n",
    "\n",
    "import torch\n",
    "import torch.nn as nn\n",
    "from sklearn.datasets import load_iris\n",
    "from sklearn.model_selection import train_test_split\n",
    "from sklearn.preprocessing import StandardScaler\n",
    "\n",
    "torch.set_printoptions(precision=4, sci_mode=False)"
   ]
  },
  {
   "cell_type": "markdown",
   "metadata": {},
   "source": [
    "# Q1 Gradient Descent [25 pts]\n",
    "1.1) [5pts] Write function `f(x)` that returns the value of the function $f(x) = 3x^2 + 12x$ \\\n",
    "Test the function by calling it with $x=3$ and print the result"
   ]
  },
  {
   "cell_type": "code",
   "execution_count": 220,
   "metadata": {},
   "outputs": [
    {
     "name": "stdout",
     "output_type": "stream",
     "text": [
      "f(3) = 63\n"
     ]
    }
   ],
   "source": [
    "# Write your code here"
   ]
  },
  {
   "cell_type": "markdown",
   "metadata": {},
   "source": [
    "1.2) [5pts] Plot the function $f(x)$ in the range $-10 \\leq x \\leq 10$"
   ]
  },
  {
   "cell_type": "code",
   "execution_count": 221,
   "metadata": {},
   "outputs": [
    {
     "data": {
      "image/png": "[encoded data removed]",
      "text/plain": [
       "<Figure size 640x480 with 1 Axes>"
      ]
     },
     "metadata": {},
     "output_type": "display_data"
    }
   ],
   "source": [
    "# Write your code here"
   ]
  },
  {
   "cell_type": "markdown",
   "metadata": {},
   "source": [
    "1.3) [5pts] Write function `df(x)` that returns the value of the derivative of the function $f(x)\\\n",
    "Test the df function by calling it with $x=3$ and print the result"
   ]
  },
  {
   "cell_type": "code",
   "execution_count": 222,
   "metadata": {},
   "outputs": [
    {
     "name": "stdout",
     "output_type": "stream",
     "text": [
      "df(3) = 30\n"
     ]
    }
   ],
   "source": [
    "# Write your code here"
   ]
  },
  {
   "cell_type": "markdown",
   "metadata": {},
   "source": [
    "1.4) [10pts] Write a gradient_descent function that finds the minimum for the function $f(x)$.\n",
    "The function should take the following arguments:\n",
    "- `x` : initial guess\n",
    "- `learning_rate` : learning rate with default value of 0.1\n",
    "- `n_iters` : number of iterations with default value of 100\n",
    "\n",
    "Test the method by calling it with $x=10$ and print the result"
   ]
  },
  {
   "cell_type": "code",
   "execution_count": 223,
   "metadata": {},
   "outputs": [
    {
     "name": "stdout",
     "output_type": "stream",
     "text": [
      "x_min = -2.0 f(x_min) = -12.0\n"
     ]
    }
   ],
   "source": [
    "# Write your code here"
   ]
  },
  {
   "cell_type": "markdown",
   "metadata": {},
   "source": [
    "# Q2 PyTorch autograd [25 pts]\n",
    "2.1) [10pts] Reimplement df(x) for getting the gradient of f(x) (done in Q1.3) using PyTorch autograd \\\n",
    "Test the function by calling it with $x=3.0$ and print the result"
   ]
  },
  {
   "cell_type": "code",
   "execution_count": 224,
   "metadata": {},
   "outputs": [
    {
     "name": "stdout",
     "output_type": "stream",
     "text": [
      "df(3) = tensor(30.)\n"
     ]
    }
   ],
   "source": [
    "# Write your code here"
   ]
  },
  {
   "cell_type": "markdown",
   "metadata": {},
   "source": [
    "3.2) [15pts] Reimplement gradient_descent function (done in Q1.4) using PyTorch autograd \\\n",
    "Test the function by calling it with $x=10.0$ and print the result"
   ]
  },
  {
   "cell_type": "code",
   "execution_count": 225,
   "metadata": {},
   "outputs": [
    {
     "name": "stdout",
     "output_type": "stream",
     "text": [
      "x_min = tensor(-2., requires_grad=True) f(x_min) = tensor(-12., grad_fn=<AddBackward0>)\n"
     ]
    }
   ],
   "source": [
    "# Write your code here"
   ]
  },
  {
   "cell_type": "markdown",
   "metadata": {},
   "source": [
    "# Q3 Train a NN using IRIS dataset (50 pts)"
   ]
  },
  {
   "cell_type": "code",
   "execution_count": 226,
   "metadata": {},
   "outputs": [
    {
     "name": "stdout",
     "output_type": "stream",
     "text": [
      "Number of features:  4\n",
      "Number of classes:  3\n",
      "Length of train dataset:  120\n",
      "Length of test dataset:  30\n"
     ]
    }
   ],
   "source": [
    "# Import the iris dataset from sklearn\n",
    "iris = load_iris()\n",
    "X = iris['data']\n",
    "y = iris['target']\n",
    "y_class = iris['target_names']\n",
    "feature_names = iris['feature_names']\n",
    "\n",
    "# Scale data to have mean 0 and variance 1 \n",
    "# which is importance for convergence of the neural network\n",
    "scaler = StandardScaler()\n",
    "X_scaled = scaler.fit_transform(X)\n",
    "\n",
    "# Split the data set into training and testing\n",
    "X_train, X_test, y_train, y_test = train_test_split(\n",
    "    X_scaled, y, test_size=0.2, random_state=42)\n",
    "\n",
    "# Checking the dataset length\n",
    "print(\"Number of features: \", X.shape[1])\n",
    "print(\"Number of classes: \", len(y_class))\n",
    "print(\"Length of train dataset: \", X_train.shape[0])\n",
    "print(\"Length of test dataset: \", X_test.shape[0])\n",
    "\n",
    "# Convert the numpy arrays to PyTorch tensors\n",
    "X_train = torch.tensor(X_train, dtype=torch.float32)\n",
    "y_train = torch.tensor(y_train, dtype=torch.int64)\n",
    "X_test = torch.tensor(X_test, dtype=torch.float32)\n",
    "y_test = torch.tensor(y_test, dtype=torch.int64)"
   ]
  },
  {
   "cell_type": "markdown",
   "metadata": {},
   "source": [
    "3.1) [20pts] Create a neural network model with the following architecture:\n",
    "- Input layer\n",
    "- Hidden layer with 64 units and ReLU activation\n",
    "- Hidden layer with 32 units and ReLU activation\n",
    "- Output layer with 3 units and softmax activation"
   ]
  },
  {
   "cell_type": "code",
   "execution_count": 227,
   "metadata": {},
   "outputs": [],
   "source": [
    "# Write your code here"
   ]
  },
  {
   "cell_type": "markdown",
   "metadata": {},
   "source": [
    "3.2) [20pts] Train the model for 100 epochs and print the training loss every 10 iteration during the training \\\n",
    "- Use the Adam optimizer, CrossEntropyLoss function and a Learning Rate of 0.01"
   ]
  },
  {
   "cell_type": "code",
   "execution_count": 228,
   "metadata": {},
   "outputs": [
    {
     "name": "stdout",
     "output_type": "stream",
     "text": [
      "Epoch [10/100], Loss: 0.7432\n",
      "Epoch [20/100], Loss: 0.6527\n",
      "Epoch [30/100], Loss: 0.5888\n",
      "Epoch [40/100], Loss: 0.5749\n",
      "Epoch [50/100], Loss: 0.5696\n",
      "Epoch [60/100], Loss: 0.5658\n",
      "Epoch [70/100], Loss: 0.5635\n",
      "Epoch [80/100], Loss: 0.5622\n",
      "Epoch [90/100], Loss: 0.5614\n",
      "Epoch [100/100], Loss: 0.5609\n"
     ]
    }
   ],
   "source": [
    "# Write your code here"
   ]
  },
  {
   "cell_type": "markdown",
   "metadata": {},
   "source": [
    "3.3) [10pts] Test the model on the test set and print the following:\n",
    "- Print the first 5 model predictions, predicted classes and actual classes\n",
    "- Compute and print the accuracy of the model"
   ]
  },
  {
   "cell_type": "code",
   "execution_count": 229,
   "metadata": {},
   "outputs": [
    {
     "name": "stdout",
     "output_type": "stream",
     "text": [
      "First 5 model predictions (y_pred) : tensor([[    0.0000,     0.9999,     0.0001],\n",
      "        [    0.9992,     0.0008,     0.0000],\n",
      "        [    0.0000,     0.0000,     1.0000],\n",
      "        [    0.0000,     0.9993,     0.0007],\n",
      "        [    0.0000,     1.0000,     0.0000]])\n",
      "First 5 predicted classes : tensor([1, 0, 2, 1, 1])\n",
      "First 5 actual classes (y_test) : tensor([1, 0, 2, 1, 1])\n",
      "Accuracy:  0.9666666388511658\n"
     ]
    }
   ],
   "source": [
    "# Write your code here"
   ]
  }
 ],
 "metadata": {
  "kernelspec": {
   "display_name": "Python 3 (ipykernel)",
   "language": "python",
   "name": "python3"
  },
  "language_info": {
   "codemirror_mode": {
    "name": "ipython",
    "version": 3
   },
   "file_extension": ".py",
   "mimetype": "text/x-python",
   "name": "python",
   "nbconvert_exporter": "python",
   "pygments_lexer": "ipython3",
   "version": "3.12.1"
  },
  "nav_menu": {},
  "toc": {
   "navigate_menu": true,
   "number_sections": true,
   "sideBar": true,
   "threshold": 6,
   "toc_cell": false,
   "toc_section_display": "block",
   "toc_window_display": false
  }
 },
 "nbformat": 4,
 "nbformat_minor": 4
}
