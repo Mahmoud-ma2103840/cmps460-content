{
 "cells": [
  {
   "cell_type": "code",
   "execution_count": 1,
   "metadata": {},
   "outputs": [
    {
     "ename": "SyntaxError",
     "evalue": "invalid syntax (1535813934.py, line 31)",
     "output_type": "error",
     "traceback": [
      "\u001b[1;36m  Cell \u001b[1;32mIn[1], line 31\u001b[1;36m\u001b[0m\n\u001b[1;33m    latitude = #Obtained from latitude column\u001b[0m\n\u001b[1;37m               ^\u001b[0m\n\u001b[1;31mSyntaxError\u001b[0m\u001b[1;31m:\u001b[0m invalid syntax\n"
     ]
    }
   ],
   "source": [
    "import requests\n",
    "from geopy.distance import geodesic    \n",
    "\n",
    "def find_nearest_amenity(latitude, longitude, amenity_type, radius=1000):\n",
    "    overpass_url = \"http://overpass-api.de/api/interpreter\"\n",
    "    overpass_query = f\"\"\"\n",
    "    [out:json];\n",
    "    (\n",
    "      node[\"amenity\"=\"{amenity_type}\"](around:{radius},{latitude},{longitude});\n",
    "    );\n",
    "    out center;\n",
    "    \"\"\"\n",
    "    \n",
    "    response = requests.get(overpass_url, params={'data': overpass_query})\n",
    "    data = response.json()\n",
    "\n",
    "    if not data.get('elements'):\n",
    "        return None\n",
    "\n",
    "    for element in elements:\n",
    "        element['distance'] = distance((longitude, latitude), (element['lon'], element['lat'])).kilometers\n",
    "    nearest = min(elements, key=lambda x: x['distance'])\n",
    "\n",
    "    return {\n",
    "        'name': nearest.get('tags', {}).get('name', 'Name not available'),\n",
    "        'latitude': nearest.get('lat'),\n",
    "        'longitude': nearest.get('lon'),\n",
    "        'amenity_type': amenity_type\n",
    "    }\n",
    "\n",
    "latitude = #Obtained from latitude column\n",
    "longitude = #Obtained from longitude column\n",
    "\n",
    "for amenity in ['hospital', 'school', 'mall', 'metro_station']:\n",
    "    nearest = find_nearest_amenity(latitude, longitude, amenity)\n",
    "    # Write the output to 4 different columns, one for each amenity"
   ]
  }
 ],
 "metadata": {
  "kernelspec": {
   "display_name": "cmps460",
   "language": "python",
   "name": "python3"
  },
  "language_info": {
   "codemirror_mode": {
    "name": "ipython",
    "version": 3
   },
   "file_extension": ".py",
   "mimetype": "text/x-python",
   "name": "python",
   "nbconvert_exporter": "python",
   "pygments_lexer": "ipython3",
   "version": "3.12.1"
  }
 },
 "nbformat": 4,
 "nbformat_minor": 2
}
